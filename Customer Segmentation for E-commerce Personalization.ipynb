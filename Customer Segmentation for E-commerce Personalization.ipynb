{
 "cells": [
  {
   "cell_type": "markdown",
   "id": "a5bfe6e1-7729-4327-96f7-2ed2b209c0ab",
   "metadata": {},
   "source": [
    "# Project Overview"
   ]
  },
  {
   "cell_type": "markdown",
   "id": "3f1f7a64-df96-422d-a6bc-71595832d447",
   "metadata": {},
   "source": [
    "**Project Objective**\n",
    "\n",
    "- This project involves the use of K-means clustering and PCA (Principal Component Analysis) for performing customer segmentation based on purchasing behavior within an e-commerce dataset.\n",
    "- The aim is to discover distinct groups of customers with similar preferences and behaviors to enable personalized marketing strategies and recommendations."
   ]
  },
  {
   "cell_type": "markdown",
   "id": "79b1f42c-cf4e-4c0f-ac63-6e47fb7907a3",
   "metadata": {},
   "source": [
    "**Dataset Information**\n",
    "\n",
    "- The dataset will be used in this project is Online Retail Dataset from the UCI Machine Learning Repository.\n",
    "- Dataset can be accessed at: https://archive.ics.uci.edu/ml/datasets/online+retail.\n",
    "- This is a transnational data set which contains all the transactions occurring between 01/12/2010 and 09/12/2011 for a UK-based and registered non-store online retail.The company mainly sells unique all-occasion gifts. Many customers of the company are wholesalers."
   ]
  },
  {
   "cell_type": "markdown",
   "id": "2464bff2-bd87-41f1-ae48-abf7e13aeb9d",
   "metadata": {},
   "source": [
    "# **<center>Steps</center>**"
   ]
  },
  {
   "cell_type": "markdown",
   "id": "e33fb503-7915-4376-843e-02345dfea0bf",
   "metadata": {},
   "source": [
    "### **1. Data Understanding & Data Preparation**"
   ]
  },
  {
   "cell_type": "markdown",
   "id": "903ef81b-50cc-4b2a-92e8-4e65a5c2a587",
   "metadata": {},
   "source": [
    "- Importing the necessary libraries. \n",
    "- Read the data.\n",
    "- Data describtion.\n",
    "- Data Exploration, Handling missing values and Handling Duplicates.\n",
    "- Data Cleaning & Transformation: make this for each variable at a time."
   ]
  },
  {
   "cell_type": "markdown",
   "id": "8dc7e9e2-5b7b-4953-8a7d-f6e0e1dde008",
   "metadata": {},
   "source": [
    "## **2. Feature Engineering**"
   ]
  },
  {
   "cell_type": "markdown",
   "id": "3556e6fc-1174-43cf-ba2e-48f267065e57",
   "metadata": {},
   "source": [
    "- Extract relevant features from the dataset that reflect customer behavior\n",
    "  - **We will use RFM Analysis.**\n",
    "  - **1. RFM** is an abbreviation for Recency, Frequency, and Monetary. RFM analysis is a technique that is used for customer segmentation. It groups customers according to their habits of purchase. It provides us to develop strategies for each of the groups.\n",
    "    - **1.1 Recency:** It represents the last time a customer bought something.\n",
    "    - **1.2 Frequency:** It is the total number of processes.\n",
    "    - **1.3 Monetary:** It gives us the amount of payment.\n",
    "  - **2. Product Diversity**\n",
    "  - **2. Product Diversity**\n",
    "  - **3. Behavioral Features**\n",
    "  - **4. Geographic Features**\n",
    "  - **5. Cancellation Cancellation_Rate**\n",
    "  - **6. Seasonality & Trends**"
   ]
  },
  {
   "cell_type": "markdown",
   "id": "43eddb25-205e-4ae2-96b8-c19ab48fd11e",
   "metadata": {},
   "source": [
    "## **3. Feature Scaling**"
   ]
  },
  {
   "cell_type": "markdown",
   "id": "5818cb1e-665a-4f37-9e78-58a90141f172",
   "metadata": {},
   "source": [
    "## **4. Dimensionality Reduction with PCA**"
   ]
  },
  {
   "cell_type": "markdown",
   "id": "48091bde-b469-4dcf-a827-ccee4e8887b0",
   "metadata": {},
   "source": [
    "- Apply PCA to decrease the dimensionality of the feature space, aiming to retain the most informative features.\n",
    "- This step is designed to highlight underlying patterns and structures in the data."
   ]
  },
  {
   "cell_type": "markdown",
   "id": "7c6bf083-b9f4-4ea3-869f-631755331414",
   "metadata": {},
   "source": [
    "## **5. Determining Optimal Number of Clusters**"
   ]
  },
  {
   "cell_type": "markdown",
   "id": "d7a0e85c-66a9-4013-a66f-423392d112b6",
   "metadata": {},
   "source": [
    "- We will carry out clustering using  K-Means Clustering Algorithm.\n",
    "- We will use **the elbow method** to determine the optimal number of clusters for K-means clustering."
   ]
  },
  {
   "cell_type": "markdown",
   "id": "9e28a267-f4cc-43fc-8214-19e60904a016",
   "metadata": {},
   "source": [
    "## **6. K-means Clustering**"
   ]
  },
  {
   "cell_type": "markdown",
   "id": "50ea6feb-6187-4c6d-89db-67289de7b63f",
   "metadata": {},
   "source": [
    "- With the dimensionality reduced, we will perform K-means clustering to assign each customer to a cluster based on their feature values.\n",
    "- Then analyzing the clusters to interpret the characteristics of each customer segment."
   ]
  },
  {
   "cell_type": "markdown",
   "id": "14ca9ff4-0398-43d3-8481-5c32f5740a18",
   "metadata": {},
   "source": [
    "## **7. Visualization**"
   ]
  },
  {
   "cell_type": "markdown",
   "id": "ae66e837-e6a4-4c90-84f9-e6e4e0022c2a",
   "metadata": {},
   "source": [
    "- Visualization using scatter plots to depict the clusters and their separation. This will aid in visualizing how customers are grouped in the reduced feature space and the distinctions between clusters."
   ]
  },
  {
   "cell_type": "markdown",
   "id": "02dd3c8d-5e2e-43be-a55a-73d4712b9a84",
   "metadata": {},
   "source": [
    "## **8. Evaluation**"
   ]
  },
  {
   "cell_type": "markdown",
   "id": "1a3c0314-0537-4082-b718-39c7e0cc3fd6",
   "metadata": {},
   "source": [
    "- Evaluation: Assess the clustering quality using appropriate metrics such as the silhouette score. This evaluation helps in understanding the cohesiveness and separation of the clusters, indicating the effectiveness of the segmentation."
   ]
  },
  {
   "cell_type": "markdown",
   "id": "073e464d-d58e-40c4-8fdc-75a235aaa195",
   "metadata": {},
   "source": [
    "## **9. Cluster Profiling & Personalization and Recommendations**"
   ]
  },
  {
   "cell_type": "markdown",
   "id": "25590a43-5066-499e-952a-987bd392bc08",
   "metadata": {},
   "source": [
    "**Cluster Profiling:** Profiling each cluster by calculating specific metrics such as average spending and \n",
    "others for identifying the distinguishing features and behaviors of each cluster.\n",
    "\n",
    "**Personalization and Recommendations:** Based on the identified customer segments, we will make personalized marketing strategies and recommendations, tailor promotions, product suggestions, and communication methods for each cluster to boost customer engagement and satisfaction."
   ]
  },
  {
   "cell_type": "markdown",
   "id": "2b0373db-2f3f-48a4-8226-6add8f2aadcf",
   "metadata": {},
   "source": [
    "## **10. Interpretation and Insights**"
   ]
  },
  {
   "cell_type": "markdown",
   "id": "e6c6c677-7483-40c4-b6cb-518b7b88d6dd",
   "metadata": {},
   "source": [
    "Interpret the outcomes of the segmentation and provide insights. Discuss the implications for the e-commerce business, including targeted marketing, customer retention strategies, or inventory management."
   ]
  },
  {
   "cell_type": "markdown",
   "id": "ae378828-0527-4169-a0d9-580cd4654dce",
   "metadata": {},
   "source": [
    "# <center>**1. Data Understanding & Data Preparation**</center>"
   ]
  },
  {
   "cell_type": "markdown",
   "id": "274b2c13-0bd6-4dc9-bc48-52b7efc95a77",
   "metadata": {},
   "source": [
    "### **Importing the necessary libraries.**"
   ]
  },
  {
   "cell_type": "code",
   "execution_count": 2,
   "id": "2cd5e24f-ead9-4498-8ea4-4ccc0094a568",
   "metadata": {},
   "outputs": [
    {
     "name": "stdout",
     "output_type": "stream",
     "text": [
      "Pandas Version: 2.2.2\n",
      "Numpy Version: 1.26.4\n",
      "Matplotlib Version: 3.9.2\n",
      "Seaborn Version: 0.13.2\n",
      "Scikit-learn Version: 1.5.1\n",
      "Scipy Version: 1.13.1\n",
      "Plotly Version: 5.24.1\n"
     ]
    }
   ],
   "source": [
    "import pandas as pd\n",
    "import numpy as np\n",
    "import matplotlib\n",
    "import seaborn as sns\n",
    "import datetime as dt\n",
    "import sklearn\n",
    "import scipy\n",
    "import plotly\n",
    "\n",
    "print(f\"Pandas Version: {pd.__version__}\")\n",
    "print(f\"Numpy Version: {np.__version__}\")\n",
    "print(f\"Matplotlib Version: {matplotlib.__version__}\")\n",
    "print(f\"Seaborn Version: {sns.__version__}\")\n",
    "print(f\"Scikit-learn Version: {sklearn.__version__}\")\n",
    "print(f\"Scipy Version: {scipy.__version__}\")\n",
    "print(f\"Plotly Version: {plotly.__version__}\")"
   ]
  },
  {
   "cell_type": "code",
   "execution_count": 1,
   "id": "0375a470-7a4e-4d7c-bc4e-9b2d9d91c45d",
   "metadata": {},
   "outputs": [],
   "source": [
    "import pandas as pd\n",
    "import numpy as np\n",
    "import matplotlib.pyplot as plt\n",
    "import seaborn as sns\n",
    "import datetime as dt\n",
    "#pd.set_option('display.max_rows', None)\n",
    "pd.set_option('display.max_columns', None)\n",
    "pd.set_option('max_colwidth', None)\n",
    "pd.set_option('display.float_format', lambda x: '%.3f' % x)\n",
    "from sklearn.preprocessing import StandardScaler\n",
    "from sklearn.decomposition import PCA\n",
    "from sklearn.manifold import TSNE\n",
    "from scipy.stats import linregress\n",
    "from sklearn.cluster import KMeans\n",
    "import plotly.graph_objects as go\n",
    "from sklearn.metrics import silhouette_score"
   ]
  },
  {
   "cell_type": "markdown",
   "id": "6f9b4716-ce06-4df5-8d42-4cb4a7a5daa5",
   "metadata": {},
   "source": [
    "### **Read the data.**"
   ]
  },
  {
   "cell_type": "code",
   "execution_count": 2,
   "id": "97e31b4e-5bbd-424d-b952-1627e3515461",
   "metadata": {},
   "outputs": [],
   "source": [
    "Online_Retail = pd.read_excel('Online Retail.xlsx')"
   ]
  },
  {
   "cell_type": "code",
   "execution_count": 3,
   "id": "548a8a12-16a0-4617-9fbb-eec17f7b47a1",
   "metadata": {},
   "outputs": [],
   "source": [
    "# copies the data so that we hold the original version of the data.\n",
    "Retail_Copy = Online_Retail.copy()"
   ]
  },
  {
   "cell_type": "code",
   "execution_count": 4,
   "id": "b9e37ffa-e5f9-4068-b8d8-ac116693a57e",
   "metadata": {},
   "outputs": [
    {
     "data": {
      "text/html": [
       "<div>\n",
       "<style scoped>\n",
       "    .dataframe tbody tr th:only-of-type {\n",
       "        vertical-align: middle;\n",
       "    }\n",
       "\n",
       "    .dataframe tbody tr th {\n",
       "        vertical-align: top;\n",
       "    }\n",
       "\n",
       "    .dataframe thead th {\n",
       "        text-align: right;\n",
       "    }\n",
       "</style>\n",
       "<table border=\"1\" class=\"dataframe\">\n",
       "  <thead>\n",
       "    <tr style=\"text-align: right;\">\n",
       "      <th></th>\n",
       "      <th>InvoiceNo</th>\n",
       "      <th>StockCode</th>\n",
       "      <th>Description</th>\n",
       "      <th>Quantity</th>\n",
       "      <th>InvoiceDate</th>\n",
       "      <th>UnitPrice</th>\n",
       "      <th>CustomerID</th>\n",
       "      <th>Country</th>\n",
       "    </tr>\n",
       "  </thead>\n",
       "  <tbody>\n",
       "    <tr>\n",
       "      <th>0</th>\n",
       "      <td>536365</td>\n",
       "      <td>85123A</td>\n",
       "      <td>WHITE HANGING HEART T-LIGHT HOLDER</td>\n",
       "      <td>6</td>\n",
       "      <td>2010-12-01 08:26:00</td>\n",
       "      <td>2.550</td>\n",
       "      <td>17850.000</td>\n",
       "      <td>United Kingdom</td>\n",
       "    </tr>\n",
       "    <tr>\n",
       "      <th>1</th>\n",
       "      <td>536365</td>\n",
       "      <td>71053</td>\n",
       "      <td>WHITE METAL LANTERN</td>\n",
       "      <td>6</td>\n",
       "      <td>2010-12-01 08:26:00</td>\n",
       "      <td>3.390</td>\n",
       "      <td>17850.000</td>\n",
       "      <td>United Kingdom</td>\n",
       "    </tr>\n",
       "    <tr>\n",
       "      <th>2</th>\n",
       "      <td>536365</td>\n",
       "      <td>84406B</td>\n",
       "      <td>CREAM CUPID HEARTS COAT HANGER</td>\n",
       "      <td>8</td>\n",
       "      <td>2010-12-01 08:26:00</td>\n",
       "      <td>2.750</td>\n",
       "      <td>17850.000</td>\n",
       "      <td>United Kingdom</td>\n",
       "    </tr>\n",
       "    <tr>\n",
       "      <th>3</th>\n",
       "      <td>536365</td>\n",
       "      <td>84029G</td>\n",
       "      <td>KNITTED UNION FLAG HOT WATER BOTTLE</td>\n",
       "      <td>6</td>\n",
       "      <td>2010-12-01 08:26:00</td>\n",
       "      <td>3.390</td>\n",
       "      <td>17850.000</td>\n",
       "      <td>United Kingdom</td>\n",
       "    </tr>\n",
       "    <tr>\n",
       "      <th>4</th>\n",
       "      <td>536365</td>\n",
       "      <td>84029E</td>\n",
       "      <td>RED WOOLLY HOTTIE WHITE HEART.</td>\n",
       "      <td>6</td>\n",
       "      <td>2010-12-01 08:26:00</td>\n",
       "      <td>3.390</td>\n",
       "      <td>17850.000</td>\n",
       "      <td>United Kingdom</td>\n",
       "    </tr>\n",
       "  </tbody>\n",
       "</table>\n",
       "</div>"
      ],
      "text/plain": [
       "  InvoiceNo StockCode                          Description  Quantity  \\\n",
       "0    536365    85123A   WHITE HANGING HEART T-LIGHT HOLDER         6   \n",
       "1    536365     71053                  WHITE METAL LANTERN         6   \n",
       "2    536365    84406B       CREAM CUPID HEARTS COAT HANGER         8   \n",
       "3    536365    84029G  KNITTED UNION FLAG HOT WATER BOTTLE         6   \n",
       "4    536365    84029E       RED WOOLLY HOTTIE WHITE HEART.         6   \n",
       "\n",
       "          InvoiceDate  UnitPrice  CustomerID         Country  \n",
       "0 2010-12-01 08:26:00      2.550   17850.000  United Kingdom  \n",
       "1 2010-12-01 08:26:00      3.390   17850.000  United Kingdom  \n",
       "2 2010-12-01 08:26:00      2.750   17850.000  United Kingdom  \n",
       "3 2010-12-01 08:26:00      3.390   17850.000  United Kingdom  \n",
       "4 2010-12-01 08:26:00      3.390   17850.000  United Kingdom  "
      ]
     },
     "execution_count": 4,
     "metadata": {},
     "output_type": "execute_result"
    }
   ],
   "source": [
    "Retail_Copy.head()"
   ]
  },
  {
   "cell_type": "markdown",
   "id": "6d14094b-8f1a-4663-9e16-e60bec2b1832",
   "metadata": {},
   "source": [
    "### **Data describtion.**"
   ]
  },
  {
   "cell_type": "code",
   "execution_count": 5,
   "id": "d8a0d2bc-d62a-4d12-8a23-8f6843b7d751",
   "metadata": {},
   "outputs": [
    {
     "data": {
      "text/html": [
       "<div>\n",
       "<style scoped>\n",
       "    .dataframe tbody tr th:only-of-type {\n",
       "        vertical-align: middle;\n",
       "    }\n",
       "\n",
       "    .dataframe tbody tr th {\n",
       "        vertical-align: top;\n",
       "    }\n",
       "\n",
       "    .dataframe thead th {\n",
       "        text-align: right;\n",
       "    }\n",
       "</style>\n",
       "<table border=\"1\" class=\"dataframe\">\n",
       "  <thead>\n",
       "    <tr style=\"text-align: right;\">\n",
       "      <th></th>\n",
       "      <th>Variable Name</th>\n",
       "      <th>Role</th>\n",
       "      <th>Type</th>\n",
       "      <th>Description</th>\n",
       "      <th>Units</th>\n",
       "    </tr>\n",
       "  </thead>\n",
       "  <tbody>\n",
       "    <tr>\n",
       "      <th>0</th>\n",
       "      <td>InvoiceNo</td>\n",
       "      <td>ID</td>\n",
       "      <td>Categorical</td>\n",
       "      <td>a 6-digit integral number uniquely assigned to each transaction. If this code starts with letter 'c', it indicates a cancellation</td>\n",
       "      <td>-</td>\n",
       "    </tr>\n",
       "    <tr>\n",
       "      <th>1</th>\n",
       "      <td>StockCode</td>\n",
       "      <td>ID</td>\n",
       "      <td>Categorical</td>\n",
       "      <td>a 5-digit integral number uniquely assigned to each distinct product</td>\n",
       "      <td>-</td>\n",
       "    </tr>\n",
       "    <tr>\n",
       "      <th>2</th>\n",
       "      <td>Description</td>\n",
       "      <td>Feature</td>\n",
       "      <td>Categorical</td>\n",
       "      <td>product name</td>\n",
       "      <td>-</td>\n",
       "    </tr>\n",
       "    <tr>\n",
       "      <th>3</th>\n",
       "      <td>Quantity</td>\n",
       "      <td>Feature</td>\n",
       "      <td>Integer</td>\n",
       "      <td>the quantities of each product (item) per transaction</td>\n",
       "      <td>-</td>\n",
       "    </tr>\n",
       "    <tr>\n",
       "      <th>4</th>\n",
       "      <td>InvoiceDate</td>\n",
       "      <td>Feature</td>\n",
       "      <td>Date</td>\n",
       "      <td>the day and time when each transaction was generated</td>\n",
       "      <td>-</td>\n",
       "    </tr>\n",
       "    <tr>\n",
       "      <th>5</th>\n",
       "      <td>UnitPrice</td>\n",
       "      <td>Feature</td>\n",
       "      <td>Continuous</td>\n",
       "      <td>product price per unit</td>\n",
       "      <td>sterling</td>\n",
       "    </tr>\n",
       "    <tr>\n",
       "      <th>6</th>\n",
       "      <td>CustomerID</td>\n",
       "      <td>Feature</td>\n",
       "      <td>Categorical</td>\n",
       "      <td>a 5-digit integral number uniquely assigned to each customer</td>\n",
       "      <td>-</td>\n",
       "    </tr>\n",
       "    <tr>\n",
       "      <th>7</th>\n",
       "      <td>Country</td>\n",
       "      <td>Feature</td>\n",
       "      <td>Categorical</td>\n",
       "      <td>the name of the country where each customer resides</td>\n",
       "      <td>-</td>\n",
       "    </tr>\n",
       "  </tbody>\n",
       "</table>\n",
       "</div>"
      ],
      "text/plain": [
       "  Variable Name     Role         Type  \\\n",
       "0     InvoiceNo       ID  Categorical   \n",
       "1     StockCode       ID  Categorical   \n",
       "2   Description  Feature  Categorical   \n",
       "3      Quantity  Feature      Integer   \n",
       "4   InvoiceDate  Feature         Date   \n",
       "5     UnitPrice  Feature   Continuous   \n",
       "6    CustomerID  Feature  Categorical   \n",
       "7       Country  Feature  Categorical   \n",
       "\n",
       "                                                                                                                         Description  \\\n",
       "0  a 6-digit integral number uniquely assigned to each transaction. If this code starts with letter 'c', it indicates a cancellation   \n",
       "1                                                               a 5-digit integral number uniquely assigned to each distinct product   \n",
       "2                                                                                                                       product name   \n",
       "3                                                                              the quantities of each product (item) per transaction   \n",
       "4                                                                               the day and time when each transaction was generated   \n",
       "5                                                                                                             product price per unit   \n",
       "6                                                                       a 5-digit integral number uniquely assigned to each customer   \n",
       "7                                                                                the name of the country where each customer resides   \n",
       "\n",
       "      Units  \n",
       "0         -  \n",
       "1         -  \n",
       "2         -  \n",
       "3         -  \n",
       "4         -  \n",
       "5  sterling  \n",
       "6         -  \n",
       "7         -  "
      ]
     },
     "execution_count": 5,
     "metadata": {},
     "output_type": "execute_result"
    }
   ],
   "source": [
    "Variables_Table = pd.read_excel('Variables_Table.xlsx')\n",
    "Variables_Table"
   ]
  },
  {
   "cell_type": "markdown",
   "id": "e4c0dd1e-4bc3-406c-a0e1-c42b3434ebe5",
   "metadata": {},
   "source": [
    "\n"
   ]
  },
  {
   "cell_type": "markdown",
   "id": "1ab706df-feb5-474d-ad08-6b24bb82415f",
   "metadata": {},
   "source": [
    "### **Data Exploration, Handling missing values and Handling Duplicates.**"
   ]
  },
  {
   "cell_type": "markdown",
   "id": "1a9731f8-4eb0-4034-84be-f3367f75324b",
   "metadata": {},
   "source": [
    "#### **Data Exploration**"
   ]
  },
  {
   "cell_type": "code",
   "execution_count": 6,
   "id": "644bf805-c1e5-40dd-9f08-760b689754f3",
   "metadata": {},
   "outputs": [
    {
     "data": {
      "text/plain": [
       "(541909, 8)"
      ]
     },
     "execution_count": 6,
     "metadata": {},
     "output_type": "execute_result"
    }
   ],
   "source": [
    "# data dimensions\n",
    "Retail_Copy.shape"
   ]
  },
  {
   "cell_type": "code",
   "execution_count": 7,
   "id": "754d0940-01ca-49b7-96ba-e7fc41a62028",
   "metadata": {},
   "outputs": [
    {
     "name": "stdout",
     "output_type": "stream",
     "text": [
      "<class 'pandas.core.frame.DataFrame'>\n",
      "RangeIndex: 541909 entries, 0 to 541908\n",
      "Data columns (total 8 columns):\n",
      " #   Column       Non-Null Count   Dtype         \n",
      "---  ------       --------------   -----         \n",
      " 0   InvoiceNo    541909 non-null  object        \n",
      " 1   StockCode    541909 non-null  object        \n",
      " 2   Description  540455 non-null  object        \n",
      " 3   Quantity     541909 non-null  int64         \n",
      " 4   InvoiceDate  541909 non-null  datetime64[ns]\n",
      " 5   UnitPrice    541909 non-null  float64       \n",
      " 6   CustomerID   406829 non-null  float64       \n",
      " 7   Country      541909 non-null  object        \n",
      "dtypes: datetime64[ns](1), float64(2), int64(1), object(4)\n",
      "memory usage: 33.1+ MB\n"
     ]
    }
   ],
   "source": [
    "Retail_Copy.info()"
   ]
  },
  {
   "cell_type": "code",
   "execution_count": 8,
   "id": "49087871-61ca-436d-b02f-a5f04515d1c0",
   "metadata": {},
   "outputs": [
    {
     "data": {
      "text/html": [
       "<div>\n",
       "<style scoped>\n",
       "    .dataframe tbody tr th:only-of-type {\n",
       "        vertical-align: middle;\n",
       "    }\n",
       "\n",
       "    .dataframe tbody tr th {\n",
       "        vertical-align: top;\n",
       "    }\n",
       "\n",
       "    .dataframe thead th {\n",
       "        text-align: right;\n",
       "    }\n",
       "</style>\n",
       "<table border=\"1\" class=\"dataframe\">\n",
       "  <thead>\n",
       "    <tr style=\"text-align: right;\">\n",
       "      <th></th>\n",
       "      <th>count</th>\n",
       "      <th>mean</th>\n",
       "      <th>min</th>\n",
       "      <th>25%</th>\n",
       "      <th>50%</th>\n",
       "      <th>75%</th>\n",
       "      <th>max</th>\n",
       "      <th>std</th>\n",
       "    </tr>\n",
       "  </thead>\n",
       "  <tbody>\n",
       "    <tr>\n",
       "      <th>Quantity</th>\n",
       "      <td>541909.000</td>\n",
       "      <td>9.552</td>\n",
       "      <td>-80995.000</td>\n",
       "      <td>1.000</td>\n",
       "      <td>3.000</td>\n",
       "      <td>10.000</td>\n",
       "      <td>80995.000</td>\n",
       "      <td>218.081</td>\n",
       "    </tr>\n",
       "    <tr>\n",
       "      <th>InvoiceDate</th>\n",
       "      <td>541909</td>\n",
       "      <td>2011-07-04 13:34:57.156386048</td>\n",
       "      <td>2010-12-01 08:26:00</td>\n",
       "      <td>2011-03-28 11:34:00</td>\n",
       "      <td>2011-07-19 17:17:00</td>\n",
       "      <td>2011-10-19 11:27:00</td>\n",
       "      <td>2011-12-09 12:50:00</td>\n",
       "      <td>NaN</td>\n",
       "    </tr>\n",
       "    <tr>\n",
       "      <th>UnitPrice</th>\n",
       "      <td>541909.000</td>\n",
       "      <td>4.611</td>\n",
       "      <td>-11062.060</td>\n",
       "      <td>1.250</td>\n",
       "      <td>2.080</td>\n",
       "      <td>4.130</td>\n",
       "      <td>38970.000</td>\n",
       "      <td>96.760</td>\n",
       "    </tr>\n",
       "    <tr>\n",
       "      <th>CustomerID</th>\n",
       "      <td>406829.000</td>\n",
       "      <td>15287.691</td>\n",
       "      <td>12346.000</td>\n",
       "      <td>13953.000</td>\n",
       "      <td>15152.000</td>\n",
       "      <td>16791.000</td>\n",
       "      <td>18287.000</td>\n",
       "      <td>1713.600</td>\n",
       "    </tr>\n",
       "  </tbody>\n",
       "</table>\n",
       "</div>"
      ],
      "text/plain": [
       "                 count                           mean                  min  \\\n",
       "Quantity    541909.000                          9.552           -80995.000   \n",
       "InvoiceDate     541909  2011-07-04 13:34:57.156386048  2010-12-01 08:26:00   \n",
       "UnitPrice   541909.000                          4.611           -11062.060   \n",
       "CustomerID  406829.000                      15287.691            12346.000   \n",
       "\n",
       "                             25%                  50%                  75%  \\\n",
       "Quantity                   1.000                3.000               10.000   \n",
       "InvoiceDate  2011-03-28 11:34:00  2011-07-19 17:17:00  2011-10-19 11:27:00   \n",
       "UnitPrice                  1.250                2.080                4.130   \n",
       "CustomerID             13953.000            15152.000            16791.000   \n",
       "\n",
       "                             max      std  \n",
       "Quantity               80995.000  218.081  \n",
       "InvoiceDate  2011-12-09 12:50:00      NaN  \n",
       "UnitPrice              38970.000   96.760  \n",
       "CustomerID             18287.000 1713.600  "
      ]
     },
     "execution_count": 8,
     "metadata": {},
     "output_type": "execute_result"
    }
   ],
   "source": [
    "Retail_Copy.describe().T"
   ]
  },
  {
   "cell_type": "code",
   "execution_count": 9,
   "id": "92df8f5e-3ab0-45c5-98d8-51806f393763",
   "metadata": {},
   "outputs": [
    {
     "data": {
      "text/html": [
       "<div>\n",
       "<style scoped>\n",
       "    .dataframe tbody tr th:only-of-type {\n",
       "        vertical-align: middle;\n",
       "    }\n",
       "\n",
       "    .dataframe tbody tr th {\n",
       "        vertical-align: top;\n",
       "    }\n",
       "\n",
       "    .dataframe thead th {\n",
       "        text-align: right;\n",
       "    }\n",
       "</style>\n",
       "<table border=\"1\" class=\"dataframe\">\n",
       "  <thead>\n",
       "    <tr style=\"text-align: right;\">\n",
       "      <th></th>\n",
       "      <th>count</th>\n",
       "      <th>unique</th>\n",
       "      <th>top</th>\n",
       "      <th>freq</th>\n",
       "    </tr>\n",
       "  </thead>\n",
       "  <tbody>\n",
       "    <tr>\n",
       "      <th>InvoiceNo</th>\n",
       "      <td>541909</td>\n",
       "      <td>25900</td>\n",
       "      <td>573585</td>\n",
       "      <td>1114</td>\n",
       "    </tr>\n",
       "    <tr>\n",
       "      <th>StockCode</th>\n",
       "      <td>541909</td>\n",
       "      <td>4070</td>\n",
       "      <td>85123A</td>\n",
       "      <td>2313</td>\n",
       "    </tr>\n",
       "    <tr>\n",
       "      <th>Description</th>\n",
       "      <td>540455</td>\n",
       "      <td>4223</td>\n",
       "      <td>WHITE HANGING HEART T-LIGHT HOLDER</td>\n",
       "      <td>2369</td>\n",
       "    </tr>\n",
       "    <tr>\n",
       "      <th>Country</th>\n",
       "      <td>541909</td>\n",
       "      <td>38</td>\n",
       "      <td>United Kingdom</td>\n",
       "      <td>495478</td>\n",
       "    </tr>\n",
       "  </tbody>\n",
       "</table>\n",
       "</div>"
      ],
      "text/plain": [
       "              count unique                                 top    freq\n",
       "InvoiceNo    541909  25900                              573585    1114\n",
       "StockCode    541909   4070                              85123A    2313\n",
       "Description  540455   4223  WHITE HANGING HEART T-LIGHT HOLDER    2369\n",
       "Country      541909     38                      United Kingdom  495478"
      ]
     },
     "execution_count": 9,
     "metadata": {},
     "output_type": "execute_result"
    }
   ],
   "source": [
    "Retail_Copy.describe(include='object').T"
   ]
  },
  {
   "cell_type": "markdown",
   "id": "5ad630e0-00c7-4735-bc78-b695aa987b7d",
   "metadata": {},
   "source": [
    "#### **Handling missing values**"
   ]
  },
  {
   "cell_type": "code",
   "execution_count": 10,
   "id": "33889a1a-9151-4f46-8be0-b263739d11ff",
   "metadata": {},
   "outputs": [
    {
     "data": {
      "text/plain": [
       "InvoiceNo           0\n",
       "StockCode           0\n",
       "Description      1454\n",
       "Quantity            0\n",
       "InvoiceDate         0\n",
       "UnitPrice           0\n",
       "CustomerID     135080\n",
       "Country             0\n",
       "dtype: int64"
      ]
     },
     "execution_count": 10,
     "metadata": {},
     "output_type": "execute_result"
    }
   ],
   "source": [
    "Retail_Copy.isnull().sum()"
   ]
  },
  {
   "cell_type": "markdown",
   "id": "0825b748-d1bc-4c41-b44a-f1f54dd6c968",
   "metadata": {},
   "source": [
    "**We are going to perform customer segmentation, though we will drop any row with missing value in CustomerID variable.**"
   ]
  },
  {
   "cell_type": "code",
   "execution_count": 11,
   "id": "edccc81f-1bd4-4679-af42-d18f936c1acb",
   "metadata": {},
   "outputs": [],
   "source": [
    "Retail_Copy.dropna(subset='CustomerID', inplace=True)"
   ]
  },
  {
   "cell_type": "code",
   "execution_count": 12,
   "id": "b75182d1-f282-4e67-935d-4497189bff58",
   "metadata": {},
   "outputs": [
    {
     "data": {
      "text/plain": [
       "InvoiceNo      0\n",
       "StockCode      0\n",
       "Description    0\n",
       "Quantity       0\n",
       "InvoiceDate    0\n",
       "UnitPrice      0\n",
       "CustomerID     0\n",
       "Country        0\n",
       "dtype: int64"
      ]
     },
     "execution_count": 12,
     "metadata": {},
     "output_type": "execute_result"
    }
   ],
   "source": [
    "Retail_Copy.isnull().sum()"
   ]
  },
  {
   "cell_type": "markdown",
   "id": "fc61737b-4279-4454-8fde-79c3f4b20a37",
   "metadata": {},
   "source": [
    "#### **Handling Duplicates.**"
   ]
  },
  {
   "cell_type": "code",
   "execution_count": 13,
   "id": "48bcfa79-3b9f-4594-99c3-b7b371937c84",
   "metadata": {},
   "outputs": [
    {
     "data": {
      "text/plain": [
       "5225"
      ]
     },
     "execution_count": 13,
     "metadata": {},
     "output_type": "execute_result"
    }
   ],
   "source": [
    "Retail_Copy.duplicated().sum()"
   ]
  },
  {
   "cell_type": "markdown",
   "id": "429be901-6399-487d-abf4-31310c93a405",
   "metadata": {},
   "source": [
    "**We have 5225 duplicates, and we are going to drop them.**"
   ]
  },
  {
   "cell_type": "code",
   "execution_count": 14,
   "id": "1414f437-2c8c-45ad-94ee-65d2b0c548be",
   "metadata": {},
   "outputs": [],
   "source": [
    "Retail_Copy.drop_duplicates(inplace=True)"
   ]
  },
  {
   "cell_type": "code",
   "execution_count": 15,
   "id": "5c0c97cb-7b69-4d18-87d2-9d5b87daade0",
   "metadata": {},
   "outputs": [
    {
     "data": {
      "text/plain": [
       "0"
      ]
     },
     "execution_count": 15,
     "metadata": {},
     "output_type": "execute_result"
    }
   ],
   "source": [
    "Retail_Copy.duplicated().sum()"
   ]
  },
  {
   "cell_type": "code",
   "execution_count": 16,
   "id": "63ee32d1-b15d-4286-9798-55153ad22e68",
   "metadata": {},
   "outputs": [],
   "source": [
    "Retail_Copy.reset_index(drop=True, inplace = True)"
   ]
  },
  {
   "cell_type": "code",
   "execution_count": 17,
   "id": "b7fba3c2-de3d-4d9c-8ef1-1ea3d0912954",
   "metadata": {},
   "outputs": [
    {
     "name": "stdout",
     "output_type": "stream",
     "text": [
      "<class 'pandas.core.frame.DataFrame'>\n",
      "RangeIndex: 401604 entries, 0 to 401603\n",
      "Data columns (total 8 columns):\n",
      " #   Column       Non-Null Count   Dtype         \n",
      "---  ------       --------------   -----         \n",
      " 0   InvoiceNo    401604 non-null  object        \n",
      " 1   StockCode    401604 non-null  object        \n",
      " 2   Description  401604 non-null  object        \n",
      " 3   Quantity     401604 non-null  int64         \n",
      " 4   InvoiceDate  401604 non-null  datetime64[ns]\n",
      " 5   UnitPrice    401604 non-null  float64       \n",
      " 6   CustomerID   401604 non-null  float64       \n",
      " 7   Country      401604 non-null  object        \n",
      "dtypes: datetime64[ns](1), float64(2), int64(1), object(4)\n",
      "memory usage: 24.5+ MB\n"
     ]
    }
   ],
   "source": [
    "Retail_Copy.info()"
   ]
  },
  {
   "cell_type": "markdown",
   "id": "3f9903e7-f6af-478b-be5e-9504dae8b19c",
   "metadata": {},
   "source": [
    "**We have now 401604 observations without any duplicates or missing values**"
   ]
  },
  {
   "cell_type": "markdown",
   "id": "861a6762-1276-4e11-9fad-e486fd006bc7",
   "metadata": {},
   "source": [
    "### **Data Cleaning & Transformation: make this for each variable at a time.**\n"
   ]
  },
  {
   "cell_type": "markdown",
   "id": "5671635a-ba5c-4f0c-a204-dbd88bdb6ed7",
   "metadata": {},
   "source": [
    "#### **1. InvoiceNo variable**"
   ]
  },
  {
   "cell_type": "code",
   "execution_count": 18,
   "id": "6399fdb4-bbf9-4d94-bc5e-0572fe406c14",
   "metadata": {},
   "outputs": [
    {
     "data": {
      "text/html": [
       "<div>\n",
       "<style scoped>\n",
       "    .dataframe tbody tr th:only-of-type {\n",
       "        vertical-align: middle;\n",
       "    }\n",
       "\n",
       "    .dataframe tbody tr th {\n",
       "        vertical-align: top;\n",
       "    }\n",
       "\n",
       "    .dataframe thead th {\n",
       "        text-align: right;\n",
       "    }\n",
       "</style>\n",
       "<table border=\"1\" class=\"dataframe\">\n",
       "  <thead>\n",
       "    <tr style=\"text-align: right;\">\n",
       "      <th></th>\n",
       "      <th>Variable Name</th>\n",
       "      <th>Role</th>\n",
       "      <th>Type</th>\n",
       "      <th>Description</th>\n",
       "      <th>Units</th>\n",
       "    </tr>\n",
       "  </thead>\n",
       "  <tbody>\n",
       "    <tr>\n",
       "      <th>0</th>\n",
       "      <td>InvoiceNo</td>\n",
       "      <td>ID</td>\n",
       "      <td>Categorical</td>\n",
       "      <td>a 6-digit integral number uniquely assigned to each transaction. If this code starts with letter 'c', it indicates a cancellation</td>\n",
       "      <td>-</td>\n",
       "    </tr>\n",
       "  </tbody>\n",
       "</table>\n",
       "</div>"
      ],
      "text/plain": [
       "  Variable Name Role         Type  \\\n",
       "0     InvoiceNo   ID  Categorical   \n",
       "\n",
       "                                                                                                                         Description  \\\n",
       "0  a 6-digit integral number uniquely assigned to each transaction. If this code starts with letter 'c', it indicates a cancellation   \n",
       "\n",
       "  Units  \n",
       "0     -  "
      ]
     },
     "execution_count": 18,
     "metadata": {},
     "output_type": "execute_result"
    }
   ],
   "source": [
    "Variables_Table[Variables_Table['Variable Name']=='InvoiceNo']"
   ]
  },
  {
   "cell_type": "markdown",
   "id": "bc4a998b-388c-414d-b091-4ffe55e11f7a",
   "metadata": {},
   "source": [
    "**If a InvoiceNo starts with the letter ‘C’, it indicates a cancellation of order.**"
   ]
  },
  {
   "cell_type": "code",
   "execution_count": 19,
   "id": "1a94635a-e1ca-4a5a-992b-f44e73e91636",
   "metadata": {},
   "outputs": [
    {
     "data": {
      "text/plain": [
       "8872"
      ]
     },
     "execution_count": 19,
     "metadata": {},
     "output_type": "execute_result"
    }
   ],
   "source": [
    "cancelled_transactions = Retail_Copy[Retail_Copy[\"InvoiceNo\"].str.contains(\"C\", na=False)]\n",
    "count_of_cancelled_transactions = cancelled_transactions['InvoiceNo'].count()\n",
    "count_of_cancelled_transactions"
   ]
  },
  {
   "cell_type": "code",
   "execution_count": 20,
   "id": "997e1c65-f5ef-4ae7-a6a2-649679e818ce",
   "metadata": {},
   "outputs": [
    {
     "data": {
      "text/plain": [
       "401604"
      ]
     },
     "execution_count": 20,
     "metadata": {},
     "output_type": "execute_result"
    }
   ],
   "source": [
    "count_of_total_transactions = Retail_Copy['InvoiceNo'].count()\n",
    "count_of_total_transactions"
   ]
  },
  {
   "cell_type": "code",
   "execution_count": 21,
   "id": "1ed14622-736f-4e48-9db2-6730a8edd3ee",
   "metadata": {},
   "outputs": [],
   "source": [
    "cancelled_percentage = (count_of_cancelled_transactions/count_of_total_transactions)*100"
   ]
  },
  {
   "cell_type": "code",
   "execution_count": 22,
   "id": "25dcf99f-c1af-4d33-b428-a19e5d8b89a0",
   "metadata": {},
   "outputs": [
    {
     "name": "stdout",
     "output_type": "stream",
     "text": [
      "The percentage of cancelled transactions in the dataset is: 2.21%\n"
     ]
    }
   ],
   "source": [
    "print(f'The percentage of cancelled transactions in the dataset is: {cancelled_percentage:.2f}%')"
   ]
  },
  {
   "cell_type": "code",
   "execution_count": 23,
   "id": "582db3b9-fc55-4c77-828d-1b13d8445fab",
   "metadata": {},
   "outputs": [
    {
     "data": {
      "text/html": [
       "<div>\n",
       "<style scoped>\n",
       "    .dataframe tbody tr th:only-of-type {\n",
       "        vertical-align: middle;\n",
       "    }\n",
       "\n",
       "    .dataframe tbody tr th {\n",
       "        vertical-align: top;\n",
       "    }\n",
       "\n",
       "    .dataframe thead th {\n",
       "        text-align: right;\n",
       "    }\n",
       "</style>\n",
       "<table border=\"1\" class=\"dataframe\">\n",
       "  <thead>\n",
       "    <tr style=\"text-align: right;\">\n",
       "      <th></th>\n",
       "      <th>count</th>\n",
       "      <th>unique</th>\n",
       "      <th>top</th>\n",
       "      <th>freq</th>\n",
       "    </tr>\n",
       "  </thead>\n",
       "  <tbody>\n",
       "    <tr>\n",
       "      <th>InvoiceNo</th>\n",
       "      <td>401604</td>\n",
       "      <td>22190</td>\n",
       "      <td>576339</td>\n",
       "      <td>542</td>\n",
       "    </tr>\n",
       "  </tbody>\n",
       "</table>\n",
       "</div>"
      ],
      "text/plain": [
       "            count  unique     top  freq\n",
       "InvoiceNo  401604   22190  576339   542"
      ]
     },
     "execution_count": 23,
     "metadata": {},
     "output_type": "execute_result"
    }
   ],
   "source": [
    "pd.DataFrame(Retail_Copy['InvoiceNo'].describe()).T"
   ]
  },
  {
   "cell_type": "markdown",
   "id": "f20e8786-e90c-48c6-a3af-344bf0c19560",
   "metadata": {},
   "source": [
    "- InvoiceNo: This is an object data type column that contains the invoice number for each transaction.\n",
    "- Each invoice number can represent multiple items purchased in a single transaction.\n",
    "- There are 22190 unique invoice numbers, indicating 22190 separate transactions.\n",
    "- There are 8872 Cancelled Transactions.\n",
    "- **Strategy for Handling Cancelled Transactions:**\n",
    "- Considering the project's objective to cluster customers based on their purchasing behavior and preferences and to eventually create a recommendation system, it's imperative to understand the cancellation patterns of customers. Therefore, the strategy is to retain these cancelled transactions in the dataset, marking them distinctly to facilitate further analysis. This approach will:\n",
    "  - Enhance the clustering process by incorporating patterns and trends observed in cancellation data, which might represent certain customer behaviors or preferences.\n",
    "  - Allow the recommendation system to possibly prevent suggesting products that have a high likelihood of being cancelled, thereby improving the quality of recommendations."
   ]
  },
  {
   "cell_type": "markdown",
   "id": "8644279e-c81b-418f-8b25-8614dcc9152e",
   "metadata": {},
   "source": [
    "#### **2. StockCode variable**"
   ]
  },
  {
   "cell_type": "code",
   "execution_count": 24,
   "id": "8f88157f-d853-42fa-8788-a713621d9ad6",
   "metadata": {},
   "outputs": [
    {
     "data": {
      "text/html": [
       "<div>\n",
       "<style scoped>\n",
       "    .dataframe tbody tr th:only-of-type {\n",
       "        vertical-align: middle;\n",
       "    }\n",
       "\n",
       "    .dataframe tbody tr th {\n",
       "        vertical-align: top;\n",
       "    }\n",
       "\n",
       "    .dataframe thead th {\n",
       "        text-align: right;\n",
       "    }\n",
       "</style>\n",
       "<table border=\"1\" class=\"dataframe\">\n",
       "  <thead>\n",
       "    <tr style=\"text-align: right;\">\n",
       "      <th></th>\n",
       "      <th>Variable Name</th>\n",
       "      <th>Role</th>\n",
       "      <th>Type</th>\n",
       "      <th>Description</th>\n",
       "      <th>Units</th>\n",
       "    </tr>\n",
       "  </thead>\n",
       "  <tbody>\n",
       "    <tr>\n",
       "      <th>1</th>\n",
       "      <td>StockCode</td>\n",
       "      <td>ID</td>\n",
       "      <td>Categorical</td>\n",
       "      <td>a 5-digit integral number uniquely assigned to each distinct product</td>\n",
       "      <td>-</td>\n",
       "    </tr>\n",
       "  </tbody>\n",
       "</table>\n",
       "</div>"
      ],
      "text/plain": [
       "  Variable Name Role         Type  \\\n",
       "1     StockCode   ID  Categorical   \n",
       "\n",
       "                                                            Description Units  \n",
       "1  a 5-digit integral number uniquely assigned to each distinct product     -  "
      ]
     },
     "execution_count": 24,
     "metadata": {},
     "output_type": "execute_result"
    }
   ],
   "source": [
    "Variables_Table[Variables_Table['Variable Name']=='StockCode']"
   ]
  },
  {
   "cell_type": "code",
   "execution_count": 25,
   "id": "c1ec1581-5486-4e8c-9055-e881149897d4",
   "metadata": {},
   "outputs": [
    {
     "data": {
      "text/html": [
       "<div>\n",
       "<style scoped>\n",
       "    .dataframe tbody tr th:only-of-type {\n",
       "        vertical-align: middle;\n",
       "    }\n",
       "\n",
       "    .dataframe tbody tr th {\n",
       "        vertical-align: top;\n",
       "    }\n",
       "\n",
       "    .dataframe thead th {\n",
       "        text-align: right;\n",
       "    }\n",
       "</style>\n",
       "<table border=\"1\" class=\"dataframe\">\n",
       "  <thead>\n",
       "    <tr style=\"text-align: right;\">\n",
       "      <th></th>\n",
       "      <th>count</th>\n",
       "      <th>unique</th>\n",
       "      <th>top</th>\n",
       "      <th>freq</th>\n",
       "    </tr>\n",
       "  </thead>\n",
       "  <tbody>\n",
       "    <tr>\n",
       "      <th>StockCode</th>\n",
       "      <td>401604</td>\n",
       "      <td>3684</td>\n",
       "      <td>85123A</td>\n",
       "      <td>2065</td>\n",
       "    </tr>\n",
       "  </tbody>\n",
       "</table>\n",
       "</div>"
      ],
      "text/plain": [
       "            count unique     top  freq\n",
       "StockCode  401604   3684  85123A  2065"
      ]
     },
     "execution_count": 25,
     "metadata": {},
     "output_type": "execute_result"
    }
   ],
   "source": [
    "pd.DataFrame(Retail_Copy['StockCode'].describe()).T"
   ]
  },
  {
   "cell_type": "markdown",
   "id": "618beebf-26c0-434d-a261-9a3bf78d1143",
   "metadata": {},
   "source": [
    "**StockCode:** An object data type column representing the product code for each item."
   ]
  },
  {
   "cell_type": "markdown",
   "id": "bb32be1a-159a-4368-8d31-083617e19c5f",
   "metadata": {},
   "source": [
    "**lets see the highest ten products in units**"
   ]
  },
  {
   "cell_type": "code",
   "execution_count": 26,
   "id": "8fb2e174-f4d9-4284-afbd-4fb3ab799911",
   "metadata": {},
   "outputs": [
    {
     "data": {
      "text/html": [
       "<div>\n",
       "<style scoped>\n",
       "    .dataframe tbody tr th:only-of-type {\n",
       "        vertical-align: middle;\n",
       "    }\n",
       "\n",
       "    .dataframe tbody tr th {\n",
       "        vertical-align: top;\n",
       "    }\n",
       "\n",
       "    .dataframe thead th {\n",
       "        text-align: right;\n",
       "    }\n",
       "</style>\n",
       "<table border=\"1\" class=\"dataframe\">\n",
       "  <thead>\n",
       "    <tr style=\"text-align: right;\">\n",
       "      <th></th>\n",
       "      <th>count</th>\n",
       "      <th>Quantity</th>\n",
       "      <th>Description</th>\n",
       "    </tr>\n",
       "    <tr>\n",
       "      <th>StockCode</th>\n",
       "      <th></th>\n",
       "      <th></th>\n",
       "      <th></th>\n",
       "    </tr>\n",
       "  </thead>\n",
       "  <tbody>\n",
       "    <tr>\n",
       "      <th>85123A</th>\n",
       "      <td>2065</td>\n",
       "      <td>34185</td>\n",
       "      <td>[WHITE HANGING HEART T-LIGHT HOLDER, CREAM HANGING HEART T-LIGHT HOLDER]</td>\n",
       "    </tr>\n",
       "    <tr>\n",
       "      <th>22423</th>\n",
       "      <td>1894</td>\n",
       "      <td>11529</td>\n",
       "      <td>[REGENCY CAKESTAND 3 TIER]</td>\n",
       "    </tr>\n",
       "    <tr>\n",
       "      <th>85099B</th>\n",
       "      <td>1659</td>\n",
       "      <td>44963</td>\n",
       "      <td>[JUMBO BAG RED RETROSPOT]</td>\n",
       "    </tr>\n",
       "    <tr>\n",
       "      <th>47566</th>\n",
       "      <td>1409</td>\n",
       "      <td>15015</td>\n",
       "      <td>[PARTY BUNTING]</td>\n",
       "    </tr>\n",
       "    <tr>\n",
       "      <th>84879</th>\n",
       "      <td>1405</td>\n",
       "      <td>35215</td>\n",
       "      <td>[ASSORTED COLOUR BIRD ORNAMENT]</td>\n",
       "    </tr>\n",
       "    <tr>\n",
       "      <th>20725</th>\n",
       "      <td>1346</td>\n",
       "      <td>17224</td>\n",
       "      <td>[LUNCH BAG RED RETROSPOT, LUNCH BAG RED SPOTTY]</td>\n",
       "    </tr>\n",
       "    <tr>\n",
       "      <th>22720</th>\n",
       "      <td>1224</td>\n",
       "      <td>6857</td>\n",
       "      <td>[SET OF 3 CAKE TINS PANTRY DESIGN ]</td>\n",
       "    </tr>\n",
       "    <tr>\n",
       "      <th>POST</th>\n",
       "      <td>1196</td>\n",
       "      <td>3002</td>\n",
       "      <td>[POSTAGE]</td>\n",
       "    </tr>\n",
       "    <tr>\n",
       "      <th>22197</th>\n",
       "      <td>1110</td>\n",
       "      <td>48689</td>\n",
       "      <td>[SMALL POPCORN HOLDER, POPCORN HOLDER]</td>\n",
       "    </tr>\n",
       "    <tr>\n",
       "      <th>23203</th>\n",
       "      <td>1108</td>\n",
       "      <td>18908</td>\n",
       "      <td>[JUMBO BAG DOILEY PATTERNS, JUMBO BAG VINTAGE DOILEY , JUMBO BAG VINTAGE DOILY ]</td>\n",
       "    </tr>\n",
       "  </tbody>\n",
       "</table>\n",
       "</div>"
      ],
      "text/plain": [
       "           count  Quantity  \\\n",
       "StockCode                    \n",
       "85123A      2065     34185   \n",
       "22423       1894     11529   \n",
       "85099B      1659     44963   \n",
       "47566       1409     15015   \n",
       "84879       1405     35215   \n",
       "20725       1346     17224   \n",
       "22720       1224      6857   \n",
       "POST        1196      3002   \n",
       "22197       1110     48689   \n",
       "23203       1108     18908   \n",
       "\n",
       "                                                                                Description  \n",
       "StockCode                                                                                    \n",
       "85123A             [WHITE HANGING HEART T-LIGHT HOLDER, CREAM HANGING HEART T-LIGHT HOLDER]  \n",
       "22423                                                            [REGENCY CAKESTAND 3 TIER]  \n",
       "85099B                                                            [JUMBO BAG RED RETROSPOT]  \n",
       "47566                                                                       [PARTY BUNTING]  \n",
       "84879                                                       [ASSORTED COLOUR BIRD ORNAMENT]  \n",
       "20725                                       [LUNCH BAG RED RETROSPOT, LUNCH BAG RED SPOTTY]  \n",
       "22720                                                   [SET OF 3 CAKE TINS PANTRY DESIGN ]  \n",
       "POST                                                                              [POSTAGE]  \n",
       "22197                                                [SMALL POPCORN HOLDER, POPCORN HOLDER]  \n",
       "23203      [JUMBO BAG DOILEY PATTERNS, JUMBO BAG VINTAGE DOILEY , JUMBO BAG VINTAGE DOILY ]  "
      ]
     },
     "execution_count": 26,
     "metadata": {},
     "output_type": "execute_result"
    }
   ],
   "source": [
    "Retail_Copy.groupby('StockCode').agg({'StockCode':'count', 'Quantity':'sum','Description':'unique'}).rename(columns={'StockCode':'count'}).sort_values(by='count', ascending=False).head(10)"
   ]
  },
  {
   "cell_type": "markdown",
   "id": "a71b2ad9-5953-4561-9e28-a17ce472f2c4",
   "metadata": {},
   "source": [
    "- **Product Variety:** The dataset contains 3684 unique stock codes, indicating a substantial variety of products available in the online retail store. This diversity can potentially lead to the identification of distinct customer clusters, with preferences for different types of products.\n",
    "- **Stock Code Anomalies:** We observe that while most stock codes are composed of 5 or 6 characters(with number of numeric characters eqaul 5), there are some anomalies like the code 'POST'. These anomalies might represent services or non-product transactions (perhaps postage fees) rather than actual products. To maintain the focus of the project, which is clustering based on product purchases and creating a recommendation system, these anomalies should be further investigated and possibly treated appropriately to ensure data integrity."
   ]
  },
  {
   "cell_type": "code",
   "execution_count": 27,
   "id": "1f4dee67-768d-41c4-b15c-45aefde945af",
   "metadata": {},
   "outputs": [],
   "source": [
    "def filter_x(x):\n",
    "    count=0\n",
    "    for c in str(x):\n",
    "        if c.isdigit():\n",
    "            count+=1\n",
    "    if count==5:\n",
    "        x = False\n",
    "    else:\n",
    "        x = True\n",
    "    return x    "
   ]
  },
  {
   "cell_type": "code",
   "execution_count": 28,
   "id": "c16ae8e3-7bcb-4d8f-bfcf-7975345480e1",
   "metadata": {},
   "outputs": [
    {
     "data": {
      "text/plain": [
       "Index(['InvoiceNo', 'StockCode', 'Description', 'Quantity', 'InvoiceDate',\n",
       "       'UnitPrice', 'CustomerID', 'Country'],\n",
       "      dtype='object')"
      ]
     },
     "execution_count": 28,
     "metadata": {},
     "output_type": "execute_result"
    }
   ],
   "source": [
    "Retail_Copy.columns"
   ]
  },
  {
   "cell_type": "code",
   "execution_count": 29,
   "id": "77fdcb6e-9513-47e3-b200-acddaf8cc1f2",
   "metadata": {},
   "outputs": [],
   "source": [
    "Stock_Code_Anomalies = Retail_Copy[Retail_Copy['StockCode'].apply(filter_x)]"
   ]
  },
  {
   "cell_type": "code",
   "execution_count": 30,
   "id": "be99cdf9-54f6-479a-bec7-483a8ee50d64",
   "metadata": {},
   "outputs": [
    {
     "data": {
      "text/html": [
       "<div>\n",
       "<style scoped>\n",
       "    .dataframe tbody tr th:only-of-type {\n",
       "        vertical-align: middle;\n",
       "    }\n",
       "\n",
       "    .dataframe tbody tr th {\n",
       "        vertical-align: top;\n",
       "    }\n",
       "\n",
       "    .dataframe thead th {\n",
       "        text-align: right;\n",
       "    }\n",
       "</style>\n",
       "<table border=\"1\" class=\"dataframe\">\n",
       "  <thead>\n",
       "    <tr style=\"text-align: right;\">\n",
       "      <th></th>\n",
       "      <th>count</th>\n",
       "      <th>Quantity</th>\n",
       "      <th>Description</th>\n",
       "    </tr>\n",
       "    <tr>\n",
       "      <th>StockCode</th>\n",
       "      <th></th>\n",
       "      <th></th>\n",
       "      <th></th>\n",
       "    </tr>\n",
       "  </thead>\n",
       "  <tbody>\n",
       "    <tr>\n",
       "      <th>BANK CHARGES</th>\n",
       "      <td>12</td>\n",
       "      <td>12</td>\n",
       "      <td>[Bank Charges]</td>\n",
       "    </tr>\n",
       "    <tr>\n",
       "      <th>C2</th>\n",
       "      <td>134</td>\n",
       "      <td>133</td>\n",
       "      <td>[CARRIAGE]</td>\n",
       "    </tr>\n",
       "    <tr>\n",
       "      <th>CRUK</th>\n",
       "      <td>16</td>\n",
       "      <td>-16</td>\n",
       "      <td>[CRUK Commission]</td>\n",
       "    </tr>\n",
       "    <tr>\n",
       "      <th>D</th>\n",
       "      <td>77</td>\n",
       "      <td>-1194</td>\n",
       "      <td>[Discount]</td>\n",
       "    </tr>\n",
       "    <tr>\n",
       "      <th>DOT</th>\n",
       "      <td>16</td>\n",
       "      <td>16</td>\n",
       "      <td>[DOTCOM POSTAGE]</td>\n",
       "    </tr>\n",
       "    <tr>\n",
       "      <th>M</th>\n",
       "      <td>460</td>\n",
       "      <td>2944</td>\n",
       "      <td>[Manual]</td>\n",
       "    </tr>\n",
       "    <tr>\n",
       "      <th>PADS</th>\n",
       "      <td>4</td>\n",
       "      <td>4</td>\n",
       "      <td>[PADS TO MATCH ALL CUSHIONS]</td>\n",
       "    </tr>\n",
       "    <tr>\n",
       "      <th>POST</th>\n",
       "      <td>1196</td>\n",
       "      <td>3002</td>\n",
       "      <td>[POSTAGE]</td>\n",
       "    </tr>\n",
       "  </tbody>\n",
       "</table>\n",
       "</div>"
      ],
      "text/plain": [
       "              count  Quantity                   Description\n",
       "StockCode                                                  \n",
       "BANK CHARGES     12        12                [Bank Charges]\n",
       "C2              134       133                    [CARRIAGE]\n",
       "CRUK             16       -16             [CRUK Commission]\n",
       "D                77     -1194                    [Discount]\n",
       "DOT              16        16              [DOTCOM POSTAGE]\n",
       "M               460      2944                      [Manual]\n",
       "PADS              4         4  [PADS TO MATCH ALL CUSHIONS]\n",
       "POST           1196      3002                     [POSTAGE]"
      ]
     },
     "execution_count": 30,
     "metadata": {},
     "output_type": "execute_result"
    }
   ],
   "source": [
    "Stock_Code_Anomalies.groupby('StockCode').agg({'StockCode':'count', 'Quantity':'sum','Description':'unique'}).rename(columns={'StockCode':'count'})"
   ]
  },
  {
   "cell_type": "markdown",
   "id": "027c3b06-ae3c-4103-a956-bac8158601a3",
   "metadata": {},
   "source": [
    "- **Based on the analysis**, we find that a very small proportion of the records, 8 out of 3684(0.48%), have anomalous stock codes, which deviate from the typical format observed in the majority of the data.\n",
    "\n",
    "- **These codes** seem to represent non-product transactions like \"BANK CHARGES\", \"POST\" (possibly postage fees), etc. Since they do not represent actual products and are a very small proportion of the dataset, including them in the analysis might introduce noise and distort the clustering and recommendation system.\n",
    "\n",
    "- **The strategy** would be to filter out and remove rows with anomalous stock codes from the dataset before proceeding with further analysis and model development."
   ]
  },
  {
   "cell_type": "code",
   "execution_count": 31,
   "id": "65b73d32-4916-49aa-a299-2ea358a14e9f",
   "metadata": {},
   "outputs": [],
   "source": [
    "Retail_Copy=Retail_Copy[~Retail_Copy['StockCode'].apply(filter_x)]"
   ]
  },
  {
   "cell_type": "code",
   "execution_count": 32,
   "id": "d62ef1df-0e84-46e4-a67c-45c7bbd1431b",
   "metadata": {},
   "outputs": [],
   "source": [
    "Retail_Copy['StockCode'] = Retail_Copy['StockCode'].astype(str)"
   ]
  },
  {
   "cell_type": "code",
   "execution_count": 33,
   "id": "23d57f76-f2f3-47a0-b413-74a2a6c02d34",
   "metadata": {},
   "outputs": [
    {
     "data": {
      "text/plain": [
       "(399689, 8)"
      ]
     },
     "execution_count": 33,
     "metadata": {},
     "output_type": "execute_result"
    }
   ],
   "source": [
    "Retail_Copy.shape"
   ]
  },
  {
   "cell_type": "markdown",
   "id": "e1d864e0-6221-46f9-908b-b1cb0e6569bd",
   "metadata": {},
   "source": [
    "#### **3. Description variable**"
   ]
  },
  {
   "cell_type": "code",
   "execution_count": 34,
   "id": "61c2184c-385a-42dd-8597-fdbbcc2653b6",
   "metadata": {},
   "outputs": [
    {
     "data": {
      "text/html": [
       "<div>\n",
       "<style scoped>\n",
       "    .dataframe tbody tr th:only-of-type {\n",
       "        vertical-align: middle;\n",
       "    }\n",
       "\n",
       "    .dataframe tbody tr th {\n",
       "        vertical-align: top;\n",
       "    }\n",
       "\n",
       "    .dataframe thead th {\n",
       "        text-align: right;\n",
       "    }\n",
       "</style>\n",
       "<table border=\"1\" class=\"dataframe\">\n",
       "  <thead>\n",
       "    <tr style=\"text-align: right;\">\n",
       "      <th></th>\n",
       "      <th>Variable Name</th>\n",
       "      <th>Role</th>\n",
       "      <th>Type</th>\n",
       "      <th>Description</th>\n",
       "      <th>Units</th>\n",
       "    </tr>\n",
       "  </thead>\n",
       "  <tbody>\n",
       "    <tr>\n",
       "      <th>2</th>\n",
       "      <td>Description</td>\n",
       "      <td>Feature</td>\n",
       "      <td>Categorical</td>\n",
       "      <td>product name</td>\n",
       "      <td>-</td>\n",
       "    </tr>\n",
       "  </tbody>\n",
       "</table>\n",
       "</div>"
      ],
      "text/plain": [
       "  Variable Name     Role         Type   Description Units\n",
       "2   Description  Feature  Categorical  product name     -"
      ]
     },
     "execution_count": 34,
     "metadata": {},
     "output_type": "execute_result"
    }
   ],
   "source": [
    "Variables_Table[Variables_Table['Variable Name']=='Description']"
   ]
  },
  {
   "cell_type": "code",
   "execution_count": 35,
   "id": "cc0bd8ef-bcca-41f0-9eef-3c842452f7fb",
   "metadata": {},
   "outputs": [
    {
     "data": {
      "text/html": [
       "<div>\n",
       "<style scoped>\n",
       "    .dataframe tbody tr th:only-of-type {\n",
       "        vertical-align: middle;\n",
       "    }\n",
       "\n",
       "    .dataframe tbody tr th {\n",
       "        vertical-align: top;\n",
       "    }\n",
       "\n",
       "    .dataframe thead th {\n",
       "        text-align: right;\n",
       "    }\n",
       "</style>\n",
       "<table border=\"1\" class=\"dataframe\">\n",
       "  <thead>\n",
       "    <tr style=\"text-align: right;\">\n",
       "      <th></th>\n",
       "      <th>count</th>\n",
       "      <th>Quantity</th>\n",
       "      <th>Description</th>\n",
       "    </tr>\n",
       "    <tr>\n",
       "      <th>Description</th>\n",
       "      <th></th>\n",
       "      <th></th>\n",
       "      <th></th>\n",
       "    </tr>\n",
       "  </thead>\n",
       "  <tbody>\n",
       "    <tr>\n",
       "      <th>WHITE HANGING HEART T-LIGHT HOLDER</th>\n",
       "      <td>2058</td>\n",
       "      <td>34128</td>\n",
       "      <td>[WHITE HANGING HEART T-LIGHT HOLDER]</td>\n",
       "    </tr>\n",
       "    <tr>\n",
       "      <th>REGENCY CAKESTAND 3 TIER</th>\n",
       "      <td>1894</td>\n",
       "      <td>11529</td>\n",
       "      <td>[REGENCY CAKESTAND 3 TIER]</td>\n",
       "    </tr>\n",
       "    <tr>\n",
       "      <th>JUMBO BAG RED RETROSPOT</th>\n",
       "      <td>1659</td>\n",
       "      <td>44963</td>\n",
       "      <td>[JUMBO BAG RED RETROSPOT]</td>\n",
       "    </tr>\n",
       "    <tr>\n",
       "      <th>PARTY BUNTING</th>\n",
       "      <td>1409</td>\n",
       "      <td>15015</td>\n",
       "      <td>[PARTY BUNTING]</td>\n",
       "    </tr>\n",
       "    <tr>\n",
       "      <th>ASSORTED COLOUR BIRD ORNAMENT</th>\n",
       "      <td>1405</td>\n",
       "      <td>35215</td>\n",
       "      <td>[ASSORTED COLOUR BIRD ORNAMENT]</td>\n",
       "    </tr>\n",
       "    <tr>\n",
       "      <th>LUNCH BAG RED RETROSPOT</th>\n",
       "      <td>1345</td>\n",
       "      <td>17024</td>\n",
       "      <td>[LUNCH BAG RED RETROSPOT]</td>\n",
       "    </tr>\n",
       "    <tr>\n",
       "      <th>SET OF 3 CAKE TINS PANTRY DESIGN</th>\n",
       "      <td>1224</td>\n",
       "      <td>6857</td>\n",
       "      <td>[SET OF 3 CAKE TINS PANTRY DESIGN ]</td>\n",
       "    </tr>\n",
       "    <tr>\n",
       "      <th>LUNCH BAG  BLACK SKULL.</th>\n",
       "      <td>1099</td>\n",
       "      <td>11128</td>\n",
       "      <td>[LUNCH BAG  BLACK SKULL.]</td>\n",
       "    </tr>\n",
       "    <tr>\n",
       "      <th>PACK OF 72 RETROSPOT CAKE CASES</th>\n",
       "      <td>1062</td>\n",
       "      <td>33386</td>\n",
       "      <td>[PACK OF 72 RETROSPOT CAKE CASES]</td>\n",
       "    </tr>\n",
       "    <tr>\n",
       "      <th>SPOTTY BUNTING</th>\n",
       "      <td>1026</td>\n",
       "      <td>7523</td>\n",
       "      <td>[SPOTTY BUNTING]</td>\n",
       "    </tr>\n",
       "  </tbody>\n",
       "</table>\n",
       "</div>"
      ],
      "text/plain": [
       "                                    count  Quantity  \\\n",
       "Description                                           \n",
       "WHITE HANGING HEART T-LIGHT HOLDER   2058     34128   \n",
       "REGENCY CAKESTAND 3 TIER             1894     11529   \n",
       "JUMBO BAG RED RETROSPOT              1659     44963   \n",
       "PARTY BUNTING                        1409     15015   \n",
       "ASSORTED COLOUR BIRD ORNAMENT        1405     35215   \n",
       "LUNCH BAG RED RETROSPOT              1345     17024   \n",
       "SET OF 3 CAKE TINS PANTRY DESIGN     1224      6857   \n",
       "LUNCH BAG  BLACK SKULL.              1099     11128   \n",
       "PACK OF 72 RETROSPOT CAKE CASES      1062     33386   \n",
       "SPOTTY BUNTING                       1026      7523   \n",
       "\n",
       "                                                             Description  \n",
       "Description                                                               \n",
       "WHITE HANGING HEART T-LIGHT HOLDER  [WHITE HANGING HEART T-LIGHT HOLDER]  \n",
       "REGENCY CAKESTAND 3 TIER                      [REGENCY CAKESTAND 3 TIER]  \n",
       "JUMBO BAG RED RETROSPOT                        [JUMBO BAG RED RETROSPOT]  \n",
       "PARTY BUNTING                                            [PARTY BUNTING]  \n",
       "ASSORTED COLOUR BIRD ORNAMENT            [ASSORTED COLOUR BIRD ORNAMENT]  \n",
       "LUNCH BAG RED RETROSPOT                        [LUNCH BAG RED RETROSPOT]  \n",
       "SET OF 3 CAKE TINS PANTRY DESIGN     [SET OF 3 CAKE TINS PANTRY DESIGN ]  \n",
       "LUNCH BAG  BLACK SKULL.                        [LUNCH BAG  BLACK SKULL.]  \n",
       "PACK OF 72 RETROSPOT CAKE CASES        [PACK OF 72 RETROSPOT CAKE CASES]  \n",
       "SPOTTY BUNTING                                          [SPOTTY BUNTING]  "
      ]
     },
     "execution_count": 35,
     "metadata": {},
     "output_type": "execute_result"
    }
   ],
   "source": [
    "Retail_Copy.groupby('Description').agg({'StockCode':'count', 'Quantity':'sum','Description':'unique'}).rename(columns={'StockCode':'count'}).sort_values(by='count', ascending=False).head(10)"
   ]
  },
  {
   "cell_type": "markdown",
   "id": "2dae8582-b162-4604-bbab-db49293d92ee",
   "metadata": {},
   "source": [
    "**Interestingly**, all the descriptions are in uppercase, which might be a standardized format for entering product descriptions in the database. However, considering the inconsistencies and anomalies encountered in the dataset so far, it would be prudent to check if there are descriptions entered in lowercase or a mix of case styles."
   ]
  },
  {
   "cell_type": "code",
   "execution_count": 36,
   "id": "92d54e6d-5556-4795-8919-c22f8242c54e",
   "metadata": {},
   "outputs": [
    {
     "data": {
      "text/plain": [
       "['BAG 500g SWIRLY MARBLES',\n",
       " 'POLYESTER FILLER PAD 45x45cm',\n",
       " 'POLYESTER FILLER PAD 45x30cm',\n",
       " 'POLYESTER FILLER PAD 40x40cm',\n",
       " 'FRENCH BLUE METAL DOOR SIGN No',\n",
       " 'BAG 250g SWIRLY MARBLES',\n",
       " 'BAG 125g SWIRLY MARBLES',\n",
       " '3 TRADITIONAl BISCUIT CUTTERS  SET',\n",
       " 'NUMBER TILE COTTAGE GARDEN No',\n",
       " 'FOLK ART GREETING CARD,pack/12',\n",
       " 'ESSENTIAL BALM 3.5g TIN IN ENVELOPE',\n",
       " 'POLYESTER FILLER PAD 65CMx65CM',\n",
       " 'NUMBER TILE VINTAGE FONT No ',\n",
       " 'POLYESTER FILLER PAD 30CMx30CM',\n",
       " 'POLYESTER FILLER PAD 60x40cm',\n",
       " 'FLOWERS HANDBAG blue and orange',\n",
       " 'Next Day Carriage',\n",
       " 'THE KING GIFT BAG 25x24x12cm',\n",
       " 'High Resolution Image']"
      ]
     },
     "execution_count": 36,
     "metadata": {},
     "output_type": "execute_result"
    }
   ],
   "source": [
    "lowercase_descriptions = [desc for desc in Retail_Copy['Description'].unique() if any(char.islower() for char in desc)]\n",
    "lowercase_descriptions"
   ]
  },
  {
   "cell_type": "markdown",
   "id": "8835dab5-4c57-4680-8be6-accadcc36174",
   "metadata": {},
   "source": [
    "**Strategy:**\n",
    "- Step 1: Remove the rows where the descriptions contain service-related information like \"Next Day Carriage\" and \"High Resolution Image\", as these do not represent actual products and would not contribute to the clustering and recommendation system we aim to build.\n",
    "- Step 2: For the remaining descriptions with mixed case, standardize the text to uppercase to maintain uniformity across the dataset. This will also assist in reducing the chances of having duplicate entries with different case styles.\n"
   ]
  },
  {
   "cell_type": "code",
   "execution_count": 37,
   "id": "30875590-9c02-4c90-9b46-58a307173efc",
   "metadata": {},
   "outputs": [],
   "source": [
    "Retail_Copy=Retail_Copy[~((Retail_Copy['Description']=='Next Day Carriage')|(Retail_Copy['Description']=='High Resolution Image'))]"
   ]
  },
  {
   "cell_type": "code",
   "execution_count": 38,
   "id": "2d5ef719-4a32-407c-952d-4e8f5b38b198",
   "metadata": {},
   "outputs": [],
   "source": [
    "Retail_Copy.loc[:,'Description'] = Retail_Copy.loc[:,'Description'].str.upper()"
   ]
  },
  {
   "cell_type": "code",
   "execution_count": 39,
   "id": "b70de877-a2ac-4745-b555-c6475a14eb10",
   "metadata": {},
   "outputs": [
    {
     "data": {
      "text/html": [
       "<div>\n",
       "<style scoped>\n",
       "    .dataframe tbody tr th:only-of-type {\n",
       "        vertical-align: middle;\n",
       "    }\n",
       "\n",
       "    .dataframe tbody tr th {\n",
       "        vertical-align: top;\n",
       "    }\n",
       "\n",
       "    .dataframe thead th {\n",
       "        text-align: right;\n",
       "    }\n",
       "</style>\n",
       "<table border=\"1\" class=\"dataframe\">\n",
       "  <thead>\n",
       "    <tr style=\"text-align: right;\">\n",
       "      <th></th>\n",
       "      <th>count</th>\n",
       "      <th>unique</th>\n",
       "      <th>top</th>\n",
       "      <th>freq</th>\n",
       "    </tr>\n",
       "  </thead>\n",
       "  <tbody>\n",
       "    <tr>\n",
       "      <th>StockCode</th>\n",
       "      <td>399606</td>\n",
       "      <td>3674</td>\n",
       "      <td>85123A</td>\n",
       "      <td>2065</td>\n",
       "    </tr>\n",
       "    <tr>\n",
       "      <th>Description</th>\n",
       "      <td>399606</td>\n",
       "      <td>3886</td>\n",
       "      <td>WHITE HANGING HEART T-LIGHT HOLDER</td>\n",
       "      <td>2058</td>\n",
       "    </tr>\n",
       "  </tbody>\n",
       "</table>\n",
       "</div>"
      ],
      "text/plain": [
       "              count unique                                 top  freq\n",
       "StockCode    399606   3674                              85123A  2065\n",
       "Description  399606   3886  WHITE HANGING HEART T-LIGHT HOLDER  2058"
      ]
     },
     "execution_count": 39,
     "metadata": {},
     "output_type": "execute_result"
    }
   ],
   "source": [
    "pd.DataFrame(Retail_Copy[['StockCode', 'Description']].describe()).T"
   ]
  },
  {
   "cell_type": "code",
   "execution_count": 40,
   "id": "4816ef3a-42eb-4426-8d38-ceda82199daa",
   "metadata": {},
   "outputs": [],
   "source": [
    "Stock_Desc = Retail_Copy[['StockCode', 'Description']].drop_duplicates().reset_index(drop=True)"
   ]
  },
  {
   "cell_type": "code",
   "execution_count": 41,
   "id": "a20d1411-e3af-4f44-bc31-88a76ad6b105",
   "metadata": {},
   "outputs": [
    {
     "data": {
      "text/plain": [
       "232"
      ]
     },
     "execution_count": 41,
     "metadata": {},
     "output_type": "execute_result"
    }
   ],
   "source": [
    "Stock_Desc['StockCode'].duplicated().sum()"
   ]
  },
  {
   "cell_type": "code",
   "execution_count": 42,
   "id": "8ea087ba-5da3-4d31-a0e2-06ccbf774f59",
   "metadata": {},
   "outputs": [
    {
     "data": {
      "text/plain": [
       "20"
      ]
     },
     "execution_count": 42,
     "metadata": {},
     "output_type": "execute_result"
    }
   ],
   "source": [
    "Stock_Desc['Description'].duplicated().sum()"
   ]
  },
  {
   "cell_type": "code",
   "execution_count": 43,
   "id": "b9b7c169-49d5-4fda-86aa-383e11198aaf",
   "metadata": {},
   "outputs": [],
   "source": [
    "dub_Desc = Stock_Desc[Stock_Desc['Description'].duplicated()]['Description']"
   ]
  },
  {
   "cell_type": "code",
   "execution_count": 44,
   "id": "0f04094e-175d-4611-bcb0-2f8575bdcdcd",
   "metadata": {},
   "outputs": [],
   "source": [
    "dub_Stock = Stock_Desc[Stock_Desc['StockCode'].duplicated()]['StockCode']\n"
   ]
  },
  {
   "cell_type": "code",
   "execution_count": 45,
   "id": "1ae21158-6220-4efc-b716-24f566f683e0",
   "metadata": {},
   "outputs": [
    {
     "data": {
      "text/html": [
       "<div>\n",
       "<style scoped>\n",
       "    .dataframe tbody tr th:only-of-type {\n",
       "        vertical-align: middle;\n",
       "    }\n",
       "\n",
       "    .dataframe tbody tr th {\n",
       "        vertical-align: top;\n",
       "    }\n",
       "\n",
       "    .dataframe thead th {\n",
       "        text-align: right;\n",
       "    }\n",
       "</style>\n",
       "<table border=\"1\" class=\"dataframe\">\n",
       "  <thead>\n",
       "    <tr style=\"text-align: right;\">\n",
       "      <th></th>\n",
       "      <th>InvoiceNo</th>\n",
       "      <th>StockCode</th>\n",
       "      <th>Description</th>\n",
       "      <th>Quantity</th>\n",
       "      <th>InvoiceDate</th>\n",
       "      <th>UnitPrice</th>\n",
       "      <th>CustomerID</th>\n",
       "      <th>Country</th>\n",
       "    </tr>\n",
       "  </thead>\n",
       "  <tbody>\n",
       "    <tr>\n",
       "      <th>723</th>\n",
       "      <td>536446</td>\n",
       "      <td>10133</td>\n",
       "      <td>COLOURING PENCILS BROWN TUBE</td>\n",
       "      <td>5</td>\n",
       "      <td>2010-12-01 12:15:00</td>\n",
       "      <td>0.850</td>\n",
       "      <td>15983.000</td>\n",
       "      <td>United Kingdom</td>\n",
       "    </tr>\n",
       "    <tr>\n",
       "      <th>218168</th>\n",
       "      <td>563674</td>\n",
       "      <td>10135</td>\n",
       "      <td>COLOURING PENCILS BROWN TUBE</td>\n",
       "      <td>40</td>\n",
       "      <td>2011-08-18 11:59:00</td>\n",
       "      <td>1.250</td>\n",
       "      <td>14132.000</td>\n",
       "      <td>United Kingdom</td>\n",
       "    </tr>\n",
       "    <tr>\n",
       "      <th>316966</th>\n",
       "      <td>573373</td>\n",
       "      <td>72131</td>\n",
       "      <td>COLUMBIAN CANDLE RECTANGLE</td>\n",
       "      <td>1</td>\n",
       "      <td>2011-10-30 13:37:00</td>\n",
       "      <td>1.950</td>\n",
       "      <td>14684.000</td>\n",
       "      <td>United Kingdom</td>\n",
       "    </tr>\n",
       "    <tr>\n",
       "      <th>124579</th>\n",
       "      <td>552285</td>\n",
       "      <td>72133</td>\n",
       "      <td>COLUMBIAN CANDLE RECTANGLE</td>\n",
       "      <td>2</td>\n",
       "      <td>2011-05-08 12:58:00</td>\n",
       "      <td>1.250</td>\n",
       "      <td>14684.000</td>\n",
       "      <td>United Kingdom</td>\n",
       "    </tr>\n",
       "    <tr>\n",
       "      <th>11844</th>\n",
       "      <td>537804</td>\n",
       "      <td>72128</td>\n",
       "      <td>COLUMBIAN CANDLE ROUND</td>\n",
       "      <td>9</td>\n",
       "      <td>2010-12-08 13:17:00</td>\n",
       "      <td>0.850</td>\n",
       "      <td>12748.000</td>\n",
       "      <td>United Kingdom</td>\n",
       "    </tr>\n",
       "  </tbody>\n",
       "</table>\n",
       "</div>"
      ],
      "text/plain": [
       "       InvoiceNo StockCode                   Description  Quantity  \\\n",
       "723       536446     10133  COLOURING PENCILS BROWN TUBE         5   \n",
       "218168    563674     10135  COLOURING PENCILS BROWN TUBE        40   \n",
       "316966    573373     72131    COLUMBIAN CANDLE RECTANGLE         1   \n",
       "124579    552285     72133    COLUMBIAN CANDLE RECTANGLE         2   \n",
       "11844     537804     72128        COLUMBIAN CANDLE ROUND         9   \n",
       "\n",
       "               InvoiceDate  UnitPrice  CustomerID         Country  \n",
       "723    2010-12-01 12:15:00      0.850   15983.000  United Kingdom  \n",
       "218168 2011-08-18 11:59:00      1.250   14132.000  United Kingdom  \n",
       "316966 2011-10-30 13:37:00      1.950   14684.000  United Kingdom  \n",
       "124579 2011-05-08 12:58:00      1.250   14684.000  United Kingdom  \n",
       "11844  2010-12-08 13:17:00      0.850   12748.000  United Kingdom  "
      ]
     },
     "execution_count": 45,
     "metadata": {},
     "output_type": "execute_result"
    }
   ],
   "source": [
    "Retail_Copy[Retail_Copy['Description'].isin(dub_Desc)].sort_values(by='Description').drop_duplicates(subset='StockCode').head()"
   ]
  },
  {
   "cell_type": "code",
   "execution_count": 46,
   "id": "48b335e7-a148-43ed-a34c-a49f83e85ee6",
   "metadata": {},
   "outputs": [
    {
     "data": {
      "text/html": [
       "<div>\n",
       "<style scoped>\n",
       "    .dataframe tbody tr th:only-of-type {\n",
       "        vertical-align: middle;\n",
       "    }\n",
       "\n",
       "    .dataframe tbody tr th {\n",
       "        vertical-align: top;\n",
       "    }\n",
       "\n",
       "    .dataframe thead th {\n",
       "        text-align: right;\n",
       "    }\n",
       "</style>\n",
       "<table border=\"1\" class=\"dataframe\">\n",
       "  <thead>\n",
       "    <tr style=\"text-align: right;\">\n",
       "      <th></th>\n",
       "      <th>InvoiceNo</th>\n",
       "      <th>StockCode</th>\n",
       "      <th>Description</th>\n",
       "      <th>Quantity</th>\n",
       "      <th>InvoiceDate</th>\n",
       "      <th>UnitPrice</th>\n",
       "      <th>CustomerID</th>\n",
       "      <th>Country</th>\n",
       "    </tr>\n",
       "  </thead>\n",
       "  <tbody>\n",
       "    <tr>\n",
       "      <th>66811</th>\n",
       "      <td>545054</td>\n",
       "      <td>16156L</td>\n",
       "      <td>WRAP, CAROUSEL</td>\n",
       "      <td>25</td>\n",
       "      <td>2011-02-27 12:41:00</td>\n",
       "      <td>0.420</td>\n",
       "      <td>14472.000</td>\n",
       "      <td>United Kingdom</td>\n",
       "    </tr>\n",
       "    <tr>\n",
       "      <th>155882</th>\n",
       "      <td>556199</td>\n",
       "      <td>16156L</td>\n",
       "      <td>WRAP CAROUSEL</td>\n",
       "      <td>25</td>\n",
       "      <td>2011-06-09 12:40:00</td>\n",
       "      <td>0.420</td>\n",
       "      <td>16170.000</td>\n",
       "      <td>United Kingdom</td>\n",
       "    </tr>\n",
       "    <tr>\n",
       "      <th>251446</th>\n",
       "      <td>567338</td>\n",
       "      <td>17107D</td>\n",
       "      <td>FLOWER FAIRY 5 SUMMER DRAW LINERS</td>\n",
       "      <td>6</td>\n",
       "      <td>2011-09-19 15:00:00</td>\n",
       "      <td>2.550</td>\n",
       "      <td>14146.000</td>\n",
       "      <td>United Kingdom</td>\n",
       "    </tr>\n",
       "    <tr>\n",
       "      <th>14230</th>\n",
       "      <td>538156</td>\n",
       "      <td>17107D</td>\n",
       "      <td>FLOWER FAIRY,5 SUMMER B'DRAW LINERS</td>\n",
       "      <td>10</td>\n",
       "      <td>2010-12-09 16:53:00</td>\n",
       "      <td>2.550</td>\n",
       "      <td>15555.000</td>\n",
       "      <td>United Kingdom</td>\n",
       "    </tr>\n",
       "    <tr>\n",
       "      <th>249852</th>\n",
       "      <td>567183</td>\n",
       "      <td>17107D</td>\n",
       "      <td>FLOWER FAIRY 5 DRAWER LINERS</td>\n",
       "      <td>2</td>\n",
       "      <td>2011-09-18 15:32:00</td>\n",
       "      <td>2.550</td>\n",
       "      <td>14769.000</td>\n",
       "      <td>United Kingdom</td>\n",
       "    </tr>\n",
       "  </tbody>\n",
       "</table>\n",
       "</div>"
      ],
      "text/plain": [
       "       InvoiceNo StockCode                          Description  Quantity  \\\n",
       "66811     545054    16156L                       WRAP, CAROUSEL        25   \n",
       "155882    556199    16156L                        WRAP CAROUSEL        25   \n",
       "251446    567338    17107D    FLOWER FAIRY 5 SUMMER DRAW LINERS         6   \n",
       "14230     538156    17107D  FLOWER FAIRY,5 SUMMER B'DRAW LINERS        10   \n",
       "249852    567183    17107D         FLOWER FAIRY 5 DRAWER LINERS         2   \n",
       "\n",
       "               InvoiceDate  UnitPrice  CustomerID         Country  \n",
       "66811  2011-02-27 12:41:00      0.420   14472.000  United Kingdom  \n",
       "155882 2011-06-09 12:40:00      0.420   16170.000  United Kingdom  \n",
       "251446 2011-09-19 15:00:00      2.550   14146.000  United Kingdom  \n",
       "14230  2010-12-09 16:53:00      2.550   15555.000  United Kingdom  \n",
       "249852 2011-09-18 15:32:00      2.550   14769.000  United Kingdom  "
      ]
     },
     "execution_count": 46,
     "metadata": {},
     "output_type": "execute_result"
    }
   ],
   "source": [
    "Retail_Copy[Retail_Copy['StockCode'].isin(dub_Stock)].sort_values(by='StockCode').drop_duplicates(subset='Description').head()"
   ]
  },
  {
   "cell_type": "markdown",
   "id": "6baa0185-f090-4b9f-9865-272f30e911a6",
   "metadata": {},
   "source": [
    "- StockCode and Description variables represnt the products.\n",
    "- By investigating unique values in each variable and make some analysis, we found that.\n",
    "  - The same product Description had written in some case differently.\n",
    "  - StockCode is unique identifier for the products.\n",
    "  - **We can use StockCode to refer recomindations more likely than Description.**"
   ]
  },
  {
   "cell_type": "markdown",
   "id": "844790bf-e354-4209-8f59-97201483a524",
   "metadata": {},
   "source": [
    "#### **4. Quantity variable**"
   ]
  },
  {
   "cell_type": "code",
   "execution_count": 47,
   "id": "1f72698f-c75e-443c-b842-e85ccb39d160",
   "metadata": {},
   "outputs": [
    {
     "data": {
      "text/html": [
       "<div>\n",
       "<style scoped>\n",
       "    .dataframe tbody tr th:only-of-type {\n",
       "        vertical-align: middle;\n",
       "    }\n",
       "\n",
       "    .dataframe tbody tr th {\n",
       "        vertical-align: top;\n",
       "    }\n",
       "\n",
       "    .dataframe thead th {\n",
       "        text-align: right;\n",
       "    }\n",
       "</style>\n",
       "<table border=\"1\" class=\"dataframe\">\n",
       "  <thead>\n",
       "    <tr style=\"text-align: right;\">\n",
       "      <th></th>\n",
       "      <th>Variable Name</th>\n",
       "      <th>Role</th>\n",
       "      <th>Type</th>\n",
       "      <th>Description</th>\n",
       "      <th>Units</th>\n",
       "    </tr>\n",
       "  </thead>\n",
       "  <tbody>\n",
       "    <tr>\n",
       "      <th>3</th>\n",
       "      <td>Quantity</td>\n",
       "      <td>Feature</td>\n",
       "      <td>Integer</td>\n",
       "      <td>the quantities of each product (item) per transaction</td>\n",
       "      <td>-</td>\n",
       "    </tr>\n",
       "  </tbody>\n",
       "</table>\n",
       "</div>"
      ],
      "text/plain": [
       "  Variable Name     Role     Type  \\\n",
       "3      Quantity  Feature  Integer   \n",
       "\n",
       "                                             Description Units  \n",
       "3  the quantities of each product (item) per transaction     -  "
      ]
     },
     "execution_count": 47,
     "metadata": {},
     "output_type": "execute_result"
    }
   ],
   "source": [
    "Variables_Table[Variables_Table['Variable Name']=='Quantity']"
   ]
  },
  {
   "cell_type": "code",
   "execution_count": 48,
   "id": "e740b008-2c30-4fab-af30-2a36b2c7015a",
   "metadata": {},
   "outputs": [
    {
     "data": {
      "text/html": [
       "<div>\n",
       "<style scoped>\n",
       "    .dataframe tbody tr th:only-of-type {\n",
       "        vertical-align: middle;\n",
       "    }\n",
       "\n",
       "    .dataframe tbody tr th {\n",
       "        vertical-align: top;\n",
       "    }\n",
       "\n",
       "    .dataframe thead th {\n",
       "        text-align: right;\n",
       "    }\n",
       "</style>\n",
       "<table border=\"1\" class=\"dataframe\">\n",
       "  <thead>\n",
       "    <tr style=\"text-align: right;\">\n",
       "      <th></th>\n",
       "      <th>count</th>\n",
       "      <th>mean</th>\n",
       "      <th>std</th>\n",
       "      <th>min</th>\n",
       "      <th>25%</th>\n",
       "      <th>50%</th>\n",
       "      <th>75%</th>\n",
       "      <th>max</th>\n",
       "    </tr>\n",
       "  </thead>\n",
       "  <tbody>\n",
       "    <tr>\n",
       "      <th>Quantity</th>\n",
       "      <td>399606.000</td>\n",
       "      <td>12.232</td>\n",
       "      <td>250.863</td>\n",
       "      <td>-80995.000</td>\n",
       "      <td>2.000</td>\n",
       "      <td>5.000</td>\n",
       "      <td>12.000</td>\n",
       "      <td>80995.000</td>\n",
       "    </tr>\n",
       "  </tbody>\n",
       "</table>\n",
       "</div>"
      ],
      "text/plain": [
       "              count   mean     std        min   25%   50%    75%       max\n",
       "Quantity 399606.000 12.232 250.863 -80995.000 2.000 5.000 12.000 80995.000"
      ]
     },
     "execution_count": 48,
     "metadata": {},
     "output_type": "execute_result"
    }
   ],
   "source": [
    "pd.DataFrame(Retail_Copy['Quantity'].describe()).T\n"
   ]
  },
  {
   "cell_type": "markdown",
   "id": "ae822bcd-7f62-4dbd-ba74-810cbefe5548",
   "metadata": {},
   "source": [
    "**Quantity:** This is an integer column indicating the quantity of products purchased in each transaction.\n",
    "- The negative values indicate returned or cancelled orders"
   ]
  },
  {
   "cell_type": "markdown",
   "id": "c21c7970-37c9-43b2-8dd3-14b943b0e396",
   "metadata": {},
   "source": [
    "#### **5. InvoiceDate variable**"
   ]
  },
  {
   "cell_type": "code",
   "execution_count": 49,
   "id": "b704aa78-7688-46f6-b28e-3ccde147c57a",
   "metadata": {},
   "outputs": [
    {
     "data": {
      "text/html": [
       "<div>\n",
       "<style scoped>\n",
       "    .dataframe tbody tr th:only-of-type {\n",
       "        vertical-align: middle;\n",
       "    }\n",
       "\n",
       "    .dataframe tbody tr th {\n",
       "        vertical-align: top;\n",
       "    }\n",
       "\n",
       "    .dataframe thead th {\n",
       "        text-align: right;\n",
       "    }\n",
       "</style>\n",
       "<table border=\"1\" class=\"dataframe\">\n",
       "  <thead>\n",
       "    <tr style=\"text-align: right;\">\n",
       "      <th></th>\n",
       "      <th>Variable Name</th>\n",
       "      <th>Role</th>\n",
       "      <th>Type</th>\n",
       "      <th>Description</th>\n",
       "      <th>Units</th>\n",
       "    </tr>\n",
       "  </thead>\n",
       "  <tbody>\n",
       "    <tr>\n",
       "      <th>4</th>\n",
       "      <td>InvoiceDate</td>\n",
       "      <td>Feature</td>\n",
       "      <td>Date</td>\n",
       "      <td>the day and time when each transaction was generated</td>\n",
       "      <td>-</td>\n",
       "    </tr>\n",
       "  </tbody>\n",
       "</table>\n",
       "</div>"
      ],
      "text/plain": [
       "  Variable Name     Role  Type  \\\n",
       "4   InvoiceDate  Feature  Date   \n",
       "\n",
       "                                            Description Units  \n",
       "4  the day and time when each transaction was generated     -  "
      ]
     },
     "execution_count": 49,
     "metadata": {},
     "output_type": "execute_result"
    }
   ],
   "source": [
    "Variables_Table[Variables_Table['Variable Name']=='InvoiceDate']"
   ]
  },
  {
   "cell_type": "code",
   "execution_count": 50,
   "id": "6f5e7a2b-8e3b-4223-9fee-24c98075d8b6",
   "metadata": {},
   "outputs": [
    {
     "data": {
      "text/html": [
       "<div>\n",
       "<style scoped>\n",
       "    .dataframe tbody tr th:only-of-type {\n",
       "        vertical-align: middle;\n",
       "    }\n",
       "\n",
       "    .dataframe tbody tr th {\n",
       "        vertical-align: top;\n",
       "    }\n",
       "\n",
       "    .dataframe thead th {\n",
       "        text-align: right;\n",
       "    }\n",
       "</style>\n",
       "<table border=\"1\" class=\"dataframe\">\n",
       "  <thead>\n",
       "    <tr style=\"text-align: right;\">\n",
       "      <th></th>\n",
       "      <th>count</th>\n",
       "      <th>mean</th>\n",
       "      <th>min</th>\n",
       "      <th>25%</th>\n",
       "      <th>50%</th>\n",
       "      <th>75%</th>\n",
       "      <th>max</th>\n",
       "    </tr>\n",
       "  </thead>\n",
       "  <tbody>\n",
       "    <tr>\n",
       "      <th>InvoiceDate</th>\n",
       "      <td>399606</td>\n",
       "      <td>2011-07-10 12:11:38.976291584</td>\n",
       "      <td>2010-12-01 08:26:00</td>\n",
       "      <td>2011-04-06 15:02:00</td>\n",
       "      <td>2011-07-29 15:51:00</td>\n",
       "      <td>2011-10-20 12:03:00</td>\n",
       "      <td>2011-12-09 12:50:00</td>\n",
       "    </tr>\n",
       "  </tbody>\n",
       "</table>\n",
       "</div>"
      ],
      "text/plain": [
       "              count                           mean                  min  \\\n",
       "InvoiceDate  399606  2011-07-10 12:11:38.976291584  2010-12-01 08:26:00   \n",
       "\n",
       "                             25%                  50%                  75%  \\\n",
       "InvoiceDate  2011-04-06 15:02:00  2011-07-29 15:51:00  2011-10-20 12:03:00   \n",
       "\n",
       "                             max  \n",
       "InvoiceDate  2011-12-09 12:50:00  "
      ]
     },
     "execution_count": 50,
     "metadata": {},
     "output_type": "execute_result"
    }
   ],
   "source": [
    "pd.DataFrame(Retail_Copy['InvoiceDate'].describe()).T"
   ]
  },
  {
   "cell_type": "markdown",
   "id": "2152cfee-689b-4aa2-aff8-95efcf198ba3",
   "metadata": {},
   "source": [
    "**InvoiceDate:** A datetime column that records the date and time of each transaction.\n",
    "\n",
    "- This variable has right formate type for analysis.\n",
    "- The first purchase in our dataset at 2010-12-01 08:26:00.\n",
    "- The first purchase in our dataset at 2011-12-09 12:50:00."
   ]
  },
  {
   "cell_type": "markdown",
   "id": "88daa3e3-fda5-4c14-bd8f-5c3edceeb290",
   "metadata": {},
   "source": [
    "#### **6. UnitPrice variable**"
   ]
  },
  {
   "cell_type": "code",
   "execution_count": 51,
   "id": "320992a3-9e1c-4015-82c1-01c123f084b1",
   "metadata": {},
   "outputs": [
    {
     "data": {
      "text/html": [
       "<div>\n",
       "<style scoped>\n",
       "    .dataframe tbody tr th:only-of-type {\n",
       "        vertical-align: middle;\n",
       "    }\n",
       "\n",
       "    .dataframe tbody tr th {\n",
       "        vertical-align: top;\n",
       "    }\n",
       "\n",
       "    .dataframe thead th {\n",
       "        text-align: right;\n",
       "    }\n",
       "</style>\n",
       "<table border=\"1\" class=\"dataframe\">\n",
       "  <thead>\n",
       "    <tr style=\"text-align: right;\">\n",
       "      <th></th>\n",
       "      <th>Variable Name</th>\n",
       "      <th>Role</th>\n",
       "      <th>Type</th>\n",
       "      <th>Description</th>\n",
       "      <th>Units</th>\n",
       "    </tr>\n",
       "  </thead>\n",
       "  <tbody>\n",
       "    <tr>\n",
       "      <th>5</th>\n",
       "      <td>UnitPrice</td>\n",
       "      <td>Feature</td>\n",
       "      <td>Continuous</td>\n",
       "      <td>product price per unit</td>\n",
       "      <td>sterling</td>\n",
       "    </tr>\n",
       "  </tbody>\n",
       "</table>\n",
       "</div>"
      ],
      "text/plain": [
       "  Variable Name     Role        Type             Description     Units\n",
       "5     UnitPrice  Feature  Continuous  product price per unit  sterling"
      ]
     },
     "execution_count": 51,
     "metadata": {},
     "output_type": "execute_result"
    }
   ],
   "source": [
    "Variables_Table[Variables_Table['Variable Name']=='UnitPrice']"
   ]
  },
  {
   "cell_type": "markdown",
   "id": "52886fbc-2f61-4f7f-aece-4eec95452134",
   "metadata": {},
   "source": [
    "**UnitPrice:** A float column representing the unit price of each product."
   ]
  },
  {
   "cell_type": "code",
   "execution_count": 52,
   "id": "bb7e43a4-8670-4806-9154-ca62ade9eec7",
   "metadata": {},
   "outputs": [
    {
     "data": {
      "text/html": [
       "<div>\n",
       "<style scoped>\n",
       "    .dataframe tbody tr th:only-of-type {\n",
       "        vertical-align: middle;\n",
       "    }\n",
       "\n",
       "    .dataframe tbody tr th {\n",
       "        vertical-align: top;\n",
       "    }\n",
       "\n",
       "    .dataframe thead th {\n",
       "        text-align: right;\n",
       "    }\n",
       "</style>\n",
       "<table border=\"1\" class=\"dataframe\">\n",
       "  <thead>\n",
       "    <tr style=\"text-align: right;\">\n",
       "      <th></th>\n",
       "      <th>count</th>\n",
       "      <th>mean</th>\n",
       "      <th>std</th>\n",
       "      <th>min</th>\n",
       "      <th>25%</th>\n",
       "      <th>50%</th>\n",
       "      <th>75%</th>\n",
       "      <th>max</th>\n",
       "    </tr>\n",
       "  </thead>\n",
       "  <tbody>\n",
       "    <tr>\n",
       "      <th>UnitPrice</th>\n",
       "      <td>399606.000</td>\n",
       "      <td>2.905</td>\n",
       "      <td>4.449</td>\n",
       "      <td>0.000</td>\n",
       "      <td>1.250</td>\n",
       "      <td>1.950</td>\n",
       "      <td>3.750</td>\n",
       "      <td>649.500</td>\n",
       "    </tr>\n",
       "  </tbody>\n",
       "</table>\n",
       "</div>"
      ],
      "text/plain": [
       "               count  mean   std   min   25%   50%   75%     max\n",
       "UnitPrice 399606.000 2.905 4.449 0.000 1.250 1.950 3.750 649.500"
      ]
     },
     "execution_count": 52,
     "metadata": {},
     "output_type": "execute_result"
    }
   ],
   "source": [
    "pd.DataFrame(Retail_Copy['UnitPrice'].describe()).T"
   ]
  },
  {
   "cell_type": "markdown",
   "id": "1134cd07-94ac-42b1-b3ff-5536a0f5b7e5",
   "metadata": {},
   "source": [
    "**Treating Zero Unit Prices**"
   ]
  },
  {
   "cell_type": "code",
   "execution_count": 53,
   "id": "9ad78031-4e2c-4c5c-bc13-2ef89c918e64",
   "metadata": {},
   "outputs": [],
   "source": [
    "Retail_Copy = Retail_Copy[~(Retail_Copy['UnitPrice']==0)]"
   ]
  },
  {
   "cell_type": "code",
   "execution_count": 54,
   "id": "35eff310-0bbe-4f8c-b107-d248b9757f99",
   "metadata": {},
   "outputs": [
    {
     "data": {
      "text/plain": [
       "(399573, 8)"
      ]
     },
     "execution_count": 54,
     "metadata": {},
     "output_type": "execute_result"
    }
   ],
   "source": [
    "Retail_Copy.shape"
   ]
  },
  {
   "cell_type": "markdown",
   "id": "086a638b-8547-4d43-8185-ebfa7bbc011a",
   "metadata": {},
   "source": [
    "#### **7. CustomerID variable**"
   ]
  },
  {
   "cell_type": "code",
   "execution_count": 55,
   "id": "21f9d1ef-4ee1-468e-900c-4b1b8a1f3d59",
   "metadata": {},
   "outputs": [
    {
     "data": {
      "text/html": [
       "<div>\n",
       "<style scoped>\n",
       "    .dataframe tbody tr th:only-of-type {\n",
       "        vertical-align: middle;\n",
       "    }\n",
       "\n",
       "    .dataframe tbody tr th {\n",
       "        vertical-align: top;\n",
       "    }\n",
       "\n",
       "    .dataframe thead th {\n",
       "        text-align: right;\n",
       "    }\n",
       "</style>\n",
       "<table border=\"1\" class=\"dataframe\">\n",
       "  <thead>\n",
       "    <tr style=\"text-align: right;\">\n",
       "      <th></th>\n",
       "      <th>Variable Name</th>\n",
       "      <th>Role</th>\n",
       "      <th>Type</th>\n",
       "      <th>Description</th>\n",
       "      <th>Units</th>\n",
       "    </tr>\n",
       "  </thead>\n",
       "  <tbody>\n",
       "    <tr>\n",
       "      <th>6</th>\n",
       "      <td>CustomerID</td>\n",
       "      <td>Feature</td>\n",
       "      <td>Categorical</td>\n",
       "      <td>a 5-digit integral number uniquely assigned to each customer</td>\n",
       "      <td>-</td>\n",
       "    </tr>\n",
       "  </tbody>\n",
       "</table>\n",
       "</div>"
      ],
      "text/plain": [
       "  Variable Name     Role         Type  \\\n",
       "6    CustomerID  Feature  Categorical   \n",
       "\n",
       "                                                    Description Units  \n",
       "6  a 5-digit integral number uniquely assigned to each customer     -  "
      ]
     },
     "execution_count": 55,
     "metadata": {},
     "output_type": "execute_result"
    }
   ],
   "source": [
    "Variables_Table[Variables_Table['Variable Name']=='CustomerID']"
   ]
  },
  {
   "cell_type": "markdown",
   "id": "d4a76323-323a-4bea-a496-99f70fd799a7",
   "metadata": {},
   "source": [
    "**CustomerID:** A float column that contains the customer ID for each transaction."
   ]
  },
  {
   "cell_type": "markdown",
   "id": "c34e309e-9290-4669-92d8-1b606df172f9",
   "metadata": {},
   "source": [
    "**Transforming data into a format suitable for analysis.**"
   ]
  },
  {
   "cell_type": "code",
   "execution_count": 56,
   "id": "340fa875-91c9-478b-aa50-5d6625bfd6a1",
   "metadata": {},
   "outputs": [],
   "source": [
    "Retail_Copy.loc[:,'CustomerID'] = Retail_Copy.loc[:,'CustomerID'].astype(str)"
   ]
  },
  {
   "cell_type": "code",
   "execution_count": 57,
   "id": "ba4ea849-403e-4b27-90a9-a86ae695acb6",
   "metadata": {},
   "outputs": [
    {
     "data": {
      "text/html": [
       "<div>\n",
       "<style scoped>\n",
       "    .dataframe tbody tr th:only-of-type {\n",
       "        vertical-align: middle;\n",
       "    }\n",
       "\n",
       "    .dataframe tbody tr th {\n",
       "        vertical-align: top;\n",
       "    }\n",
       "\n",
       "    .dataframe thead th {\n",
       "        text-align: right;\n",
       "    }\n",
       "</style>\n",
       "<table border=\"1\" class=\"dataframe\">\n",
       "  <thead>\n",
       "    <tr style=\"text-align: right;\">\n",
       "      <th></th>\n",
       "      <th>count</th>\n",
       "      <th>unique</th>\n",
       "      <th>top</th>\n",
       "      <th>freq</th>\n",
       "    </tr>\n",
       "  </thead>\n",
       "  <tbody>\n",
       "    <tr>\n",
       "      <th>CustomerID</th>\n",
       "      <td>399573</td>\n",
       "      <td>4362</td>\n",
       "      <td>17841.0</td>\n",
       "      <td>7800</td>\n",
       "    </tr>\n",
       "  </tbody>\n",
       "</table>\n",
       "</div>"
      ],
      "text/plain": [
       "             count unique      top  freq\n",
       "CustomerID  399573   4362  17841.0  7800"
      ]
     },
     "execution_count": 57,
     "metadata": {},
     "output_type": "execute_result"
    }
   ],
   "source": [
    "pd.DataFrame(Retail_Copy['CustomerID'].describe()).T"
   ]
  },
  {
   "cell_type": "markdown",
   "id": "bb5cd3b2-2632-4efd-9acd-3ef0e0453c6c",
   "metadata": {},
   "source": [
    "**We have unique 4362 customers.**"
   ]
  },
  {
   "cell_type": "markdown",
   "id": "79cb56e0-cafa-4858-8e59-bc74ffce7f49",
   "metadata": {},
   "source": [
    "#### **8. Country variable**"
   ]
  },
  {
   "cell_type": "code",
   "execution_count": 58,
   "id": "2d01ed99-cc97-45ec-b0ed-55d50fecc17c",
   "metadata": {},
   "outputs": [
    {
     "data": {
      "text/html": [
       "<div>\n",
       "<style scoped>\n",
       "    .dataframe tbody tr th:only-of-type {\n",
       "        vertical-align: middle;\n",
       "    }\n",
       "\n",
       "    .dataframe tbody tr th {\n",
       "        vertical-align: top;\n",
       "    }\n",
       "\n",
       "    .dataframe thead th {\n",
       "        text-align: right;\n",
       "    }\n",
       "</style>\n",
       "<table border=\"1\" class=\"dataframe\">\n",
       "  <thead>\n",
       "    <tr style=\"text-align: right;\">\n",
       "      <th></th>\n",
       "      <th>Variable Name</th>\n",
       "      <th>Role</th>\n",
       "      <th>Type</th>\n",
       "      <th>Description</th>\n",
       "      <th>Units</th>\n",
       "    </tr>\n",
       "  </thead>\n",
       "  <tbody>\n",
       "    <tr>\n",
       "      <th>7</th>\n",
       "      <td>Country</td>\n",
       "      <td>Feature</td>\n",
       "      <td>Categorical</td>\n",
       "      <td>the name of the country where each customer resides</td>\n",
       "      <td>-</td>\n",
       "    </tr>\n",
       "  </tbody>\n",
       "</table>\n",
       "</div>"
      ],
      "text/plain": [
       "  Variable Name     Role         Type  \\\n",
       "7       Country  Feature  Categorical   \n",
       "\n",
       "                                           Description Units  \n",
       "7  the name of the country where each customer resides     -  "
      ]
     },
     "execution_count": 58,
     "metadata": {},
     "output_type": "execute_result"
    }
   ],
   "source": [
    "Variables_Table[Variables_Table['Variable Name']=='Country']"
   ]
  },
  {
   "cell_type": "code",
   "execution_count": 59,
   "id": "5fc756f6-e9d7-452a-bc30-8ad201d907e8",
   "metadata": {},
   "outputs": [
    {
     "data": {
      "text/html": [
       "<div>\n",
       "<style scoped>\n",
       "    .dataframe tbody tr th:only-of-type {\n",
       "        vertical-align: middle;\n",
       "    }\n",
       "\n",
       "    .dataframe tbody tr th {\n",
       "        vertical-align: top;\n",
       "    }\n",
       "\n",
       "    .dataframe thead th {\n",
       "        text-align: right;\n",
       "    }\n",
       "</style>\n",
       "<table border=\"1\" class=\"dataframe\">\n",
       "  <thead>\n",
       "    <tr style=\"text-align: right;\">\n",
       "      <th></th>\n",
       "      <th>count</th>\n",
       "      <th>unique</th>\n",
       "      <th>top</th>\n",
       "      <th>freq</th>\n",
       "    </tr>\n",
       "  </thead>\n",
       "  <tbody>\n",
       "    <tr>\n",
       "      <th>Country</th>\n",
       "      <td>399573</td>\n",
       "      <td>37</td>\n",
       "      <td>United Kingdom</td>\n",
       "      <td>356008</td>\n",
       "    </tr>\n",
       "  </tbody>\n",
       "</table>\n",
       "</div>"
      ],
      "text/plain": [
       "          count unique             top    freq\n",
       "Country  399573     37  United Kingdom  356008"
      ]
     },
     "execution_count": 59,
     "metadata": {},
     "output_type": "execute_result"
    }
   ],
   "source": [
    "pd.DataFrame(Retail_Copy['Country'].describe()).T"
   ]
  },
  {
   "cell_type": "code",
   "execution_count": 60,
   "id": "8ea192d0-2558-456f-b45b-9daa577b9e0f",
   "metadata": {},
   "outputs": [
    {
     "data": {
      "text/html": [
       "<div>\n",
       "<style scoped>\n",
       "    .dataframe tbody tr th:only-of-type {\n",
       "        vertical-align: middle;\n",
       "    }\n",
       "\n",
       "    .dataframe tbody tr th {\n",
       "        vertical-align: top;\n",
       "    }\n",
       "\n",
       "    .dataframe thead th {\n",
       "        text-align: right;\n",
       "    }\n",
       "</style>\n",
       "<table border=\"1\" class=\"dataframe\">\n",
       "  <thead>\n",
       "    <tr style=\"text-align: right;\">\n",
       "      <th>Country</th>\n",
       "      <th>United Kingdom</th>\n",
       "      <th>Germany</th>\n",
       "      <th>France</th>\n",
       "      <th>EIRE</th>\n",
       "      <th>Spain</th>\n",
       "      <th>Netherlands</th>\n",
       "      <th>Belgium</th>\n",
       "      <th>Switzerland</th>\n",
       "      <th>Portugal</th>\n",
       "      <th>Australia</th>\n",
       "      <th>Norway</th>\n",
       "      <th>Italy</th>\n",
       "      <th>Channel Islands</th>\n",
       "      <th>Finland</th>\n",
       "      <th>Cyprus</th>\n",
       "      <th>Sweden</th>\n",
       "      <th>Austria</th>\n",
       "      <th>Denmark</th>\n",
       "      <th>Japan</th>\n",
       "      <th>Poland</th>\n",
       "      <th>USA</th>\n",
       "      <th>Israel</th>\n",
       "      <th>Unspecified</th>\n",
       "      <th>Singapore</th>\n",
       "      <th>Iceland</th>\n",
       "      <th>Canada</th>\n",
       "      <th>Greece</th>\n",
       "      <th>Malta</th>\n",
       "      <th>United Arab Emirates</th>\n",
       "      <th>European Community</th>\n",
       "      <th>RSA</th>\n",
       "      <th>Lebanon</th>\n",
       "      <th>Lithuania</th>\n",
       "      <th>Brazil</th>\n",
       "      <th>Czech Republic</th>\n",
       "      <th>Bahrain</th>\n",
       "      <th>Saudi Arabia</th>\n",
       "    </tr>\n",
       "  </thead>\n",
       "  <tbody>\n",
       "    <tr>\n",
       "      <th>count</th>\n",
       "      <td>356008</td>\n",
       "      <td>9079</td>\n",
       "      <td>8152</td>\n",
       "      <td>7368</td>\n",
       "      <td>2462</td>\n",
       "      <td>2326</td>\n",
       "      <td>1971</td>\n",
       "      <td>1843</td>\n",
       "      <td>1427</td>\n",
       "      <td>1253</td>\n",
       "      <td>1059</td>\n",
       "      <td>783</td>\n",
       "      <td>752</td>\n",
       "      <td>653</td>\n",
       "      <td>608</td>\n",
       "      <td>436</td>\n",
       "      <td>387</td>\n",
       "      <td>375</td>\n",
       "      <td>355</td>\n",
       "      <td>336</td>\n",
       "      <td>291</td>\n",
       "      <td>247</td>\n",
       "      <td>241</td>\n",
       "      <td>215</td>\n",
       "      <td>182</td>\n",
       "      <td>150</td>\n",
       "      <td>142</td>\n",
       "      <td>123</td>\n",
       "      <td>67</td>\n",
       "      <td>58</td>\n",
       "      <td>57</td>\n",
       "      <td>45</td>\n",
       "      <td>35</td>\n",
       "      <td>32</td>\n",
       "      <td>28</td>\n",
       "      <td>17</td>\n",
       "      <td>10</td>\n",
       "    </tr>\n",
       "  </tbody>\n",
       "</table>\n",
       "</div>"
      ],
      "text/plain": [
       "Country  United Kingdom  Germany  France  EIRE  Spain  Netherlands  Belgium  \\\n",
       "count            356008     9079    8152  7368   2462         2326     1971   \n",
       "\n",
       "Country  Switzerland  Portugal  Australia  Norway  Italy  Channel Islands  \\\n",
       "count           1843      1427       1253    1059    783              752   \n",
       "\n",
       "Country  Finland  Cyprus  Sweden  Austria  Denmark  Japan  Poland  USA  \\\n",
       "count        653     608     436      387      375    355     336  291   \n",
       "\n",
       "Country  Israel  Unspecified  Singapore  Iceland  Canada  Greece  Malta  \\\n",
       "count       247          241        215      182     150     142    123   \n",
       "\n",
       "Country  United Arab Emirates  European Community  RSA  Lebanon  Lithuania  \\\n",
       "count                      67                  58   57       45         35   \n",
       "\n",
       "Country  Brazil  Czech Republic  Bahrain  Saudi Arabia  \n",
       "count        32              28       17            10  "
      ]
     },
     "execution_count": 60,
     "metadata": {},
     "output_type": "execute_result"
    }
   ],
   "source": [
    "Country_frec_No = Retail_Copy.groupby('Country').agg({'Country':'count'}).rename(columns={'Country':'count'}).sort_values(by='count', ascending=False).T\n",
    "Country_frec_No"
   ]
  },
  {
   "cell_type": "markdown",
   "id": "93560279-09f3-43fc-9f20-9d529055906b",
   "metadata": {},
   "source": [
    "**Country:** An object column recording the country where each transaction took place.\n",
    "- The transactions come from 37 different countries, with a dominant majority of the transactions (approximately 89.1%) originating from the United Kingdom."
   ]
  },
  {
   "cell_type": "markdown",
   "id": "7277637c-0584-4689-a29b-974d9da22ab2",
   "metadata": {},
   "source": [
    "**Step 3.7 | Outlier Treatment**\n",
    "In K-means clustering, the algorithm is sensitive to both the scale of data and the presence of outliers, as they can significantly influence the position of centroids, potentially leading to incorrect cluster assignments. However, considering the context of this project where the final goal is to understand customer behavior and preferences through K-means clustering, it would be more prudent to address the issue of outliers after the feature engineering phase where we create a customer-centric dataset. At this stage, the data is transactional, and removing outliers might eliminate valuable information that could play a crucial role in segmenting customers later on. Therefore, we will postpone the outlier treatment and proceed to the next stage for now."
   ]
  },
  {
   "cell_type": "markdown",
   "id": "2044fe2c-b51f-4ef9-9f39-ee52c2a481aa",
   "metadata": {},
   "source": [
    "Quantity:\n",
    "The average quantity of products in a transaction is approximately 9.55.\n",
    "The quantity has a wide range, with a minimum value of -80995 and a maximum value of 80995. The negative values indicate returned or cancelled orders, which need to be handled appropriately.\n",
    "The standard deviation is quite large, indicating a significant spread in the data. The presence of outliers is indicated by a large difference between the maximum and the 75th percentile values.\n",
    "UnitPrice:\n",
    "The average unit price of the products is approximately 4.61.\n",
    "The unit price also shows a wide range, from -11062.06 to 38970, which suggests the presence of errors or noise in the data, as negative prices don't make sense.\n",
    "Similar to the Quantity column, the presence of outliers is indicated by a large difference between the maximum and the 75th percentile values.\n",
    "CustomerID:\n",
    "There are 406829 non-null entries, indicating missing values in the dataset which need to be addressed.\n",
    "The Customer IDs range from 12346 to 18287, helping in identifying unique customers."
   ]
  },
  {
   "cell_type": "markdown",
   "id": "9cc7c0c0-0a6d-4bd9-9234-5639fdbd9e08",
   "metadata": {},
   "source": [
    "**The data has been cleaned and well prepared for the next step. Feature engineering**"
   ]
  },
  {
   "cell_type": "markdown",
   "id": "1fc6d935-4e51-45d6-9da5-dfb8b2fa0522",
   "metadata": {},
   "source": [
    "# <center>**2. Feature Engineering**</center>"
   ]
  },
  {
   "cell_type": "markdown",
   "id": "00e3012d-9de3-4825-93f0-446cf73eb10e",
   "metadata": {},
   "source": [
    "**In order to create a comprehensive customer-centric dataset for clustering and recommendation, the following features can be engineered from the available data**\n",
    "\n",
    "**These features are useful in understanding the customers behavior, which represent a vital role in tailoring marketing strategies and offers to different customer segments.**"
   ]
  },
  {
   "cell_type": "markdown",
   "id": "a5d3315f-e209-4cde-8260-9baed3120893",
   "metadata": {},
   "source": [
    "### **2.1 : RFM Features**"
   ]
  },
  {
   "cell_type": "markdown",
   "id": "bca360a6-0256-4fcb-8a1c-42fdeda26691",
   "metadata": {},
   "source": [
    "**RFM is a method used for analyzing customer value and segmenting the customer base. It is an acronym that stands for:**\n",
    "\n",
    "- Recency (R): This metric indicates how recently a customer has made a purchase. A lower recency value means the customer has purchased more recently, indicating higher engagement with the brand.\n",
    "- Frequency (F): This metric signifies how often a customer makes a purchase within a certain period. A higher frequency value indicates a customer who interacts with the business more often, suggesting higher loyalty or satisfaction.\n",
    "- Monetary (M): This metric represents the total amount of money a customer has spent over a certain period. Customers who have a higher monetary value have contributed more to the business, indicating their potential high lifetime value."
   ]
  },
  {
   "cell_type": "markdown",
   "id": "13fdfe9e-ec78-452c-b95c-2df9c27cd946",
   "metadata": {},
   "source": [
    "##### **2.1.1 : Recency (R)**"
   ]
  },
  {
   "cell_type": "code",
   "execution_count": 61,
   "id": "c7d9d51a-4fae-45bd-84eb-59682460389e",
   "metadata": {},
   "outputs": [],
   "source": [
    "# Convert InvoiceDate to datetime and extract only the date\n",
    "Retail_Copy.loc[:,'InvoiceDay'] = Retail_Copy.loc[:,'InvoiceDate'].dt.date"
   ]
  },
  {
   "cell_type": "code",
   "execution_count": 62,
   "id": "48f37925-a7df-4620-87ed-c09808898c0a",
   "metadata": {},
   "outputs": [],
   "source": [
    "to_day = dt.date(2011, 12, 9)"
   ]
  },
  {
   "cell_type": "code",
   "execution_count": 63,
   "id": "2e708002-fede-40a9-8229-e7531b0b9dae",
   "metadata": {},
   "outputs": [
    {
     "data": {
      "text/html": [
       "<div>\n",
       "<style scoped>\n",
       "    .dataframe tbody tr th:only-of-type {\n",
       "        vertical-align: middle;\n",
       "    }\n",
       "\n",
       "    .dataframe tbody tr th {\n",
       "        vertical-align: top;\n",
       "    }\n",
       "\n",
       "    .dataframe thead th {\n",
       "        text-align: right;\n",
       "    }\n",
       "</style>\n",
       "<table border=\"1\" class=\"dataframe\">\n",
       "  <thead>\n",
       "    <tr style=\"text-align: right;\">\n",
       "      <th></th>\n",
       "      <th>Recency</th>\n",
       "    </tr>\n",
       "    <tr>\n",
       "      <th>CustomerID</th>\n",
       "      <th></th>\n",
       "    </tr>\n",
       "  </thead>\n",
       "  <tbody>\n",
       "    <tr>\n",
       "      <th>13426.0</th>\n",
       "      <td>0</td>\n",
       "    </tr>\n",
       "    <tr>\n",
       "      <th>15910.0</th>\n",
       "      <td>0</td>\n",
       "    </tr>\n",
       "    <tr>\n",
       "      <th>16954.0</th>\n",
       "      <td>0</td>\n",
       "    </tr>\n",
       "    <tr>\n",
       "      <th>15804.0</th>\n",
       "      <td>0</td>\n",
       "    </tr>\n",
       "    <tr>\n",
       "      <th>17001.0</th>\n",
       "      <td>0</td>\n",
       "    </tr>\n",
       "  </tbody>\n",
       "</table>\n",
       "</div>"
      ],
      "text/plain": [
       "            Recency\n",
       "CustomerID         \n",
       "13426.0           0\n",
       "15910.0           0\n",
       "16954.0           0\n",
       "15804.0           0\n",
       "17001.0           0"
      ]
     },
     "execution_count": 63,
     "metadata": {},
     "output_type": "execute_result"
    }
   ],
   "source": [
    "R_table = pd.DataFrame(Retail_Copy.groupby('CustomerID').agg({'InvoiceDay':'max'})['InvoiceDay'].apply(lambda x : (to_day-x).days))\n",
    "R_table.columns=['Recency']\n",
    "R_table.sort_values(by='Recency').head()"
   ]
  },
  {
   "cell_type": "markdown",
   "id": "ee0de57c-1952-4c61-bedf-a3c6dd6b03a1",
   "metadata": {},
   "source": [
    "**Any customer with zero Recency value is The most warmest customer**"
   ]
  },
  {
   "cell_type": "markdown",
   "id": "1090f47b-5313-4c74-a87d-d55988212f8a",
   "metadata": {},
   "source": [
    "##### **2.1.2 : Frequency (F)**"
   ]
  },
  {
   "cell_type": "markdown",
   "id": "610c4ec1-ec5f-4720-a25a-0d4e26f17e8b",
   "metadata": {},
   "source": [
    "**Total Products Purchased:**\n",
    "\n",
    "  - We can engineer this feature also.\n",
    "  - This feature indicates the total number of products (sum of quantities) purchased by a customer across all transactions. It gives an insight into the customer's buying behavior in terms of the volume of products purchased."
   ]
  },
  {
   "cell_type": "code",
   "execution_count": 64,
   "id": "0f659485-b328-41bc-bc05-c323ecefaa79",
   "metadata": {},
   "outputs": [
    {
     "data": {
      "text/html": [
       "<div>\n",
       "<style scoped>\n",
       "    .dataframe tbody tr th:only-of-type {\n",
       "        vertical-align: middle;\n",
       "    }\n",
       "\n",
       "    .dataframe tbody tr th {\n",
       "        vertical-align: top;\n",
       "    }\n",
       "\n",
       "    .dataframe thead th {\n",
       "        text-align: right;\n",
       "    }\n",
       "</style>\n",
       "<table border=\"1\" class=\"dataframe\">\n",
       "  <thead>\n",
       "    <tr style=\"text-align: right;\">\n",
       "      <th></th>\n",
       "      <th>Frequency</th>\n",
       "      <th>Total_Products_Purchased</th>\n",
       "    </tr>\n",
       "    <tr>\n",
       "      <th>CustomerID</th>\n",
       "      <th></th>\n",
       "      <th></th>\n",
       "    </tr>\n",
       "  </thead>\n",
       "  <tbody>\n",
       "    <tr>\n",
       "      <th>12346.0</th>\n",
       "      <td>2</td>\n",
       "      <td>0</td>\n",
       "    </tr>\n",
       "    <tr>\n",
       "      <th>12347.0</th>\n",
       "      <td>7</td>\n",
       "      <td>2458</td>\n",
       "    </tr>\n",
       "    <tr>\n",
       "      <th>12348.0</th>\n",
       "      <td>4</td>\n",
       "      <td>2332</td>\n",
       "    </tr>\n",
       "    <tr>\n",
       "      <th>12349.0</th>\n",
       "      <td>1</td>\n",
       "      <td>630</td>\n",
       "    </tr>\n",
       "    <tr>\n",
       "      <th>12350.0</th>\n",
       "      <td>1</td>\n",
       "      <td>196</td>\n",
       "    </tr>\n",
       "  </tbody>\n",
       "</table>\n",
       "</div>"
      ],
      "text/plain": [
       "            Frequency  Total_Products_Purchased\n",
       "CustomerID                                     \n",
       "12346.0             2                         0\n",
       "12347.0             7                      2458\n",
       "12348.0             4                      2332\n",
       "12349.0             1                       630\n",
       "12350.0             1                       196"
      ]
     },
     "execution_count": 64,
     "metadata": {},
     "output_type": "execute_result"
    }
   ],
   "source": [
    "F_table = Retail_Copy.groupby('CustomerID').agg({'InvoiceNo':'nunique', 'Quantity':'sum'})\n",
    "F_table.columns=['Frequency', 'Total_Products_Purchased']\n",
    "F_table.head()"
   ]
  },
  {
   "cell_type": "markdown",
   "id": "54089bef-50b0-4dd8-b892-b93e30e3bdd4",
   "metadata": {},
   "source": [
    "##### **2.1.3 : Monetary (M)**"
   ]
  },
  {
   "cell_type": "markdown",
   "id": "3befda7b-a41c-455e-a1e6-b7be1db2e8fe",
   "metadata": {},
   "source": [
    "**Monetary :** This feature is crucial as it helps in identifying the total revenue generated by each customer, which is a direct indicator of a customer's value to the business."
   ]
  },
  {
   "cell_type": "code",
   "execution_count": 65,
   "id": "09467065-ba23-4a6b-a803-8617e6db2925",
   "metadata": {},
   "outputs": [],
   "source": [
    "Retail_Copy.loc[:,'TotalPrice'] = Retail_Copy.loc[:,'UnitPrice']*Retail_Copy.loc[:,'Quantity']"
   ]
  },
  {
   "cell_type": "code",
   "execution_count": 66,
   "id": "147a61a6-e2b5-429b-b093-0c6d5595a3eb",
   "metadata": {},
   "outputs": [
    {
     "data": {
      "text/html": [
       "<div>\n",
       "<style scoped>\n",
       "    .dataframe tbody tr th:only-of-type {\n",
       "        vertical-align: middle;\n",
       "    }\n",
       "\n",
       "    .dataframe tbody tr th {\n",
       "        vertical-align: top;\n",
       "    }\n",
       "\n",
       "    .dataframe thead th {\n",
       "        text-align: right;\n",
       "    }\n",
       "</style>\n",
       "<table border=\"1\" class=\"dataframe\">\n",
       "  <thead>\n",
       "    <tr style=\"text-align: right;\">\n",
       "      <th></th>\n",
       "      <th>Monetary</th>\n",
       "    </tr>\n",
       "    <tr>\n",
       "      <th>CustomerID</th>\n",
       "      <th></th>\n",
       "    </tr>\n",
       "  </thead>\n",
       "  <tbody>\n",
       "    <tr>\n",
       "      <th>14213.0</th>\n",
       "      <td>-1192.200</td>\n",
       "    </tr>\n",
       "    <tr>\n",
       "      <th>15823.0</th>\n",
       "      <td>-811.860</td>\n",
       "    </tr>\n",
       "    <tr>\n",
       "      <th>16742.0</th>\n",
       "      <td>-464.900</td>\n",
       "    </tr>\n",
       "    <tr>\n",
       "      <th>16252.0</th>\n",
       "      <td>-295.090</td>\n",
       "    </tr>\n",
       "    <tr>\n",
       "      <th>12666.0</th>\n",
       "      <td>-227.440</td>\n",
       "    </tr>\n",
       "  </tbody>\n",
       "</table>\n",
       "</div>"
      ],
      "text/plain": [
       "            Monetary\n",
       "CustomerID          \n",
       "14213.0    -1192.200\n",
       "15823.0     -811.860\n",
       "16742.0     -464.900\n",
       "16252.0     -295.090\n",
       "12666.0     -227.440"
      ]
     },
     "execution_count": 66,
     "metadata": {},
     "output_type": "execute_result"
    }
   ],
   "source": [
    "M_table = Retail_Copy.groupby('CustomerID').agg({'TotalPrice':'sum'})\n",
    "M_table.columns=['Monetary']\n",
    "M_table.sort_values(by='Monetary').head()"
   ]
  },
  {
   "cell_type": "code",
   "execution_count": 67,
   "id": "38f162a9-658c-49aa-8af6-88b17c2d0f38",
   "metadata": {},
   "outputs": [],
   "source": [
    "data_per_customer=R_table.merge(F_table, on='CustomerID').merge(M_table, on='CustomerID')"
   ]
  },
  {
   "cell_type": "markdown",
   "id": "a560aa58-837b-46eb-abf8-94ebe2ecb36c",
   "metadata": {},
   "source": [
    "**Average Transaction Value:**\n",
    "This feature is calculated as the Total Spend divided by the Total Transactions for each customer. It indicates the average value of a transaction carried out by a customer."
   ]
  },
  {
   "cell_type": "code",
   "execution_count": 68,
   "id": "b555bdb1-f15b-4e87-b285-17191765cfc5",
   "metadata": {},
   "outputs": [],
   "source": [
    "data_per_customer.loc[:,'Avg_Transaction_Value'] = data_per_customer.loc[:,'Monetary']/data_per_customer.loc[:,'Frequency']"
   ]
  },
  {
   "cell_type": "code",
   "execution_count": 69,
   "id": "68e43792-357c-44c4-bcdb-8a543f0491c2",
   "metadata": {},
   "outputs": [
    {
     "data": {
      "text/html": [
       "<div>\n",
       "<style scoped>\n",
       "    .dataframe tbody tr th:only-of-type {\n",
       "        vertical-align: middle;\n",
       "    }\n",
       "\n",
       "    .dataframe tbody tr th {\n",
       "        vertical-align: top;\n",
       "    }\n",
       "\n",
       "    .dataframe thead th {\n",
       "        text-align: right;\n",
       "    }\n",
       "</style>\n",
       "<table border=\"1\" class=\"dataframe\">\n",
       "  <thead>\n",
       "    <tr style=\"text-align: right;\">\n",
       "      <th></th>\n",
       "      <th>Recency</th>\n",
       "      <th>Frequency</th>\n",
       "      <th>Total_Products_Purchased</th>\n",
       "      <th>Monetary</th>\n",
       "      <th>Avg_Transaction_Value</th>\n",
       "    </tr>\n",
       "    <tr>\n",
       "      <th>CustomerID</th>\n",
       "      <th></th>\n",
       "      <th></th>\n",
       "      <th></th>\n",
       "      <th></th>\n",
       "      <th></th>\n",
       "    </tr>\n",
       "  </thead>\n",
       "  <tbody>\n",
       "    <tr>\n",
       "      <th>12346.0</th>\n",
       "      <td>325</td>\n",
       "      <td>2</td>\n",
       "      <td>0</td>\n",
       "      <td>0.000</td>\n",
       "      <td>0.000</td>\n",
       "    </tr>\n",
       "    <tr>\n",
       "      <th>12347.0</th>\n",
       "      <td>2</td>\n",
       "      <td>7</td>\n",
       "      <td>2458</td>\n",
       "      <td>4310.000</td>\n",
       "      <td>615.714</td>\n",
       "    </tr>\n",
       "    <tr>\n",
       "      <th>12348.0</th>\n",
       "      <td>75</td>\n",
       "      <td>4</td>\n",
       "      <td>2332</td>\n",
       "      <td>1437.240</td>\n",
       "      <td>359.310</td>\n",
       "    </tr>\n",
       "    <tr>\n",
       "      <th>12349.0</th>\n",
       "      <td>18</td>\n",
       "      <td>1</td>\n",
       "      <td>630</td>\n",
       "      <td>1457.550</td>\n",
       "      <td>1457.550</td>\n",
       "    </tr>\n",
       "    <tr>\n",
       "      <th>12350.0</th>\n",
       "      <td>310</td>\n",
       "      <td>1</td>\n",
       "      <td>196</td>\n",
       "      <td>294.400</td>\n",
       "      <td>294.400</td>\n",
       "    </tr>\n",
       "  </tbody>\n",
       "</table>\n",
       "</div>"
      ],
      "text/plain": [
       "            Recency  Frequency  Total_Products_Purchased  Monetary  \\\n",
       "CustomerID                                                           \n",
       "12346.0         325          2                         0     0.000   \n",
       "12347.0           2          7                      2458  4310.000   \n",
       "12348.0          75          4                      2332  1437.240   \n",
       "12349.0          18          1                       630  1457.550   \n",
       "12350.0         310          1                       196   294.400   \n",
       "\n",
       "            Avg_Transaction_Value  \n",
       "CustomerID                         \n",
       "12346.0                     0.000  \n",
       "12347.0                   615.714  \n",
       "12348.0                   359.310  \n",
       "12349.0                  1457.550  \n",
       "12350.0                   294.400  "
      ]
     },
     "execution_count": 69,
     "metadata": {},
     "output_type": "execute_result"
    }
   ],
   "source": [
    "data_per_customer.head()"
   ]
  },
  {
   "cell_type": "markdown",
   "id": "9d97fd72-56d1-4805-abfe-b93c389540f2",
   "metadata": {},
   "source": [
    "### **2.2 : Product Diversity**"
   ]
  },
  {
   "cell_type": "markdown",
   "id": "8a4b8902-7057-48c9-98a4-02199448e6b4",
   "metadata": {},
   "source": [
    "- **Unique Products Purchased:**\n",
    "This feature represents the number of distinct products bought by a customer. A higher value indicates that the customer has a diverse taste or preference, buying a wide range of products, while a lower value might indicate a focused or specific preference. "
   ]
  },
  {
   "cell_type": "code",
   "execution_count": 70,
   "id": "881c6d6c-4e53-4cb4-ab2b-20c46074e5b3",
   "metadata": {},
   "outputs": [],
   "source": [
    "unique_products_purchased=Retail_Copy.groupby('CustomerID').agg({'StockCode':'nunique'}).rename(columns={'StockCode': 'Unique_Products_Purchase'})"
   ]
  },
  {
   "cell_type": "code",
   "execution_count": 71,
   "id": "7d4ccc39-cbfc-4cc5-b853-6d11b81afbfc",
   "metadata": {},
   "outputs": [],
   "source": [
    "data_per_customer = pd.merge(data_per_customer, unique_products_purchased, on='CustomerID')"
   ]
  },
  {
   "cell_type": "code",
   "execution_count": 72,
   "id": "9b3556ec-0faf-4f34-8538-7b05b58ec853",
   "metadata": {},
   "outputs": [
    {
     "data": {
      "text/html": [
       "<div>\n",
       "<style scoped>\n",
       "    .dataframe tbody tr th:only-of-type {\n",
       "        vertical-align: middle;\n",
       "    }\n",
       "\n",
       "    .dataframe tbody tr th {\n",
       "        vertical-align: top;\n",
       "    }\n",
       "\n",
       "    .dataframe thead th {\n",
       "        text-align: right;\n",
       "    }\n",
       "</style>\n",
       "<table border=\"1\" class=\"dataframe\">\n",
       "  <thead>\n",
       "    <tr style=\"text-align: right;\">\n",
       "      <th></th>\n",
       "      <th>Recency</th>\n",
       "      <th>Frequency</th>\n",
       "      <th>Total_Products_Purchased</th>\n",
       "      <th>Monetary</th>\n",
       "      <th>Avg_Transaction_Value</th>\n",
       "      <th>Unique_Products_Purchase</th>\n",
       "    </tr>\n",
       "    <tr>\n",
       "      <th>CustomerID</th>\n",
       "      <th></th>\n",
       "      <th></th>\n",
       "      <th></th>\n",
       "      <th></th>\n",
       "      <th></th>\n",
       "      <th></th>\n",
       "    </tr>\n",
       "  </thead>\n",
       "  <tbody>\n",
       "    <tr>\n",
       "      <th>12346.0</th>\n",
       "      <td>325</td>\n",
       "      <td>2</td>\n",
       "      <td>0</td>\n",
       "      <td>0.000</td>\n",
       "      <td>0.000</td>\n",
       "      <td>1</td>\n",
       "    </tr>\n",
       "    <tr>\n",
       "      <th>12347.0</th>\n",
       "      <td>2</td>\n",
       "      <td>7</td>\n",
       "      <td>2458</td>\n",
       "      <td>4310.000</td>\n",
       "      <td>615.714</td>\n",
       "      <td>103</td>\n",
       "    </tr>\n",
       "    <tr>\n",
       "      <th>12348.0</th>\n",
       "      <td>75</td>\n",
       "      <td>4</td>\n",
       "      <td>2332</td>\n",
       "      <td>1437.240</td>\n",
       "      <td>359.310</td>\n",
       "      <td>21</td>\n",
       "    </tr>\n",
       "    <tr>\n",
       "      <th>12349.0</th>\n",
       "      <td>18</td>\n",
       "      <td>1</td>\n",
       "      <td>630</td>\n",
       "      <td>1457.550</td>\n",
       "      <td>1457.550</td>\n",
       "      <td>72</td>\n",
       "    </tr>\n",
       "    <tr>\n",
       "      <th>12350.0</th>\n",
       "      <td>310</td>\n",
       "      <td>1</td>\n",
       "      <td>196</td>\n",
       "      <td>294.400</td>\n",
       "      <td>294.400</td>\n",
       "      <td>16</td>\n",
       "    </tr>\n",
       "  </tbody>\n",
       "</table>\n",
       "</div>"
      ],
      "text/plain": [
       "            Recency  Frequency  Total_Products_Purchased  Monetary  \\\n",
       "CustomerID                                                           \n",
       "12346.0         325          2                         0     0.000   \n",
       "12347.0           2          7                      2458  4310.000   \n",
       "12348.0          75          4                      2332  1437.240   \n",
       "12349.0          18          1                       630  1457.550   \n",
       "12350.0         310          1                       196   294.400   \n",
       "\n",
       "            Avg_Transaction_Value  Unique_Products_Purchase  \n",
       "CustomerID                                                   \n",
       "12346.0                     0.000                         1  \n",
       "12347.0                   615.714                       103  \n",
       "12348.0                   359.310                        21  \n",
       "12349.0                  1457.550                        72  \n",
       "12350.0                   294.400                        16  "
      ]
     },
     "execution_count": 72,
     "metadata": {},
     "output_type": "execute_result"
    }
   ],
   "source": [
    "data_per_customer.head()"
   ]
  },
  {
   "cell_type": "markdown",
   "id": "c9b956a5-e3e1-415e-8f28-63f2c0041055",
   "metadata": {},
   "source": [
    "### **2.3 : Behavioral Features**"
   ]
  },
  {
   "cell_type": "markdown",
   "id": "64b2f8f3-5a63-4278-b6f1-0faa56ded5a0",
   "metadata": {},
   "source": [
    "**Average Days Between Purchases:**\n",
    "- This feature represents the average number of days a customer waits before making another purchase. Understanding this can help in predicting when the customer is likely to make their next purchase, which can be a crucial metric for targeted marketing and personalized promotions.\n",
    "\n",
    "**Favorite Shopping Day:** \n",
    "- This denotes the day of the week when the customer shops the most. This information can help in identifying the preferred shopping days of different customer segments, which can be used to optimize marketing strategies and promotions for different days of the week.\n",
    "\n",
    "**Favorite Shopping Hour:**\n",
    "- This refers to the hour of the day when the customer shops the most. Identifying the favorite shopping hour can aid in optimizing the timing of marketing campaigns and promotions to align with the times when different customer segments are most active."
   ]
  },
  {
   "cell_type": "code",
   "execution_count": 73,
   "id": "38d07ba7-cc55-4da5-af9f-5cff2184ff43",
   "metadata": {},
   "outputs": [],
   "source": [
    "Retail_Copy['Day_Of_Week'] = Retail_Copy['InvoiceDate'].dt.dayofweek\n",
    "Retail_Copy['Hour'] = Retail_Copy['InvoiceDate'].dt.hour"
   ]
  },
  {
   "cell_type": "code",
   "execution_count": 74,
   "id": "714945fc-63f4-45cd-98a7-d59d5f7ad44b",
   "metadata": {},
   "outputs": [
    {
     "name": "stderr",
     "output_type": "stream",
     "text": [
      "/var/folders/r9/013lqpnn2cj0hh05j71mb64h0000gn/T/ipykernel_1101/578052893.py:1: FutureWarning: The behavior of array concatenation with empty entries is deprecated. In a future version, this will no longer exclude empty items when determining the result dtype. To retain the old behavior, exclude the empty entries before the concat operation.\n",
      "  days_between_purchases = Retail_Copy.groupby('CustomerID')['InvoiceDay'].apply(lambda x: (x.diff().dropna()).apply(lambda y: y.days))\n"
     ]
    },
    {
     "data": {
      "text/html": [
       "<div>\n",
       "<style scoped>\n",
       "    .dataframe tbody tr th:only-of-type {\n",
       "        vertical-align: middle;\n",
       "    }\n",
       "\n",
       "    .dataframe tbody tr th {\n",
       "        vertical-align: top;\n",
       "    }\n",
       "\n",
       "    .dataframe thead th {\n",
       "        text-align: right;\n",
       "    }\n",
       "</style>\n",
       "<table border=\"1\" class=\"dataframe\">\n",
       "  <thead>\n",
       "    <tr style=\"text-align: right;\">\n",
       "      <th></th>\n",
       "      <th>CustomerID</th>\n",
       "      <th>Average_Days_Between_Purchases</th>\n",
       "    </tr>\n",
       "  </thead>\n",
       "  <tbody>\n",
       "    <tr>\n",
       "      <th>0</th>\n",
       "      <td>12346.0</td>\n",
       "      <td>0.000</td>\n",
       "    </tr>\n",
       "    <tr>\n",
       "      <th>1</th>\n",
       "      <td>12347.0</td>\n",
       "      <td>2.017</td>\n",
       "    </tr>\n",
       "    <tr>\n",
       "      <th>2</th>\n",
       "      <td>12348.0</td>\n",
       "      <td>10.885</td>\n",
       "    </tr>\n",
       "    <tr>\n",
       "      <th>3</th>\n",
       "      <td>12349.0</td>\n",
       "      <td>0.000</td>\n",
       "    </tr>\n",
       "    <tr>\n",
       "      <th>4</th>\n",
       "      <td>12350.0</td>\n",
       "      <td>0.000</td>\n",
       "    </tr>\n",
       "  </tbody>\n",
       "</table>\n",
       "</div>"
      ],
      "text/plain": [
       "  CustomerID  Average_Days_Between_Purchases\n",
       "0    12346.0                           0.000\n",
       "1    12347.0                           2.017\n",
       "2    12348.0                          10.885\n",
       "3    12349.0                           0.000\n",
       "4    12350.0                           0.000"
      ]
     },
     "execution_count": 74,
     "metadata": {},
     "output_type": "execute_result"
    }
   ],
   "source": [
    "days_between_purchases = Retail_Copy.groupby('CustomerID')['InvoiceDay'].apply(lambda x: (x.diff().dropna()).apply(lambda y: y.days))\n",
    "\n",
    "average_days_between_purchases = days_between_purchases.groupby('CustomerID').mean().reset_index()\n",
    "\n",
    "average_days_between_purchases.rename(columns={'InvoiceDay': 'Average_Days_Between_Purchases'}, inplace=True)\n",
    "average_days_between_purchases.head()"
   ]
  },
  {
   "cell_type": "code",
   "execution_count": 75,
   "id": "caadcff5-39b1-414e-865c-004f37ca9cec",
   "metadata": {},
   "outputs": [
    {
     "data": {
      "text/html": [
       "<div>\n",
       "<style scoped>\n",
       "    .dataframe tbody tr th:only-of-type {\n",
       "        vertical-align: middle;\n",
       "    }\n",
       "\n",
       "    .dataframe tbody tr th {\n",
       "        vertical-align: top;\n",
       "    }\n",
       "\n",
       "    .dataframe thead th {\n",
       "        text-align: right;\n",
       "    }\n",
       "</style>\n",
       "<table border=\"1\" class=\"dataframe\">\n",
       "  <thead>\n",
       "    <tr style=\"text-align: right;\">\n",
       "      <th></th>\n",
       "      <th>CustomerID</th>\n",
       "      <th>Day_Of_Week</th>\n",
       "    </tr>\n",
       "  </thead>\n",
       "  <tbody>\n",
       "    <tr>\n",
       "      <th>0</th>\n",
       "      <td>12346.0</td>\n",
       "      <td>1</td>\n",
       "    </tr>\n",
       "    <tr>\n",
       "      <th>2</th>\n",
       "      <td>12347.0</td>\n",
       "      <td>1</td>\n",
       "    </tr>\n",
       "    <tr>\n",
       "      <th>6</th>\n",
       "      <td>12348.0</td>\n",
       "      <td>3</td>\n",
       "    </tr>\n",
       "    <tr>\n",
       "      <th>8</th>\n",
       "      <td>12349.0</td>\n",
       "      <td>0</td>\n",
       "    </tr>\n",
       "    <tr>\n",
       "      <th>9</th>\n",
       "      <td>12350.0</td>\n",
       "      <td>2</td>\n",
       "    </tr>\n",
       "  </tbody>\n",
       "</table>\n",
       "</div>"
      ],
      "text/plain": [
       "  CustomerID  Day_Of_Week\n",
       "0    12346.0            1\n",
       "2    12347.0            1\n",
       "6    12348.0            3\n",
       "8    12349.0            0\n",
       "9    12350.0            2"
      ]
     },
     "execution_count": 75,
     "metadata": {},
     "output_type": "execute_result"
    }
   ],
   "source": [
    "# Find the favorite shopping day of the week\n",
    "\n",
    "favorite_shopping_day = Retail_Copy.groupby(['CustomerID', 'Day_Of_Week']).size().reset_index(name='Count')\n",
    "\n",
    "favorite_shopping_day = favorite_shopping_day.loc[favorite_shopping_day.groupby('CustomerID')['Count'].idxmax()][['CustomerID', 'Day_Of_Week']]\n",
    "favorite_shopping_day.head()"
   ]
  },
  {
   "cell_type": "code",
   "execution_count": 76,
   "id": "32af976b-9ee1-4a64-bb8c-14f49bf26647",
   "metadata": {},
   "outputs": [
    {
     "data": {
      "text/html": [
       "<div>\n",
       "<style scoped>\n",
       "    .dataframe tbody tr th:only-of-type {\n",
       "        vertical-align: middle;\n",
       "    }\n",
       "\n",
       "    .dataframe tbody tr th {\n",
       "        vertical-align: top;\n",
       "    }\n",
       "\n",
       "    .dataframe thead th {\n",
       "        text-align: right;\n",
       "    }\n",
       "</style>\n",
       "<table border=\"1\" class=\"dataframe\">\n",
       "  <thead>\n",
       "    <tr style=\"text-align: right;\">\n",
       "      <th></th>\n",
       "      <th>CustomerID</th>\n",
       "      <th>Hour</th>\n",
       "    </tr>\n",
       "  </thead>\n",
       "  <tbody>\n",
       "    <tr>\n",
       "      <th>0</th>\n",
       "      <td>12346.0</td>\n",
       "      <td>10</td>\n",
       "    </tr>\n",
       "    <tr>\n",
       "      <th>5</th>\n",
       "      <td>12347.0</td>\n",
       "      <td>14</td>\n",
       "    </tr>\n",
       "    <tr>\n",
       "      <th>9</th>\n",
       "      <td>12348.0</td>\n",
       "      <td>19</td>\n",
       "    </tr>\n",
       "    <tr>\n",
       "      <th>10</th>\n",
       "      <td>12349.0</td>\n",
       "      <td>9</td>\n",
       "    </tr>\n",
       "    <tr>\n",
       "      <th>11</th>\n",
       "      <td>12350.0</td>\n",
       "      <td>16</td>\n",
       "    </tr>\n",
       "  </tbody>\n",
       "</table>\n",
       "</div>"
      ],
      "text/plain": [
       "   CustomerID  Hour\n",
       "0     12346.0    10\n",
       "5     12347.0    14\n",
       "9     12348.0    19\n",
       "10    12349.0     9\n",
       "11    12350.0    16"
      ]
     },
     "execution_count": 76,
     "metadata": {},
     "output_type": "execute_result"
    }
   ],
   "source": [
    "# Find the favorite shopping hour of the day\n",
    "favorite_shopping_hour = Retail_Copy.groupby(['CustomerID', 'Hour']).size().reset_index(name='Count')\n",
    "favorite_shopping_hour = favorite_shopping_hour.loc[favorite_shopping_hour.groupby('CustomerID')['Count'].idxmax()][['CustomerID', 'Hour']]\n",
    "favorite_shopping_hour.head()"
   ]
  },
  {
   "cell_type": "code",
   "execution_count": 77,
   "id": "b2c4b176-933d-4682-8c55-417450c7d2ef",
   "metadata": {},
   "outputs": [
    {
     "data": {
      "text/html": [
       "<div>\n",
       "<style scoped>\n",
       "    .dataframe tbody tr th:only-of-type {\n",
       "        vertical-align: middle;\n",
       "    }\n",
       "\n",
       "    .dataframe tbody tr th {\n",
       "        vertical-align: top;\n",
       "    }\n",
       "\n",
       "    .dataframe thead th {\n",
       "        text-align: right;\n",
       "    }\n",
       "</style>\n",
       "<table border=\"1\" class=\"dataframe\">\n",
       "  <thead>\n",
       "    <tr style=\"text-align: right;\">\n",
       "      <th></th>\n",
       "      <th>CustomerID</th>\n",
       "      <th>Recency</th>\n",
       "      <th>Frequency</th>\n",
       "      <th>Total_Products_Purchased</th>\n",
       "      <th>Monetary</th>\n",
       "      <th>Avg_Transaction_Value</th>\n",
       "      <th>Unique_Products_Purchase</th>\n",
       "      <th>Average_Days_Between_Purchases</th>\n",
       "      <th>Day_Of_Week</th>\n",
       "      <th>Hour</th>\n",
       "    </tr>\n",
       "  </thead>\n",
       "  <tbody>\n",
       "    <tr>\n",
       "      <th>0</th>\n",
       "      <td>12346.0</td>\n",
       "      <td>325</td>\n",
       "      <td>2</td>\n",
       "      <td>0</td>\n",
       "      <td>0.000</td>\n",
       "      <td>0.000</td>\n",
       "      <td>1</td>\n",
       "      <td>0.000</td>\n",
       "      <td>1</td>\n",
       "      <td>10</td>\n",
       "    </tr>\n",
       "    <tr>\n",
       "      <th>1</th>\n",
       "      <td>12347.0</td>\n",
       "      <td>2</td>\n",
       "      <td>7</td>\n",
       "      <td>2458</td>\n",
       "      <td>4310.000</td>\n",
       "      <td>615.714</td>\n",
       "      <td>103</td>\n",
       "      <td>2.017</td>\n",
       "      <td>1</td>\n",
       "      <td>14</td>\n",
       "    </tr>\n",
       "    <tr>\n",
       "      <th>2</th>\n",
       "      <td>12348.0</td>\n",
       "      <td>75</td>\n",
       "      <td>4</td>\n",
       "      <td>2332</td>\n",
       "      <td>1437.240</td>\n",
       "      <td>359.310</td>\n",
       "      <td>21</td>\n",
       "      <td>10.885</td>\n",
       "      <td>3</td>\n",
       "      <td>19</td>\n",
       "    </tr>\n",
       "    <tr>\n",
       "      <th>3</th>\n",
       "      <td>12349.0</td>\n",
       "      <td>18</td>\n",
       "      <td>1</td>\n",
       "      <td>630</td>\n",
       "      <td>1457.550</td>\n",
       "      <td>1457.550</td>\n",
       "      <td>72</td>\n",
       "      <td>0.000</td>\n",
       "      <td>0</td>\n",
       "      <td>9</td>\n",
       "    </tr>\n",
       "    <tr>\n",
       "      <th>4</th>\n",
       "      <td>12350.0</td>\n",
       "      <td>310</td>\n",
       "      <td>1</td>\n",
       "      <td>196</td>\n",
       "      <td>294.400</td>\n",
       "      <td>294.400</td>\n",
       "      <td>16</td>\n",
       "      <td>0.000</td>\n",
       "      <td>2</td>\n",
       "      <td>16</td>\n",
       "    </tr>\n",
       "  </tbody>\n",
       "</table>\n",
       "</div>"
      ],
      "text/plain": [
       "  CustomerID  Recency  Frequency  Total_Products_Purchased  Monetary  \\\n",
       "0    12346.0      325          2                         0     0.000   \n",
       "1    12347.0        2          7                      2458  4310.000   \n",
       "2    12348.0       75          4                      2332  1437.240   \n",
       "3    12349.0       18          1                       630  1457.550   \n",
       "4    12350.0      310          1                       196   294.400   \n",
       "\n",
       "   Avg_Transaction_Value  Unique_Products_Purchase  \\\n",
       "0                  0.000                         1   \n",
       "1                615.714                       103   \n",
       "2                359.310                        21   \n",
       "3               1457.550                        72   \n",
       "4                294.400                        16   \n",
       "\n",
       "   Average_Days_Between_Purchases  Day_Of_Week  Hour  \n",
       "0                           0.000            1    10  \n",
       "1                           2.017            1    14  \n",
       "2                          10.885            3    19  \n",
       "3                           0.000            0     9  \n",
       "4                           0.000            2    16  "
      ]
     },
     "execution_count": 77,
     "metadata": {},
     "output_type": "execute_result"
    }
   ],
   "source": [
    "data_per_customer = pd.merge(data_per_customer, average_days_between_purchases, on='CustomerID')\n",
    "data_per_customer = pd.merge(data_per_customer, favorite_shopping_day, on='CustomerID')\n",
    "data_per_customer = pd.merge(data_per_customer, favorite_shopping_hour, on='CustomerID')\n",
    "data_per_customer.head()"
   ]
  },
  {
   "cell_type": "markdown",
   "id": "b0b91074-eb88-4e82-b63e-13488499691c",
   "metadata": {},
   "source": [
    "### **2.4 : Geographic Features**"
   ]
  },
  {
   "cell_type": "markdown",
   "id": "779bfbd6-5757-451d-9578-0b63c0af65eb",
   "metadata": {},
   "source": [
    "**Country:** \n",
    "\n",
    "This feature identifies the country where each customer is located. Including the country data can help us understand region-specific buying patterns and preferences. Different regions might have varying preferences and purchasing behaviors which can be critical in personalizing marketing strategies and inventory planning. Furthermore, it can be instrumental in logistics and supply chain optimization, particularly for an online retailer where shipping and delivery play a significant role.\n"
   ]
  },
  {
   "cell_type": "code",
   "execution_count": 78,
   "id": "1e7d58ff-cc55-4433-9b22-259b9786905b",
   "metadata": {},
   "outputs": [
    {
     "data": {
      "text/plain": [
       "Country\n",
       "United Kingdom   0.891\n",
       "Germany          0.023\n",
       "France           0.020\n",
       "EIRE             0.018\n",
       "Spain            0.006\n",
       "Name: proportion, dtype: float64"
      ]
     },
     "execution_count": 78,
     "metadata": {},
     "output_type": "execute_result"
    }
   ],
   "source": [
    "Retail_Copy['Country'].value_counts(normalize=True).head()"
   ]
  },
  {
   "cell_type": "markdown",
   "id": "9f5e1b22-3dab-4e50-8e75-790abb50b467",
   "metadata": {},
   "source": [
    "- Given that a substantial portion (89%) of transactions are originating from the United Kingdom, we might consider creating a binary feature indicating whether the transaction is from the UK or not. "
   ]
  },
  {
   "cell_type": "code",
   "execution_count": 79,
   "id": "a0c9b04f-42c0-4f7f-a049-882115b71e12",
   "metadata": {},
   "outputs": [],
   "source": [
    "binary_country = pd.DataFrame(Retail_Copy.groupby('CustomerID').agg({'Country':lambda x:x.value_counts().index[0]})['Country'].apply(lambda x: 1 if x=='United Kingdom' else 0))"
   ]
  },
  {
   "cell_type": "code",
   "execution_count": 80,
   "id": "378a75f2-8b23-4911-bc5b-ce91e529d134",
   "metadata": {},
   "outputs": [
    {
     "data": {
      "text/html": [
       "<div>\n",
       "<style scoped>\n",
       "    .dataframe tbody tr th:only-of-type {\n",
       "        vertical-align: middle;\n",
       "    }\n",
       "\n",
       "    .dataframe tbody tr th {\n",
       "        vertical-align: top;\n",
       "    }\n",
       "\n",
       "    .dataframe thead th {\n",
       "        text-align: right;\n",
       "    }\n",
       "</style>\n",
       "<table border=\"1\" class=\"dataframe\">\n",
       "  <thead>\n",
       "    <tr style=\"text-align: right;\">\n",
       "      <th></th>\n",
       "      <th>Is_UK</th>\n",
       "    </tr>\n",
       "    <tr>\n",
       "      <th>CustomerID</th>\n",
       "      <th></th>\n",
       "    </tr>\n",
       "  </thead>\n",
       "  <tbody>\n",
       "    <tr>\n",
       "      <th>12346.0</th>\n",
       "      <td>1</td>\n",
       "    </tr>\n",
       "    <tr>\n",
       "      <th>12347.0</th>\n",
       "      <td>0</td>\n",
       "    </tr>\n",
       "    <tr>\n",
       "      <th>12348.0</th>\n",
       "      <td>0</td>\n",
       "    </tr>\n",
       "    <tr>\n",
       "      <th>12349.0</th>\n",
       "      <td>0</td>\n",
       "    </tr>\n",
       "    <tr>\n",
       "      <th>12350.0</th>\n",
       "      <td>0</td>\n",
       "    </tr>\n",
       "  </tbody>\n",
       "</table>\n",
       "</div>"
      ],
      "text/plain": [
       "            Is_UK\n",
       "CustomerID       \n",
       "12346.0         1\n",
       "12347.0         0\n",
       "12348.0         0\n",
       "12349.0         0\n",
       "12350.0         0"
      ]
     },
     "execution_count": 80,
     "metadata": {},
     "output_type": "execute_result"
    }
   ],
   "source": [
    "binary_country.rename(columns={'Country':'Is_UK'}, inplace=True)\n",
    "binary_country.head()"
   ]
  },
  {
   "cell_type": "code",
   "execution_count": 81,
   "id": "a5861050-1268-43af-bf35-dbd6d15c7569",
   "metadata": {},
   "outputs": [],
   "source": [
    "data_per_customer=data_per_customer.merge(binary_country, on = 'CustomerID')"
   ]
  },
  {
   "cell_type": "code",
   "execution_count": 82,
   "id": "8b4a6a1f-1783-44cf-88a7-04270bdebab6",
   "metadata": {},
   "outputs": [
    {
     "data": {
      "text/html": [
       "<div>\n",
       "<style scoped>\n",
       "    .dataframe tbody tr th:only-of-type {\n",
       "        vertical-align: middle;\n",
       "    }\n",
       "\n",
       "    .dataframe tbody tr th {\n",
       "        vertical-align: top;\n",
       "    }\n",
       "\n",
       "    .dataframe thead th {\n",
       "        text-align: right;\n",
       "    }\n",
       "</style>\n",
       "<table border=\"1\" class=\"dataframe\">\n",
       "  <thead>\n",
       "    <tr style=\"text-align: right;\">\n",
       "      <th></th>\n",
       "      <th>CustomerID</th>\n",
       "      <th>Recency</th>\n",
       "      <th>Frequency</th>\n",
       "      <th>Total_Products_Purchased</th>\n",
       "      <th>Monetary</th>\n",
       "      <th>Avg_Transaction_Value</th>\n",
       "      <th>Unique_Products_Purchase</th>\n",
       "      <th>Average_Days_Between_Purchases</th>\n",
       "      <th>Day_Of_Week</th>\n",
       "      <th>Hour</th>\n",
       "      <th>Is_UK</th>\n",
       "    </tr>\n",
       "  </thead>\n",
       "  <tbody>\n",
       "    <tr>\n",
       "      <th>0</th>\n",
       "      <td>12346.0</td>\n",
       "      <td>325</td>\n",
       "      <td>2</td>\n",
       "      <td>0</td>\n",
       "      <td>0.000</td>\n",
       "      <td>0.000</td>\n",
       "      <td>1</td>\n",
       "      <td>0.000</td>\n",
       "      <td>1</td>\n",
       "      <td>10</td>\n",
       "      <td>1</td>\n",
       "    </tr>\n",
       "    <tr>\n",
       "      <th>1</th>\n",
       "      <td>12347.0</td>\n",
       "      <td>2</td>\n",
       "      <td>7</td>\n",
       "      <td>2458</td>\n",
       "      <td>4310.000</td>\n",
       "      <td>615.714</td>\n",
       "      <td>103</td>\n",
       "      <td>2.017</td>\n",
       "      <td>1</td>\n",
       "      <td>14</td>\n",
       "      <td>0</td>\n",
       "    </tr>\n",
       "    <tr>\n",
       "      <th>2</th>\n",
       "      <td>12348.0</td>\n",
       "      <td>75</td>\n",
       "      <td>4</td>\n",
       "      <td>2332</td>\n",
       "      <td>1437.240</td>\n",
       "      <td>359.310</td>\n",
       "      <td>21</td>\n",
       "      <td>10.885</td>\n",
       "      <td>3</td>\n",
       "      <td>19</td>\n",
       "      <td>0</td>\n",
       "    </tr>\n",
       "    <tr>\n",
       "      <th>3</th>\n",
       "      <td>12349.0</td>\n",
       "      <td>18</td>\n",
       "      <td>1</td>\n",
       "      <td>630</td>\n",
       "      <td>1457.550</td>\n",
       "      <td>1457.550</td>\n",
       "      <td>72</td>\n",
       "      <td>0.000</td>\n",
       "      <td>0</td>\n",
       "      <td>9</td>\n",
       "      <td>0</td>\n",
       "    </tr>\n",
       "    <tr>\n",
       "      <th>4</th>\n",
       "      <td>12350.0</td>\n",
       "      <td>310</td>\n",
       "      <td>1</td>\n",
       "      <td>196</td>\n",
       "      <td>294.400</td>\n",
       "      <td>294.400</td>\n",
       "      <td>16</td>\n",
       "      <td>0.000</td>\n",
       "      <td>2</td>\n",
       "      <td>16</td>\n",
       "      <td>0</td>\n",
       "    </tr>\n",
       "  </tbody>\n",
       "</table>\n",
       "</div>"
      ],
      "text/plain": [
       "  CustomerID  Recency  Frequency  Total_Products_Purchased  Monetary  \\\n",
       "0    12346.0      325          2                         0     0.000   \n",
       "1    12347.0        2          7                      2458  4310.000   \n",
       "2    12348.0       75          4                      2332  1437.240   \n",
       "3    12349.0       18          1                       630  1457.550   \n",
       "4    12350.0      310          1                       196   294.400   \n",
       "\n",
       "   Avg_Transaction_Value  Unique_Products_Purchase  \\\n",
       "0                  0.000                         1   \n",
       "1                615.714                       103   \n",
       "2                359.310                        21   \n",
       "3               1457.550                        72   \n",
       "4                294.400                        16   \n",
       "\n",
       "   Average_Days_Between_Purchases  Day_Of_Week  Hour  Is_UK  \n",
       "0                           0.000            1    10      1  \n",
       "1                           2.017            1    14      0  \n",
       "2                          10.885            3    19      0  \n",
       "3                           0.000            0     9      0  \n",
       "4                           0.000            2    16      0  "
      ]
     },
     "execution_count": 82,
     "metadata": {},
     "output_type": "execute_result"
    }
   ],
   "source": [
    "data_per_customer.head()"
   ]
  },
  {
   "cell_type": "markdown",
   "id": "2de6e38c-a0b0-4dd2-9673-3b20234f2149",
   "metadata": {},
   "source": [
    "### **2.5 : Cancellation Cancellation_Rate**\n"
   ]
  },
  {
   "cell_type": "markdown",
   "id": "fcd1847a-43b6-442d-aae4-fcd0ec7aa37c",
   "metadata": {},
   "source": [
    "**Cancellation Frequency:**\n",
    "\n",
    "- This metric represents the total number of transactions a customer has canceled. Understanding the frequency of cancellations can help us identify customers who are more likely to cancel transactions. This could be an indicator of dissatisfaction or other issues, and understanding this can help us tailor strategies to reduce cancellations and enhance customer satisfaction.\n",
    "\n",
    "**Cancellation Rate:**\n",
    "\n",
    "- This represents the proportion of transactions that a customer has canceled out of all their transactions. This metric gives a normalized view of cancellation behavior. A high cancellation rate might be indicative of an unsatisfied customer segment. By identifying these segments, we can develop targeted strategies to improve their shopping experience and potentially reduce the cancellation rate."
   ]
  },
  {
   "cell_type": "code",
   "execution_count": 83,
   "id": "42d69d5d-1663-4e97-a69b-f81de3cf80dd",
   "metadata": {},
   "outputs": [],
   "source": [
    "Retail_Copy['Transaction_Status'] = np.where(Retail_Copy['InvoiceNo'].astype(str).str.startswith('C'), 'Cancelled', 'Completed')"
   ]
  },
  {
   "cell_type": "code",
   "execution_count": 84,
   "id": "e59c9011-3e73-4c93-b054-3f559bffc17f",
   "metadata": {},
   "outputs": [
    {
     "data": {
      "text/html": [
       "<div>\n",
       "<style scoped>\n",
       "    .dataframe tbody tr th:only-of-type {\n",
       "        vertical-align: middle;\n",
       "    }\n",
       "\n",
       "    .dataframe tbody tr th {\n",
       "        vertical-align: top;\n",
       "    }\n",
       "\n",
       "    .dataframe thead th {\n",
       "        text-align: right;\n",
       "    }\n",
       "</style>\n",
       "<table border=\"1\" class=\"dataframe\">\n",
       "  <thead>\n",
       "    <tr style=\"text-align: right;\">\n",
       "      <th></th>\n",
       "      <th>CustomerID</th>\n",
       "      <th>Recency</th>\n",
       "      <th>Frequency</th>\n",
       "      <th>Total_Products_Purchased</th>\n",
       "      <th>Monetary</th>\n",
       "      <th>Avg_Transaction_Value</th>\n",
       "      <th>Unique_Products_Purchase</th>\n",
       "      <th>Average_Days_Between_Purchases</th>\n",
       "      <th>Day_Of_Week</th>\n",
       "      <th>Hour</th>\n",
       "      <th>Is_UK</th>\n",
       "      <th>Cancel_Freq</th>\n",
       "    </tr>\n",
       "  </thead>\n",
       "  <tbody>\n",
       "    <tr>\n",
       "      <th>0</th>\n",
       "      <td>12346.0</td>\n",
       "      <td>325</td>\n",
       "      <td>2</td>\n",
       "      <td>0</td>\n",
       "      <td>0.000</td>\n",
       "      <td>0.000</td>\n",
       "      <td>1</td>\n",
       "      <td>0.000</td>\n",
       "      <td>1</td>\n",
       "      <td>10</td>\n",
       "      <td>1</td>\n",
       "      <td>1.000</td>\n",
       "    </tr>\n",
       "    <tr>\n",
       "      <th>1</th>\n",
       "      <td>12347.0</td>\n",
       "      <td>2</td>\n",
       "      <td>7</td>\n",
       "      <td>2458</td>\n",
       "      <td>4310.000</td>\n",
       "      <td>615.714</td>\n",
       "      <td>103</td>\n",
       "      <td>2.017</td>\n",
       "      <td>1</td>\n",
       "      <td>14</td>\n",
       "      <td>0</td>\n",
       "      <td>0.000</td>\n",
       "    </tr>\n",
       "    <tr>\n",
       "      <th>2</th>\n",
       "      <td>12348.0</td>\n",
       "      <td>75</td>\n",
       "      <td>4</td>\n",
       "      <td>2332</td>\n",
       "      <td>1437.240</td>\n",
       "      <td>359.310</td>\n",
       "      <td>21</td>\n",
       "      <td>10.885</td>\n",
       "      <td>3</td>\n",
       "      <td>19</td>\n",
       "      <td>0</td>\n",
       "      <td>0.000</td>\n",
       "    </tr>\n",
       "    <tr>\n",
       "      <th>3</th>\n",
       "      <td>12349.0</td>\n",
       "      <td>18</td>\n",
       "      <td>1</td>\n",
       "      <td>630</td>\n",
       "      <td>1457.550</td>\n",
       "      <td>1457.550</td>\n",
       "      <td>72</td>\n",
       "      <td>0.000</td>\n",
       "      <td>0</td>\n",
       "      <td>9</td>\n",
       "      <td>0</td>\n",
       "      <td>0.000</td>\n",
       "    </tr>\n",
       "    <tr>\n",
       "      <th>4</th>\n",
       "      <td>12350.0</td>\n",
       "      <td>310</td>\n",
       "      <td>1</td>\n",
       "      <td>196</td>\n",
       "      <td>294.400</td>\n",
       "      <td>294.400</td>\n",
       "      <td>16</td>\n",
       "      <td>0.000</td>\n",
       "      <td>2</td>\n",
       "      <td>16</td>\n",
       "      <td>0</td>\n",
       "      <td>0.000</td>\n",
       "    </tr>\n",
       "    <tr>\n",
       "      <th>...</th>\n",
       "      <td>...</td>\n",
       "      <td>...</td>\n",
       "      <td>...</td>\n",
       "      <td>...</td>\n",
       "      <td>...</td>\n",
       "      <td>...</td>\n",
       "      <td>...</td>\n",
       "      <td>...</td>\n",
       "      <td>...</td>\n",
       "      <td>...</td>\n",
       "      <td>...</td>\n",
       "      <td>...</td>\n",
       "    </tr>\n",
       "    <tr>\n",
       "      <th>4277</th>\n",
       "      <td>18280.0</td>\n",
       "      <td>277</td>\n",
       "      <td>1</td>\n",
       "      <td>45</td>\n",
       "      <td>180.600</td>\n",
       "      <td>180.600</td>\n",
       "      <td>10</td>\n",
       "      <td>0.000</td>\n",
       "      <td>0</td>\n",
       "      <td>9</td>\n",
       "      <td>1</td>\n",
       "      <td>0.000</td>\n",
       "    </tr>\n",
       "    <tr>\n",
       "      <th>4278</th>\n",
       "      <td>18281.0</td>\n",
       "      <td>180</td>\n",
       "      <td>1</td>\n",
       "      <td>54</td>\n",
       "      <td>80.820</td>\n",
       "      <td>80.820</td>\n",
       "      <td>7</td>\n",
       "      <td>0.000</td>\n",
       "      <td>6</td>\n",
       "      <td>10</td>\n",
       "      <td>1</td>\n",
       "      <td>0.000</td>\n",
       "    </tr>\n",
       "    <tr>\n",
       "      <th>4279</th>\n",
       "      <td>18282.0</td>\n",
       "      <td>7</td>\n",
       "      <td>3</td>\n",
       "      <td>98</td>\n",
       "      <td>176.600</td>\n",
       "      <td>58.867</td>\n",
       "      <td>12</td>\n",
       "      <td>9.917</td>\n",
       "      <td>4</td>\n",
       "      <td>13</td>\n",
       "      <td>1</td>\n",
       "      <td>1.000</td>\n",
       "    </tr>\n",
       "    <tr>\n",
       "      <th>4280</th>\n",
       "      <td>18283.0</td>\n",
       "      <td>3</td>\n",
       "      <td>16</td>\n",
       "      <td>1355</td>\n",
       "      <td>2039.580</td>\n",
       "      <td>127.474</td>\n",
       "      <td>262</td>\n",
       "      <td>0.465</td>\n",
       "      <td>3</td>\n",
       "      <td>14</td>\n",
       "      <td>1</td>\n",
       "      <td>0.000</td>\n",
       "    </tr>\n",
       "    <tr>\n",
       "      <th>4281</th>\n",
       "      <td>18287.0</td>\n",
       "      <td>42</td>\n",
       "      <td>3</td>\n",
       "      <td>1586</td>\n",
       "      <td>1837.280</td>\n",
       "      <td>612.427</td>\n",
       "      <td>59</td>\n",
       "      <td>2.304</td>\n",
       "      <td>2</td>\n",
       "      <td>10</td>\n",
       "      <td>1</td>\n",
       "      <td>0.000</td>\n",
       "    </tr>\n",
       "  </tbody>\n",
       "</table>\n",
       "<p>4282 rows × 12 columns</p>\n",
       "</div>"
      ],
      "text/plain": [
       "     CustomerID  Recency  Frequency  Total_Products_Purchased  Monetary  \\\n",
       "0       12346.0      325          2                         0     0.000   \n",
       "1       12347.0        2          7                      2458  4310.000   \n",
       "2       12348.0       75          4                      2332  1437.240   \n",
       "3       12349.0       18          1                       630  1457.550   \n",
       "4       12350.0      310          1                       196   294.400   \n",
       "...         ...      ...        ...                       ...       ...   \n",
       "4277    18280.0      277          1                        45   180.600   \n",
       "4278    18281.0      180          1                        54    80.820   \n",
       "4279    18282.0        7          3                        98   176.600   \n",
       "4280    18283.0        3         16                      1355  2039.580   \n",
       "4281    18287.0       42          3                      1586  1837.280   \n",
       "\n",
       "      Avg_Transaction_Value  Unique_Products_Purchase  \\\n",
       "0                     0.000                         1   \n",
       "1                   615.714                       103   \n",
       "2                   359.310                        21   \n",
       "3                  1457.550                        72   \n",
       "4                   294.400                        16   \n",
       "...                     ...                       ...   \n",
       "4277                180.600                        10   \n",
       "4278                 80.820                         7   \n",
       "4279                 58.867                        12   \n",
       "4280                127.474                       262   \n",
       "4281                612.427                        59   \n",
       "\n",
       "      Average_Days_Between_Purchases  Day_Of_Week  Hour  Is_UK  Cancel_Freq  \n",
       "0                              0.000            1    10      1        1.000  \n",
       "1                              2.017            1    14      0        0.000  \n",
       "2                             10.885            3    19      0        0.000  \n",
       "3                              0.000            0     9      0        0.000  \n",
       "4                              0.000            2    16      0        0.000  \n",
       "...                              ...          ...   ...    ...          ...  \n",
       "4277                           0.000            0     9      1        0.000  \n",
       "4278                           0.000            6    10      1        0.000  \n",
       "4279                           9.917            4    13      1        1.000  \n",
       "4280                           0.465            3    14      1        0.000  \n",
       "4281                           2.304            2    10      1        0.000  \n",
       "\n",
       "[4282 rows x 12 columns]"
      ]
     },
     "execution_count": 84,
     "metadata": {},
     "output_type": "execute_result"
    }
   ],
   "source": [
    "cancellation_freq = Retail_Copy[Retail_Copy['Transaction_Status']=='Cancelled'].groupby('CustomerID').agg({'InvoiceNo':'nunique'})\n",
    "cancellation_freq.rename(columns={'InvoiceNo': 'Cancel_Freq'}, inplace=True)\n",
    "data_per_customer = data_per_customer.merge(cancellation_freq, on='CustomerID', how='left')\n",
    "data_per_customer['Cancel_Freq'] = data_per_customer['Cancel_Freq'].fillna(0)\n",
    "data_per_customer"
   ]
  },
  {
   "cell_type": "code",
   "execution_count": 85,
   "id": "4f2a5e8f-eaca-424f-8da5-6ae6552b008c",
   "metadata": {},
   "outputs": [
    {
     "data": {
      "text/html": [
       "<div>\n",
       "<style scoped>\n",
       "    .dataframe tbody tr th:only-of-type {\n",
       "        vertical-align: middle;\n",
       "    }\n",
       "\n",
       "    .dataframe tbody tr th {\n",
       "        vertical-align: top;\n",
       "    }\n",
       "\n",
       "    .dataframe thead th {\n",
       "        text-align: right;\n",
       "    }\n",
       "</style>\n",
       "<table border=\"1\" class=\"dataframe\">\n",
       "  <thead>\n",
       "    <tr style=\"text-align: right;\">\n",
       "      <th></th>\n",
       "      <th>CustomerID</th>\n",
       "      <th>Recency</th>\n",
       "      <th>Frequency</th>\n",
       "      <th>Total_Products_Purchased</th>\n",
       "      <th>Monetary</th>\n",
       "      <th>Avg_Transaction_Value</th>\n",
       "      <th>Unique_Products_Purchase</th>\n",
       "      <th>Average_Days_Between_Purchases</th>\n",
       "      <th>Day_Of_Week</th>\n",
       "      <th>Hour</th>\n",
       "      <th>Is_UK</th>\n",
       "      <th>Cancel_Freq</th>\n",
       "      <th>Cancel_Rate</th>\n",
       "    </tr>\n",
       "  </thead>\n",
       "  <tbody>\n",
       "    <tr>\n",
       "      <th>0</th>\n",
       "      <td>12346.0</td>\n",
       "      <td>325</td>\n",
       "      <td>2</td>\n",
       "      <td>0</td>\n",
       "      <td>0.000</td>\n",
       "      <td>0.000</td>\n",
       "      <td>1</td>\n",
       "      <td>0.000</td>\n",
       "      <td>1</td>\n",
       "      <td>10</td>\n",
       "      <td>1</td>\n",
       "      <td>1.000</td>\n",
       "      <td>0.500</td>\n",
       "    </tr>\n",
       "    <tr>\n",
       "      <th>1</th>\n",
       "      <td>12347.0</td>\n",
       "      <td>2</td>\n",
       "      <td>7</td>\n",
       "      <td>2458</td>\n",
       "      <td>4310.000</td>\n",
       "      <td>615.714</td>\n",
       "      <td>103</td>\n",
       "      <td>2.017</td>\n",
       "      <td>1</td>\n",
       "      <td>14</td>\n",
       "      <td>0</td>\n",
       "      <td>0.000</td>\n",
       "      <td>0.000</td>\n",
       "    </tr>\n",
       "    <tr>\n",
       "      <th>2</th>\n",
       "      <td>12348.0</td>\n",
       "      <td>75</td>\n",
       "      <td>4</td>\n",
       "      <td>2332</td>\n",
       "      <td>1437.240</td>\n",
       "      <td>359.310</td>\n",
       "      <td>21</td>\n",
       "      <td>10.885</td>\n",
       "      <td>3</td>\n",
       "      <td>19</td>\n",
       "      <td>0</td>\n",
       "      <td>0.000</td>\n",
       "      <td>0.000</td>\n",
       "    </tr>\n",
       "    <tr>\n",
       "      <th>3</th>\n",
       "      <td>12349.0</td>\n",
       "      <td>18</td>\n",
       "      <td>1</td>\n",
       "      <td>630</td>\n",
       "      <td>1457.550</td>\n",
       "      <td>1457.550</td>\n",
       "      <td>72</td>\n",
       "      <td>0.000</td>\n",
       "      <td>0</td>\n",
       "      <td>9</td>\n",
       "      <td>0</td>\n",
       "      <td>0.000</td>\n",
       "      <td>0.000</td>\n",
       "    </tr>\n",
       "    <tr>\n",
       "      <th>4</th>\n",
       "      <td>12350.0</td>\n",
       "      <td>310</td>\n",
       "      <td>1</td>\n",
       "      <td>196</td>\n",
       "      <td>294.400</td>\n",
       "      <td>294.400</td>\n",
       "      <td>16</td>\n",
       "      <td>0.000</td>\n",
       "      <td>2</td>\n",
       "      <td>16</td>\n",
       "      <td>0</td>\n",
       "      <td>0.000</td>\n",
       "      <td>0.000</td>\n",
       "    </tr>\n",
       "  </tbody>\n",
       "</table>\n",
       "</div>"
      ],
      "text/plain": [
       "  CustomerID  Recency  Frequency  Total_Products_Purchased  Monetary  \\\n",
       "0    12346.0      325          2                         0     0.000   \n",
       "1    12347.0        2          7                      2458  4310.000   \n",
       "2    12348.0       75          4                      2332  1437.240   \n",
       "3    12349.0       18          1                       630  1457.550   \n",
       "4    12350.0      310          1                       196   294.400   \n",
       "\n",
       "   Avg_Transaction_Value  Unique_Products_Purchase  \\\n",
       "0                  0.000                         1   \n",
       "1                615.714                       103   \n",
       "2                359.310                        21   \n",
       "3               1457.550                        72   \n",
       "4                294.400                        16   \n",
       "\n",
       "   Average_Days_Between_Purchases  Day_Of_Week  Hour  Is_UK  Cancel_Freq  \\\n",
       "0                           0.000            1    10      1        1.000   \n",
       "1                           2.017            1    14      0        0.000   \n",
       "2                          10.885            3    19      0        0.000   \n",
       "3                           0.000            0     9      0        0.000   \n",
       "4                           0.000            2    16      0        0.000   \n",
       "\n",
       "   Cancel_Rate  \n",
       "0        0.500  \n",
       "1        0.000  \n",
       "2        0.000  \n",
       "3        0.000  \n",
       "4        0.000  "
      ]
     },
     "execution_count": 85,
     "metadata": {},
     "output_type": "execute_result"
    }
   ],
   "source": [
    "data_per_customer['Cancel_Rate'] = data_per_customer['Cancel_Freq']/data_per_customer['Frequency']\n",
    "data_per_customer.head()"
   ]
  },
  {
   "cell_type": "markdown",
   "id": "28d2e13e-7892-45a5-96d0-6eaf718a1676",
   "metadata": {},
   "source": [
    "### **2.6 :  Seasonality & Trends**"
   ]
  },
  {
   "cell_type": "markdown",
   "id": "b4da32e3-4cb4-4b0e-b94f-8e9b5d274490",
   "metadata": {},
   "source": [
    "**Monthly_Spending_Mean:** \n",
    "- This is the average amount a customer spends monthly.\n",
    "\n",
    "**Monthly_Spending_Std:**\n",
    "- This feature indicates the variability in a customer's monthly spending.\n",
    "\n",
    "**Spending_Trend:**\n",
    "- This reflects the trend in a customer's spending over time, calculated as the slope of the linear trend line fitted to their spending data. A positive value indicates an increasing trend in spending, possibly pointing to growing loyalty or satisfaction. Conversely, a negative trend might signal decreasing interest or satisfaction, highlighting a need for re-engagement strategies. A near-zero value signifies stable spending habits. Recognizing these trends can help in developing strategies to either maintain or alter customer spending patterns, enhancing the effectiveness of marketing campaigns."
   ]
  },
  {
   "cell_type": "code",
   "execution_count": 86,
   "id": "0cb193a2-79b4-4640-bbb6-1c7d7d2abdd7",
   "metadata": {},
   "outputs": [],
   "source": [
    "Retail_Copy['month'] = Retail_Copy['InvoiceDate'].dt.month\n",
    "Retail_Copy['year'] = Retail_Copy['InvoiceDate'].dt.year"
   ]
  },
  {
   "cell_type": "code",
   "execution_count": 87,
   "id": "3f3dc5aa-e27b-465c-94e7-d1c046aeefa3",
   "metadata": {},
   "outputs": [
    {
     "data": {
      "text/html": [
       "<div>\n",
       "<style scoped>\n",
       "    .dataframe tbody tr th:only-of-type {\n",
       "        vertical-align: middle;\n",
       "    }\n",
       "\n",
       "    .dataframe tbody tr th {\n",
       "        vertical-align: top;\n",
       "    }\n",
       "\n",
       "    .dataframe thead th {\n",
       "        text-align: right;\n",
       "    }\n",
       "</style>\n",
       "<table border=\"1\" class=\"dataframe\">\n",
       "  <thead>\n",
       "    <tr style=\"text-align: right;\">\n",
       "      <th></th>\n",
       "      <th>CustomerID</th>\n",
       "      <th>Monthly_Spending_Mean</th>\n",
       "      <th>Monthly_Spending_Std</th>\n",
       "    </tr>\n",
       "  </thead>\n",
       "  <tbody>\n",
       "    <tr>\n",
       "      <th>0</th>\n",
       "      <td>12346.0</td>\n",
       "      <td>0.000</td>\n",
       "      <td>0.000</td>\n",
       "    </tr>\n",
       "    <tr>\n",
       "      <th>1</th>\n",
       "      <td>12347.0</td>\n",
       "      <td>615.714</td>\n",
       "      <td>341.071</td>\n",
       "    </tr>\n",
       "    <tr>\n",
       "      <th>2</th>\n",
       "      <td>12348.0</td>\n",
       "      <td>359.310</td>\n",
       "      <td>203.876</td>\n",
       "    </tr>\n",
       "    <tr>\n",
       "      <th>3</th>\n",
       "      <td>12349.0</td>\n",
       "      <td>1457.550</td>\n",
       "      <td>0.000</td>\n",
       "    </tr>\n",
       "    <tr>\n",
       "      <th>4</th>\n",
       "      <td>12350.0</td>\n",
       "      <td>294.400</td>\n",
       "      <td>0.000</td>\n",
       "    </tr>\n",
       "  </tbody>\n",
       "</table>\n",
       "</div>"
      ],
      "text/plain": [
       "  CustomerID  Monthly_Spending_Mean  Monthly_Spending_Std\n",
       "0    12346.0                  0.000                 0.000\n",
       "1    12347.0                615.714               341.071\n",
       "2    12348.0                359.310               203.876\n",
       "3    12349.0               1457.550                 0.000\n",
       "4    12350.0                294.400                 0.000"
      ]
     },
     "execution_count": 87,
     "metadata": {},
     "output_type": "execute_result"
    }
   ],
   "source": [
    "seasonal_buying_patterns=Retail_Copy.groupby(['CustomerID', 'year', 'month']).agg({'TotalPrice':'sum'}).reset_index().groupby('CustomerID')['TotalPrice'].agg(['mean','std'])\n",
    "seasonal_buying_patterns.rename(columns={'mean': 'Monthly_Spending_Mean', 'std': 'Monthly_Spending_Std'}, inplace=True)\n",
    "seasonal_buying_patterns.fillna(0,inplace=True)\n",
    "seasonal_buying_patterns.reset_index(inplace=True)\n",
    "seasonal_buying_patterns.head()"
   ]
  },
  {
   "cell_type": "code",
   "execution_count": 88,
   "id": "497c8447-8c9f-4f51-bedc-b118b1f6cfa6",
   "metadata": {},
   "outputs": [
    {
     "data": {
      "text/html": [
       "<div>\n",
       "<style scoped>\n",
       "    .dataframe tbody tr th:only-of-type {\n",
       "        vertical-align: middle;\n",
       "    }\n",
       "\n",
       "    .dataframe tbody tr th {\n",
       "        vertical-align: top;\n",
       "    }\n",
       "\n",
       "    .dataframe thead th {\n",
       "        text-align: right;\n",
       "    }\n",
       "</style>\n",
       "<table border=\"1\" class=\"dataframe\">\n",
       "  <thead>\n",
       "    <tr style=\"text-align: right;\">\n",
       "      <th></th>\n",
       "      <th>CustomerID</th>\n",
       "      <th>Spending_Trend</th>\n",
       "    </tr>\n",
       "  </thead>\n",
       "  <tbody>\n",
       "    <tr>\n",
       "      <th>0</th>\n",
       "      <td>12346.0</td>\n",
       "      <td>0.000</td>\n",
       "    </tr>\n",
       "    <tr>\n",
       "      <th>1</th>\n",
       "      <td>12347.0</td>\n",
       "      <td>4.486</td>\n",
       "    </tr>\n",
       "    <tr>\n",
       "      <th>2</th>\n",
       "      <td>12348.0</td>\n",
       "      <td>-100.884</td>\n",
       "    </tr>\n",
       "    <tr>\n",
       "      <th>3</th>\n",
       "      <td>12349.0</td>\n",
       "      <td>0.000</td>\n",
       "    </tr>\n",
       "    <tr>\n",
       "      <th>4</th>\n",
       "      <td>12350.0</td>\n",
       "      <td>0.000</td>\n",
       "    </tr>\n",
       "  </tbody>\n",
       "</table>\n",
       "</div>"
      ],
      "text/plain": [
       "  CustomerID  Spending_Trend\n",
       "0    12346.0           0.000\n",
       "1    12347.0           4.486\n",
       "2    12348.0        -100.884\n",
       "3    12349.0           0.000\n",
       "4    12350.0           0.000"
      ]
     },
     "execution_count": 88,
     "metadata": {},
     "output_type": "execute_result"
    }
   ],
   "source": [
    "def calculate_trend(spend_data):\n",
    "    # If there are more than one data points, we calculate the trend using linear regression\n",
    "    if len(spend_data) > 1:\n",
    "        x = np.arange(len(spend_data))\n",
    "        slope, _, _, _, _ = linregress(x, spend_data)\n",
    "        return slope\n",
    "    # If there is only one data point, no trend can be calculated, hence we return 0\n",
    "    else:\n",
    "        return 0\n",
    "\n",
    "spending_trends=Retail_Copy.groupby(['CustomerID', 'year', 'month']).agg({'TotalPrice':'sum'}).reset_index().groupby('CustomerID')[['TotalPrice']].agg(calculate_trend)\n",
    "spending_trends.rename(columns={'TotalPrice': 'Spending_Trend'}, inplace=True)\n",
    "spending_trends.reset_index(inplace=True)\n",
    "spending_trends.head()"
   ]
  },
  {
   "cell_type": "code",
   "execution_count": 89,
   "id": "ea1ab24f-e04a-496d-8601-28c8a63fd8ac",
   "metadata": {},
   "outputs": [],
   "source": [
    "data_per_customer = pd.merge(data_per_customer, seasonal_buying_patterns, on='CustomerID')"
   ]
  },
  {
   "cell_type": "code",
   "execution_count": 90,
   "id": "996986d8-a132-4b1d-a970-202f062b4046",
   "metadata": {},
   "outputs": [],
   "source": [
    "data_per_customer = pd.merge(data_per_customer, spending_trends, on='CustomerID')"
   ]
  },
  {
   "cell_type": "code",
   "execution_count": 91,
   "id": "3350cc82-2dc0-4fd9-949f-81f8ca2192c4",
   "metadata": {},
   "outputs": [
    {
     "data": {
      "text/html": [
       "<div>\n",
       "<style scoped>\n",
       "    .dataframe tbody tr th:only-of-type {\n",
       "        vertical-align: middle;\n",
       "    }\n",
       "\n",
       "    .dataframe tbody tr th {\n",
       "        vertical-align: top;\n",
       "    }\n",
       "\n",
       "    .dataframe thead th {\n",
       "        text-align: right;\n",
       "    }\n",
       "</style>\n",
       "<table border=\"1\" class=\"dataframe\">\n",
       "  <thead>\n",
       "    <tr style=\"text-align: right;\">\n",
       "      <th></th>\n",
       "      <th>CustomerID</th>\n",
       "      <th>Recency</th>\n",
       "      <th>Frequency</th>\n",
       "      <th>Total_Products_Purchased</th>\n",
       "      <th>Monetary</th>\n",
       "      <th>Avg_Transaction_Value</th>\n",
       "      <th>Unique_Products_Purchase</th>\n",
       "      <th>Average_Days_Between_Purchases</th>\n",
       "      <th>Day_Of_Week</th>\n",
       "      <th>Hour</th>\n",
       "      <th>Is_UK</th>\n",
       "      <th>Cancel_Freq</th>\n",
       "      <th>Cancel_Rate</th>\n",
       "      <th>Monthly_Spending_Mean</th>\n",
       "      <th>Monthly_Spending_Std</th>\n",
       "      <th>Spending_Trend</th>\n",
       "    </tr>\n",
       "  </thead>\n",
       "  <tbody>\n",
       "    <tr>\n",
       "      <th>0</th>\n",
       "      <td>12346.0</td>\n",
       "      <td>325</td>\n",
       "      <td>2</td>\n",
       "      <td>0</td>\n",
       "      <td>0.000</td>\n",
       "      <td>0.000</td>\n",
       "      <td>1</td>\n",
       "      <td>0.000</td>\n",
       "      <td>1</td>\n",
       "      <td>10</td>\n",
       "      <td>1</td>\n",
       "      <td>1.000</td>\n",
       "      <td>0.500</td>\n",
       "      <td>0.000</td>\n",
       "      <td>0.000</td>\n",
       "      <td>0.000</td>\n",
       "    </tr>\n",
       "    <tr>\n",
       "      <th>1</th>\n",
       "      <td>12347.0</td>\n",
       "      <td>2</td>\n",
       "      <td>7</td>\n",
       "      <td>2458</td>\n",
       "      <td>4310.000</td>\n",
       "      <td>615.714</td>\n",
       "      <td>103</td>\n",
       "      <td>2.017</td>\n",
       "      <td>1</td>\n",
       "      <td>14</td>\n",
       "      <td>0</td>\n",
       "      <td>0.000</td>\n",
       "      <td>0.000</td>\n",
       "      <td>615.714</td>\n",
       "      <td>341.071</td>\n",
       "      <td>4.486</td>\n",
       "    </tr>\n",
       "    <tr>\n",
       "      <th>2</th>\n",
       "      <td>12348.0</td>\n",
       "      <td>75</td>\n",
       "      <td>4</td>\n",
       "      <td>2332</td>\n",
       "      <td>1437.240</td>\n",
       "      <td>359.310</td>\n",
       "      <td>21</td>\n",
       "      <td>10.885</td>\n",
       "      <td>3</td>\n",
       "      <td>19</td>\n",
       "      <td>0</td>\n",
       "      <td>0.000</td>\n",
       "      <td>0.000</td>\n",
       "      <td>359.310</td>\n",
       "      <td>203.876</td>\n",
       "      <td>-100.884</td>\n",
       "    </tr>\n",
       "    <tr>\n",
       "      <th>3</th>\n",
       "      <td>12349.0</td>\n",
       "      <td>18</td>\n",
       "      <td>1</td>\n",
       "      <td>630</td>\n",
       "      <td>1457.550</td>\n",
       "      <td>1457.550</td>\n",
       "      <td>72</td>\n",
       "      <td>0.000</td>\n",
       "      <td>0</td>\n",
       "      <td>9</td>\n",
       "      <td>0</td>\n",
       "      <td>0.000</td>\n",
       "      <td>0.000</td>\n",
       "      <td>1457.550</td>\n",
       "      <td>0.000</td>\n",
       "      <td>0.000</td>\n",
       "    </tr>\n",
       "    <tr>\n",
       "      <th>4</th>\n",
       "      <td>12350.0</td>\n",
       "      <td>310</td>\n",
       "      <td>1</td>\n",
       "      <td>196</td>\n",
       "      <td>294.400</td>\n",
       "      <td>294.400</td>\n",
       "      <td>16</td>\n",
       "      <td>0.000</td>\n",
       "      <td>2</td>\n",
       "      <td>16</td>\n",
       "      <td>0</td>\n",
       "      <td>0.000</td>\n",
       "      <td>0.000</td>\n",
       "      <td>294.400</td>\n",
       "      <td>0.000</td>\n",
       "      <td>0.000</td>\n",
       "    </tr>\n",
       "  </tbody>\n",
       "</table>\n",
       "</div>"
      ],
      "text/plain": [
       "  CustomerID  Recency  Frequency  Total_Products_Purchased  Monetary  \\\n",
       "0    12346.0      325          2                         0     0.000   \n",
       "1    12347.0        2          7                      2458  4310.000   \n",
       "2    12348.0       75          4                      2332  1437.240   \n",
       "3    12349.0       18          1                       630  1457.550   \n",
       "4    12350.0      310          1                       196   294.400   \n",
       "\n",
       "   Avg_Transaction_Value  Unique_Products_Purchase  \\\n",
       "0                  0.000                         1   \n",
       "1                615.714                       103   \n",
       "2                359.310                        21   \n",
       "3               1457.550                        72   \n",
       "4                294.400                        16   \n",
       "\n",
       "   Average_Days_Between_Purchases  Day_Of_Week  Hour  Is_UK  Cancel_Freq  \\\n",
       "0                           0.000            1    10      1        1.000   \n",
       "1                           2.017            1    14      0        0.000   \n",
       "2                          10.885            3    19      0        0.000   \n",
       "3                           0.000            0     9      0        0.000   \n",
       "4                           0.000            2    16      0        0.000   \n",
       "\n",
       "   Cancel_Rate  Monthly_Spending_Mean  Monthly_Spending_Std  Spending_Trend  \n",
       "0        0.500                  0.000                 0.000           0.000  \n",
       "1        0.000                615.714               341.071           4.486  \n",
       "2        0.000                359.310               203.876        -100.884  \n",
       "3        0.000               1457.550                 0.000           0.000  \n",
       "4        0.000                294.400                 0.000           0.000  "
      ]
     },
     "execution_count": 91,
     "metadata": {},
     "output_type": "execute_result"
    }
   ],
   "source": [
    "data_per_customer.head()"
   ]
  },
  {
   "cell_type": "markdown",
   "id": "ea110a64-fa71-4dbf-a161-7a5ed793e6e9",
   "metadata": {},
   "source": [
    "**We've done a great job so far! We have created a dataset that focuses on our customers, using a variety of new features that give us a deeper understanding of their buying patterns and preferences.**"
   ]
  },
  {
   "cell_type": "code",
   "execution_count": 92,
   "id": "69865f17-5a2e-449e-805f-c5956420b99f",
   "metadata": {},
   "outputs": [
    {
     "data": {
      "text/html": [
       "<div>\n",
       "<style scoped>\n",
       "    .dataframe tbody tr th:only-of-type {\n",
       "        vertical-align: middle;\n",
       "    }\n",
       "\n",
       "    .dataframe tbody tr th {\n",
       "        vertical-align: top;\n",
       "    }\n",
       "\n",
       "    .dataframe thead th {\n",
       "        text-align: right;\n",
       "    }\n",
       "</style>\n",
       "<table border=\"1\" class=\"dataframe\">\n",
       "  <thead>\n",
       "    <tr style=\"text-align: right;\">\n",
       "      <th></th>\n",
       "      <th>CustomerID</th>\n",
       "      <th>Recency</th>\n",
       "      <th>Frequency</th>\n",
       "      <th>Total_Products_Purchased</th>\n",
       "      <th>Monetary</th>\n",
       "      <th>Avg_Transaction_Value</th>\n",
       "      <th>Unique_Products_Purchase</th>\n",
       "      <th>Average_Days_Between_Purchases</th>\n",
       "      <th>Day_Of_Week</th>\n",
       "      <th>Hour</th>\n",
       "      <th>Is_UK</th>\n",
       "      <th>Cancel_Freq</th>\n",
       "      <th>Cancel_Rate</th>\n",
       "      <th>Monthly_Spending_Mean</th>\n",
       "      <th>Monthly_Spending_Std</th>\n",
       "      <th>Spending_Trend</th>\n",
       "    </tr>\n",
       "  </thead>\n",
       "  <tbody>\n",
       "    <tr>\n",
       "      <th>0</th>\n",
       "      <td>12346.0</td>\n",
       "      <td>325</td>\n",
       "      <td>2</td>\n",
       "      <td>0</td>\n",
       "      <td>0.000</td>\n",
       "      <td>0.000</td>\n",
       "      <td>1</td>\n",
       "      <td>0.000</td>\n",
       "      <td>1</td>\n",
       "      <td>10</td>\n",
       "      <td>1</td>\n",
       "      <td>1.000</td>\n",
       "      <td>0.500</td>\n",
       "      <td>0.000</td>\n",
       "      <td>0.000</td>\n",
       "      <td>0.000</td>\n",
       "    </tr>\n",
       "    <tr>\n",
       "      <th>1</th>\n",
       "      <td>12347.0</td>\n",
       "      <td>2</td>\n",
       "      <td>7</td>\n",
       "      <td>2458</td>\n",
       "      <td>4310.000</td>\n",
       "      <td>615.714</td>\n",
       "      <td>103</td>\n",
       "      <td>2.017</td>\n",
       "      <td>1</td>\n",
       "      <td>14</td>\n",
       "      <td>0</td>\n",
       "      <td>0.000</td>\n",
       "      <td>0.000</td>\n",
       "      <td>615.714</td>\n",
       "      <td>341.071</td>\n",
       "      <td>4.486</td>\n",
       "    </tr>\n",
       "    <tr>\n",
       "      <th>2</th>\n",
       "      <td>12348.0</td>\n",
       "      <td>75</td>\n",
       "      <td>4</td>\n",
       "      <td>2332</td>\n",
       "      <td>1437.240</td>\n",
       "      <td>359.310</td>\n",
       "      <td>21</td>\n",
       "      <td>10.885</td>\n",
       "      <td>3</td>\n",
       "      <td>19</td>\n",
       "      <td>0</td>\n",
       "      <td>0.000</td>\n",
       "      <td>0.000</td>\n",
       "      <td>359.310</td>\n",
       "      <td>203.876</td>\n",
       "      <td>-100.884</td>\n",
       "    </tr>\n",
       "    <tr>\n",
       "      <th>3</th>\n",
       "      <td>12349.0</td>\n",
       "      <td>18</td>\n",
       "      <td>1</td>\n",
       "      <td>630</td>\n",
       "      <td>1457.550</td>\n",
       "      <td>1457.550</td>\n",
       "      <td>72</td>\n",
       "      <td>0.000</td>\n",
       "      <td>0</td>\n",
       "      <td>9</td>\n",
       "      <td>0</td>\n",
       "      <td>0.000</td>\n",
       "      <td>0.000</td>\n",
       "      <td>1457.550</td>\n",
       "      <td>0.000</td>\n",
       "      <td>0.000</td>\n",
       "    </tr>\n",
       "    <tr>\n",
       "      <th>4</th>\n",
       "      <td>12350.0</td>\n",
       "      <td>310</td>\n",
       "      <td>1</td>\n",
       "      <td>196</td>\n",
       "      <td>294.400</td>\n",
       "      <td>294.400</td>\n",
       "      <td>16</td>\n",
       "      <td>0.000</td>\n",
       "      <td>2</td>\n",
       "      <td>16</td>\n",
       "      <td>0</td>\n",
       "      <td>0.000</td>\n",
       "      <td>0.000</td>\n",
       "      <td>294.400</td>\n",
       "      <td>0.000</td>\n",
       "      <td>0.000</td>\n",
       "    </tr>\n",
       "    <tr>\n",
       "      <th>5</th>\n",
       "      <td>12352.0</td>\n",
       "      <td>36</td>\n",
       "      <td>8</td>\n",
       "      <td>463</td>\n",
       "      <td>1265.410</td>\n",
       "      <td>158.176</td>\n",
       "      <td>57</td>\n",
       "      <td>3.133</td>\n",
       "      <td>1</td>\n",
       "      <td>14</td>\n",
       "      <td>0</td>\n",
       "      <td>1.000</td>\n",
       "      <td>0.125</td>\n",
       "      <td>316.353</td>\n",
       "      <td>134.701</td>\n",
       "      <td>9.351</td>\n",
       "    </tr>\n",
       "    <tr>\n",
       "      <th>6</th>\n",
       "      <td>12353.0</td>\n",
       "      <td>204</td>\n",
       "      <td>1</td>\n",
       "      <td>20</td>\n",
       "      <td>89.000</td>\n",
       "      <td>89.000</td>\n",
       "      <td>4</td>\n",
       "      <td>0.000</td>\n",
       "      <td>3</td>\n",
       "      <td>17</td>\n",
       "      <td>0</td>\n",
       "      <td>0.000</td>\n",
       "      <td>0.000</td>\n",
       "      <td>89.000</td>\n",
       "      <td>0.000</td>\n",
       "      <td>0.000</td>\n",
       "    </tr>\n",
       "    <tr>\n",
       "      <th>7</th>\n",
       "      <td>12354.0</td>\n",
       "      <td>232</td>\n",
       "      <td>1</td>\n",
       "      <td>530</td>\n",
       "      <td>1079.400</td>\n",
       "      <td>1079.400</td>\n",
       "      <td>58</td>\n",
       "      <td>0.000</td>\n",
       "      <td>3</td>\n",
       "      <td>13</td>\n",
       "      <td>0</td>\n",
       "      <td>0.000</td>\n",
       "      <td>0.000</td>\n",
       "      <td>1079.400</td>\n",
       "      <td>0.000</td>\n",
       "      <td>0.000</td>\n",
       "    </tr>\n",
       "    <tr>\n",
       "      <th>8</th>\n",
       "      <td>12355.0</td>\n",
       "      <td>214</td>\n",
       "      <td>1</td>\n",
       "      <td>240</td>\n",
       "      <td>459.400</td>\n",
       "      <td>459.400</td>\n",
       "      <td>13</td>\n",
       "      <td>0.000</td>\n",
       "      <td>0</td>\n",
       "      <td>13</td>\n",
       "      <td>0</td>\n",
       "      <td>0.000</td>\n",
       "      <td>0.000</td>\n",
       "      <td>459.400</td>\n",
       "      <td>0.000</td>\n",
       "      <td>0.000</td>\n",
       "    </tr>\n",
       "    <tr>\n",
       "      <th>9</th>\n",
       "      <td>12356.0</td>\n",
       "      <td>22</td>\n",
       "      <td>3</td>\n",
       "      <td>1573</td>\n",
       "      <td>2487.430</td>\n",
       "      <td>829.143</td>\n",
       "      <td>52</td>\n",
       "      <td>5.316</td>\n",
       "      <td>1</td>\n",
       "      <td>9</td>\n",
       "      <td>0</td>\n",
       "      <td>0.000</td>\n",
       "      <td>0.000</td>\n",
       "      <td>829.143</td>\n",
       "      <td>991.463</td>\n",
       "      <td>-944.635</td>\n",
       "    </tr>\n",
       "  </tbody>\n",
       "</table>\n",
       "</div>"
      ],
      "text/plain": [
       "  CustomerID  Recency  Frequency  Total_Products_Purchased  Monetary  \\\n",
       "0    12346.0      325          2                         0     0.000   \n",
       "1    12347.0        2          7                      2458  4310.000   \n",
       "2    12348.0       75          4                      2332  1437.240   \n",
       "3    12349.0       18          1                       630  1457.550   \n",
       "4    12350.0      310          1                       196   294.400   \n",
       "5    12352.0       36          8                       463  1265.410   \n",
       "6    12353.0      204          1                        20    89.000   \n",
       "7    12354.0      232          1                       530  1079.400   \n",
       "8    12355.0      214          1                       240   459.400   \n",
       "9    12356.0       22          3                      1573  2487.430   \n",
       "\n",
       "   Avg_Transaction_Value  Unique_Products_Purchase  \\\n",
       "0                  0.000                         1   \n",
       "1                615.714                       103   \n",
       "2                359.310                        21   \n",
       "3               1457.550                        72   \n",
       "4                294.400                        16   \n",
       "5                158.176                        57   \n",
       "6                 89.000                         4   \n",
       "7               1079.400                        58   \n",
       "8                459.400                        13   \n",
       "9                829.143                        52   \n",
       "\n",
       "   Average_Days_Between_Purchases  Day_Of_Week  Hour  Is_UK  Cancel_Freq  \\\n",
       "0                           0.000            1    10      1        1.000   \n",
       "1                           2.017            1    14      0        0.000   \n",
       "2                          10.885            3    19      0        0.000   \n",
       "3                           0.000            0     9      0        0.000   \n",
       "4                           0.000            2    16      0        0.000   \n",
       "5                           3.133            1    14      0        1.000   \n",
       "6                           0.000            3    17      0        0.000   \n",
       "7                           0.000            3    13      0        0.000   \n",
       "8                           0.000            0    13      0        0.000   \n",
       "9                           5.316            1     9      0        0.000   \n",
       "\n",
       "   Cancel_Rate  Monthly_Spending_Mean  Monthly_Spending_Std  Spending_Trend  \n",
       "0        0.500                  0.000                 0.000           0.000  \n",
       "1        0.000                615.714               341.071           4.486  \n",
       "2        0.000                359.310               203.876        -100.884  \n",
       "3        0.000               1457.550                 0.000           0.000  \n",
       "4        0.000                294.400                 0.000           0.000  \n",
       "5        0.125                316.353               134.701           9.351  \n",
       "6        0.000                 89.000                 0.000           0.000  \n",
       "7        0.000               1079.400                 0.000           0.000  \n",
       "8        0.000                459.400                 0.000           0.000  \n",
       "9        0.000                829.143               991.463        -944.635  "
      ]
     },
     "execution_count": 92,
     "metadata": {},
     "output_type": "execute_result"
    }
   ],
   "source": [
    "data_per_customer.head(10)"
   ]
  },
  {
   "cell_type": "code",
   "execution_count": 93,
   "id": "dbc5e99a-95d4-40a9-af52-191810f957d8",
   "metadata": {},
   "outputs": [
    {
     "name": "stdout",
     "output_type": "stream",
     "text": [
      "<class 'pandas.core.frame.DataFrame'>\n",
      "RangeIndex: 4282 entries, 0 to 4281\n",
      "Data columns (total 16 columns):\n",
      " #   Column                          Non-Null Count  Dtype  \n",
      "---  ------                          --------------  -----  \n",
      " 0   CustomerID                      4282 non-null   object \n",
      " 1   Recency                         4282 non-null   int64  \n",
      " 2   Frequency                       4282 non-null   int64  \n",
      " 3   Total_Products_Purchased        4282 non-null   int64  \n",
      " 4   Monetary                        4282 non-null   float64\n",
      " 5   Avg_Transaction_Value           4282 non-null   float64\n",
      " 6   Unique_Products_Purchase        4282 non-null   int64  \n",
      " 7   Average_Days_Between_Purchases  4282 non-null   float64\n",
      " 8   Day_Of_Week                     4282 non-null   int32  \n",
      " 9   Hour                            4282 non-null   int32  \n",
      " 10  Is_UK                           4282 non-null   int64  \n",
      " 11  Cancel_Freq                     4282 non-null   float64\n",
      " 12  Cancel_Rate                     4282 non-null   float64\n",
      " 13  Monthly_Spending_Mean           4282 non-null   float64\n",
      " 14  Monthly_Spending_Std            4282 non-null   float64\n",
      " 15  Spending_Trend                  4282 non-null   float64\n",
      "dtypes: float64(8), int32(2), int64(5), object(1)\n",
      "memory usage: 501.9+ KB\n"
     ]
    }
   ],
   "source": [
    "data_per_customer.info()"
   ]
  },
  {
   "cell_type": "markdown",
   "id": "ab5374fb-61c9-40e9-8378-efbef354a531",
   "metadata": {},
   "source": [
    "# <center>**3. Feature Scaling**</center>"
   ]
  },
  {
   "cell_type": "markdown",
   "id": "94173eee-ed10-4d2f-be40-1b38fe0534a2",
   "metadata": {},
   "source": [
    "- Before we move forward with the clustering and dimensionality reduction, it's imperative to scale our features. This step holds significant importance, especially in the context of distance-based algorithms like K-means and dimensionality reduction methods like PCA.\n",
    "- Therefore, to ensure a balanced influence on the model and to reveal the true patterns in the data, we am going to standardize our data, meaning transforming the features to have a mean of 0 and a standard deviation of 1. However, not all features require scaling. Here are the exceptions and the reasons why they are excluded:\n",
    "\n",
    "  - **CustomerID:** This feature is just an identifier for the customers and does not contain any meaningful information for clustering.\n",
    "  - **Is_UK:** This is a binary feature indicating whether the customer is from the UK or not. Since it already takes a value of 0 or 1, scaling it won't make any significant difference.\n",
    "  - **Day_Of_Week:** Categorical feature range from 0 to 6 and does not need to scale.\n",
    "  - **Frequency:** Categorical feature that represent total No of purchases and does not need to scale.\n",
    "  - **Cancel_Rate:** Range from 0 to 1 and does not need to scale."
   ]
  },
  {
   "cell_type": "code",
   "execution_count": 94,
   "id": "43669e64-e3dd-4e3d-a305-88f6dea39a94",
   "metadata": {},
   "outputs": [
    {
     "data": {
      "text/html": [
       "<div>\n",
       "<style scoped>\n",
       "    .dataframe tbody tr th:only-of-type {\n",
       "        vertical-align: middle;\n",
       "    }\n",
       "\n",
       "    .dataframe tbody tr th {\n",
       "        vertical-align: top;\n",
       "    }\n",
       "\n",
       "    .dataframe thead th {\n",
       "        text-align: right;\n",
       "    }\n",
       "</style>\n",
       "<table border=\"1\" class=\"dataframe\">\n",
       "  <thead>\n",
       "    <tr style=\"text-align: right;\">\n",
       "      <th></th>\n",
       "      <th>CustomerID</th>\n",
       "      <th>Recency</th>\n",
       "      <th>Frequency</th>\n",
       "      <th>Total_Products_Purchased</th>\n",
       "      <th>Monetary</th>\n",
       "      <th>Avg_Transaction_Value</th>\n",
       "      <th>Unique_Products_Purchase</th>\n",
       "      <th>Average_Days_Between_Purchases</th>\n",
       "      <th>Day_Of_Week</th>\n",
       "      <th>Hour</th>\n",
       "      <th>Is_UK</th>\n",
       "      <th>Cancel_Freq</th>\n",
       "      <th>Cancel_Rate</th>\n",
       "      <th>Monthly_Spending_Mean</th>\n",
       "      <th>Monthly_Spending_Std</th>\n",
       "      <th>Spending_Trend</th>\n",
       "    </tr>\n",
       "  </thead>\n",
       "  <tbody>\n",
       "    <tr>\n",
       "      <th>0</th>\n",
       "      <td>12346.0</td>\n",
       "      <td>2.377</td>\n",
       "      <td>2</td>\n",
       "      <td>-0.241</td>\n",
       "      <td>-0.231</td>\n",
       "      <td>-0.833</td>\n",
       "      <td>-0.715</td>\n",
       "      <td>-0.300</td>\n",
       "      <td>1</td>\n",
       "      <td>-1.076</td>\n",
       "      <td>1</td>\n",
       "      <td>0.107</td>\n",
       "      <td>0.500</td>\n",
       "      <td>-0.450</td>\n",
       "      <td>-0.284</td>\n",
       "      <td>0.054</td>\n",
       "    </tr>\n",
       "    <tr>\n",
       "      <th>1</th>\n",
       "      <td>12347.0</td>\n",
       "      <td>-0.882</td>\n",
       "      <td>7</td>\n",
       "      <td>0.281</td>\n",
       "      <td>0.286</td>\n",
       "      <td>0.757</td>\n",
       "      <td>0.475</td>\n",
       "      <td>-0.124</td>\n",
       "      <td>1</td>\n",
       "      <td>0.656</td>\n",
       "      <td>0</td>\n",
       "      <td>-0.398</td>\n",
       "      <td>0.000</td>\n",
       "      <td>0.159</td>\n",
       "      <td>0.225</td>\n",
       "      <td>0.064</td>\n",
       "    </tr>\n",
       "    <tr>\n",
       "      <th>2</th>\n",
       "      <td>12348.0</td>\n",
       "      <td>-0.146</td>\n",
       "      <td>4</td>\n",
       "      <td>0.254</td>\n",
       "      <td>-0.059</td>\n",
       "      <td>0.095</td>\n",
       "      <td>-0.482</td>\n",
       "      <td>0.650</td>\n",
       "      <td>3</td>\n",
       "      <td>2.822</td>\n",
       "      <td>0</td>\n",
       "      <td>-0.398</td>\n",
       "      <td>0.000</td>\n",
       "      <td>-0.095</td>\n",
       "      <td>0.020</td>\n",
       "      <td>-0.161</td>\n",
       "    </tr>\n",
       "    <tr>\n",
       "      <th>3</th>\n",
       "      <td>12349.0</td>\n",
       "      <td>-0.721</td>\n",
       "      <td>1</td>\n",
       "      <td>-0.107</td>\n",
       "      <td>-0.056</td>\n",
       "      <td>2.932</td>\n",
       "      <td>0.113</td>\n",
       "      <td>-0.300</td>\n",
       "      <td>0</td>\n",
       "      <td>-1.509</td>\n",
       "      <td>0</td>\n",
       "      <td>-0.398</td>\n",
       "      <td>0.000</td>\n",
       "      <td>0.993</td>\n",
       "      <td>-0.284</td>\n",
       "      <td>0.054</td>\n",
       "    </tr>\n",
       "    <tr>\n",
       "      <th>4</th>\n",
       "      <td>12350.0</td>\n",
       "      <td>2.226</td>\n",
       "      <td>1</td>\n",
       "      <td>-0.199</td>\n",
       "      <td>-0.196</td>\n",
       "      <td>-0.073</td>\n",
       "      <td>-0.540</td>\n",
       "      <td>-0.300</td>\n",
       "      <td>2</td>\n",
       "      <td>1.523</td>\n",
       "      <td>0</td>\n",
       "      <td>-0.398</td>\n",
       "      <td>0.000</td>\n",
       "      <td>-0.159</td>\n",
       "      <td>-0.284</td>\n",
       "      <td>0.054</td>\n",
       "    </tr>\n",
       "  </tbody>\n",
       "</table>\n",
       "</div>"
      ],
      "text/plain": [
       "  CustomerID  Recency  Frequency  Total_Products_Purchased  Monetary  \\\n",
       "0    12346.0    2.377          2                    -0.241    -0.231   \n",
       "1    12347.0   -0.882          7                     0.281     0.286   \n",
       "2    12348.0   -0.146          4                     0.254    -0.059   \n",
       "3    12349.0   -0.721          1                    -0.107    -0.056   \n",
       "4    12350.0    2.226          1                    -0.199    -0.196   \n",
       "\n",
       "   Avg_Transaction_Value  Unique_Products_Purchase  \\\n",
       "0                 -0.833                    -0.715   \n",
       "1                  0.757                     0.475   \n",
       "2                  0.095                    -0.482   \n",
       "3                  2.932                     0.113   \n",
       "4                 -0.073                    -0.540   \n",
       "\n",
       "   Average_Days_Between_Purchases  Day_Of_Week   Hour  Is_UK  Cancel_Freq  \\\n",
       "0                          -0.300            1 -1.076      1        0.107   \n",
       "1                          -0.124            1  0.656      0       -0.398   \n",
       "2                           0.650            3  2.822      0       -0.398   \n",
       "3                          -0.300            0 -1.509      0       -0.398   \n",
       "4                          -0.300            2  1.523      0       -0.398   \n",
       "\n",
       "   Cancel_Rate  Monthly_Spending_Mean  Monthly_Spending_Std  Spending_Trend  \n",
       "0        0.500                 -0.450                -0.284           0.054  \n",
       "1        0.000                  0.159                 0.225           0.064  \n",
       "2        0.000                 -0.095                 0.020          -0.161  \n",
       "3        0.000                  0.993                -0.284           0.054  \n",
       "4        0.000                 -0.159                -0.284           0.054  "
      ]
     },
     "execution_count": 94,
     "metadata": {},
     "output_type": "execute_result"
    }
   ],
   "source": [
    "scale = StandardScaler()\n",
    "col_to_ex = ['CustomerID','Is_UK','Day_Of_Week','Frequency','Cancel_Rate']\n",
    "col_to_scale = data_per_customer.columns.difference(col_to_ex)\n",
    "data_scaled_customer = data_per_customer.copy()\n",
    "data_scaled_customer[col_to_scale] = scale.fit_transform(data_scaled_customer[col_to_scale])\n",
    "data_scaled_customer.head()"
   ]
  },
  {
   "cell_type": "markdown",
   "id": "28e3c5fe-6af2-436e-9f23-643cee813314",
   "metadata": {},
   "source": [
    "# <center>**4. Dimensionality Reduction with PCA**</center>"
   ]
  },
  {
   "cell_type": "markdown",
   "id": "805cb691-73b8-45a9-86ad-67560874fe46",
   "metadata": {},
   "source": [
    "**Why We Need Dimensionality Reduction?**\n",
    "  - **Better Clustering with K-means:** Since K-means is a distance-based algorithm, having a large number of features can sometimes dilute the meaningful underlying patterns in the data. By reducing the dimensionality, we can help K-means to find more compact and well-separated clusters.\n",
    "  - **Enhanced Visualization:** In the context of customer segmentation, being able to visualize customer groups in two or three dimensions can provide intuitive insights. Dimensionality reduction techniques can facilitate this by reducing the data to a few principal components which can be plotted easily."
   ]
  },
  {
   "cell_type": "markdown",
   "id": "aa970b9b-3882-443a-925b-602a773bfb47",
   "metadata": {},
   "source": [
    "- We will apply PCA on all the available components and plot the cumulative variance explained by them. This process will allow me to visualize how much variance each additional principal component can explain, thereby helping me to pinpoint the optimal number of components to retain for the analysis:"
   ]
  },
  {
   "cell_type": "code",
   "execution_count": 95,
   "id": "8e9789a6-79a1-405f-b8e6-614445a261e0",
   "metadata": {},
   "outputs": [],
   "source": [
    "data_scaled_customer.set_index('CustomerID', inplace=True)"
   ]
  },
  {
   "cell_type": "code",
   "execution_count": 96,
   "id": "108bb0e7-a07e-412a-8605-fdd19f4327f1",
   "metadata": {},
   "outputs": [
    {
     "data": {
      "text/plain": [
       "array([8.73667840e-01, 3.50937139e-02, 2.96426109e-02, 1.11172519e-02,\n",
       "       1.10223914e-02, 1.02348300e-02, 9.14325360e-03, 6.98893337e-03,\n",
       "       4.53196772e-03, 3.61247848e-03, 2.13632610e-03, 1.46848171e-03,\n",
       "       8.20253893e-04, 3.43567741e-04, 1.76098985e-04])"
      ]
     },
     "execution_count": 96,
     "metadata": {},
     "output_type": "execute_result"
    }
   ],
   "source": [
    "pca = PCA().fit(data_scaled_customer)\n",
    "pca.explained_variance_ratio_"
   ]
  },
  {
   "cell_type": "code",
   "execution_count": 97,
   "id": "0ba9c3bf-1639-495a-b084-3116cbbec88e",
   "metadata": {},
   "outputs": [
    {
     "name": "stderr",
     "output_type": "stream",
     "text": [
      "/Users/drmorsy/anaconda3/lib/python3.11/site-packages/seaborn/_oldcore.py:1765: FutureWarning: unique with argument that is not not a Series, Index, ExtensionArray, or np.ndarray is deprecated and will raise in a future version.\n",
      "  order = pd.unique(vector)\n"
     ]
    },
    {
     "data": {
      "image/png": "[encoded data removed]",
      "text/plain": [
       "<Figure size 2000x1000 with 1 Axes>"
      ]
     },
     "metadata": {},
     "output_type": "display_data"
    }
   ],
   "source": [
    "# Calculate the Cumulative Sum of the Explained Variance\n",
    "explained_variance_ratio = pca.explained_variance_ratio_\n",
    "cumulative_explained_variance = np.cumsum(explained_variance_ratio)\n",
    "\n",
    "# Set the optimal k value (based on our analysis, we can choose 6)\n",
    "optimal_k = 3\n",
    "\n",
    "# Set seaborn plot style\n",
    "sns.set(rc={'axes.facecolor': '#fcf0dc'}, style='darkgrid')\n",
    "\n",
    "# Plot the cumulative explained variance against the number of components\n",
    "plt.figure(figsize=(20, 10))\n",
    "\n",
    "# Bar chart for the explained variance of each component\n",
    "barplot = sns.barplot(x=list(range(1, len(cumulative_explained_variance) + 1)),\n",
    "                      y=explained_variance_ratio,\n",
    "                      color='#fcc36d',\n",
    "                      alpha=0.8)\n",
    "# Line plot for the cumulative explained variance\n",
    "lineplot, = plt.plot(range(0, len(cumulative_explained_variance)), cumulative_explained_variance,\n",
    "                     marker='o', linestyle='--', color='#ff6200', linewidth=2)\n",
    "\n",
    "# Plot optimal k value line\n",
    "optimal_k_line = plt.axvline(optimal_k - 1, color='red', linestyle='--', label=f'Optimal k value = {optimal_k}') \n",
    "\n",
    "# Set labels and title\n",
    "plt.xlabel('Number of Components', fontsize=14)\n",
    "plt.ylabel('Explained Variance', fontsize=14)\n",
    "plt.title('Cumulative Variance vs. Number of Components', fontsize=18)\n",
    "\n",
    "# Customize ticks and legend\n",
    "plt.xticks(range(0, len(cumulative_explained_variance)))\n",
    "plt.legend(handles=[barplot.patches[0], lineplot, optimal_k_line],\n",
    "           labels=['Explained Variance of Each Component', 'Cumulative Explained Variance', f'Optimal k value = {optimal_k}'],\n",
    "           loc=(0.62, 0.1),\n",
    "           frameon=True,\n",
    "           framealpha=1.0,  \n",
    "           edgecolor='#ff6200')  \n",
    "# Display the variance values for both graphs on the plots\n",
    "x_offset = -0.3\n",
    "y_offset = 0.01\n",
    "for i, (ev_ratio, cum_ev_ratio) in enumerate(zip(explained_variance_ratio, cumulative_explained_variance)):\n",
    "    plt.text(i, ev_ratio, f\"{ev_ratio:.2f}\", ha=\"center\", va=\"bottom\", fontsize=10)\n",
    "    if i > 0:\n",
    "        plt.text(i + x_offset, cum_ev_ratio + y_offset, f\"{cum_ev_ratio:.2f}\", ha=\"center\", va=\"bottom\", fontsize=10)\n",
    "\n",
    "plt.grid(axis='both')   \n",
    "plt.show()"
   ]
  },
  {
   "cell_type": "markdown",
   "id": "3fb1764a-3af9-4bfd-a3ba-b70e4aa2ee01",
   "metadata": {},
   "source": [
    "- To choose the optimal number of components, we generally look for a point where adding another component doesn't significantly increase the cumulative explained variance, often referred to as the \"elbow point\" in the curve.\n",
    "\n",
    "- From the plot, we can see that the increase in cumulative variance starts to slow down after the 3rd component (which captures about 94% of the total variance).\n",
    "\n",
    "- Considering the context of customer segmentation, we want to retain a sufficient amount of information to identify distinct customer groups effectively. Therefore, retaining the first 3 components might be a balanced choice, as they together explain a substantial portion of the total variance while reducing the dimensionality of the dataset."
   ]
  },
  {
   "cell_type": "code",
   "execution_count": 98,
   "id": "6401f0ae-bec0-4f9c-8f8e-025c17eda11e",
   "metadata": {},
   "outputs": [
    {
     "data": {
      "text/html": [
       "<div>\n",
       "<style scoped>\n",
       "    .dataframe tbody tr th:only-of-type {\n",
       "        vertical-align: middle;\n",
       "    }\n",
       "\n",
       "    .dataframe tbody tr th {\n",
       "        vertical-align: top;\n",
       "    }\n",
       "\n",
       "    .dataframe thead th {\n",
       "        text-align: right;\n",
       "    }\n",
       "</style>\n",
       "<table border=\"1\" class=\"dataframe\">\n",
       "  <thead>\n",
       "    <tr style=\"text-align: right;\">\n",
       "      <th></th>\n",
       "      <th>PC1</th>\n",
       "      <th>PC2</th>\n",
       "      <th>PC3</th>\n",
       "    </tr>\n",
       "    <tr>\n",
       "      <th>CustomerID</th>\n",
       "      <th></th>\n",
       "      <th></th>\n",
       "      <th></th>\n",
       "    </tr>\n",
       "  </thead>\n",
       "  <tbody>\n",
       "    <tr>\n",
       "      <th>12346.0</th>\n",
       "      <td>-3.196</td>\n",
       "      <td>1.486</td>\n",
       "      <td>-0.957</td>\n",
       "    </tr>\n",
       "    <tr>\n",
       "      <th>12347.0</th>\n",
       "      <td>1.996</td>\n",
       "      <td>1.559</td>\n",
       "      <td>0.362</td>\n",
       "    </tr>\n",
       "    <tr>\n",
       "      <th>12348.0</th>\n",
       "      <td>-1.126</td>\n",
       "      <td>-0.539</td>\n",
       "      <td>0.251</td>\n",
       "    </tr>\n",
       "    <tr>\n",
       "      <th>12349.0</th>\n",
       "      <td>-3.962</td>\n",
       "      <td>2.960</td>\n",
       "      <td>1.606</td>\n",
       "    </tr>\n",
       "    <tr>\n",
       "      <th>12350.0</th>\n",
       "      <td>-4.202</td>\n",
       "      <td>0.461</td>\n",
       "      <td>-0.123</td>\n",
       "    </tr>\n",
       "  </tbody>\n",
       "</table>\n",
       "</div>"
      ],
      "text/plain": [
       "              PC1    PC2    PC3\n",
       "CustomerID                     \n",
       "12346.0    -3.196  1.486 -0.957\n",
       "12347.0     1.996  1.559  0.362\n",
       "12348.0    -1.126 -0.539  0.251\n",
       "12349.0    -3.962  2.960  1.606\n",
       "12350.0    -4.202  0.461 -0.123"
      ]
     },
     "execution_count": 98,
     "metadata": {},
     "output_type": "execute_result"
    }
   ],
   "source": [
    "pca = PCA(n_components=3)\n",
    "customer_data_pca = pca.fit_transform(data_scaled_customer)\n",
    "customer_data_pca = pd.DataFrame(customer_data_pca, columns=['PC'+str(i+1) for i in range(pca.n_components_)])\n",
    "\n",
    "customer_data_pca.index = data_scaled_customer.index\n",
    "customer_data_pca.head()"
   ]
  },
  {
   "cell_type": "markdown",
   "id": "98738b41-2ed6-4560-abea-218ed9152dc5",
   "metadata": {},
   "source": [
    "# <center>**5. Determining Optimal Number of Clusters**</center>"
   ]
  },
  {
   "cell_type": "markdown",
   "id": "ed5538d2-38cd-4a5f-be92-cf5d1466a612",
   "metadata": {},
   "source": [
    "**Elbow Method**\n",
    "\n",
    "- The Elbow Method is a technique for identifying the ideal number of clusters in a dataset. It involves iterating through the data, generating clusters for various values of k. The k-means algorithm calculates the sum of squared distances between each data point and its assigned cluster centroid, known as the inertia or WCSS score. By plotting the inertia score against the k value, we create a graph that typically exhibits an elbow shape, hence the name \"Elbow Method\". The elbow point represents the k-value where the reduction in inertia achieved by increasing k becomes negligible, indicating the optimal stopping point for the number of clusters."
   ]
  },
  {
   "cell_type": "code",
   "execution_count": 99,
   "id": "897caa74-3a94-4609-b70b-68f331ed5389",
   "metadata": {},
   "outputs": [],
   "source": [
    "list_of_inertais = []\n",
    "for n in range(2,10):\n",
    "    km = KMeans(n_clusters=n, n_init='auto')\n",
    "    km.fit(customer_data_pca) #we do not want prediction beacause we just going to calculate inertia.\n",
    "    list_of_inertais.append(km.inertia_)"
   ]
  },
  {
   "cell_type": "code",
   "execution_count": 100,
   "id": "bc759864-26f0-4b78-9016-bd9e598ecef4",
   "metadata": {},
   "outputs": [
    {
     "data": {
      "text/plain": [
       "[<matplotlib.lines.Line2D at 0x153924650>]"
      ]
     },
     "execution_count": 100,
     "metadata": {},
     "output_type": "execute_result"
    },
    {
     "data": {
      "image/png": "[encoded data removed]",
      "text/plain": [
       "<Figure size 640x480 with 1 Axes>"
      ]
     },
     "metadata": {},
     "output_type": "display_data"
    }
   ],
   "source": [
    "list_of_inertais\n",
    "plt.plot(range(2,10), list_of_inertais)"
   ]
  },
  {
   "cell_type": "markdown",
   "id": "08522730-a479-429d-8d17-7922642e3b16",
   "metadata": {},
   "source": [
    "##### **Optimal k Value: Elbow Method Insights**\n",
    "\n",
    "- The optimal value of k for the KMeans clustering algorithm can be found at the elbow point.\n",
    "- We observe that the suggested optimal k value is 4. However, we don't have a very distinct elbow point in this case, which is common in real-world data. But from the plot, we can see that the inertia continues to decrease significantly up to k=4."
   ]
  },
  {
   "cell_type": "markdown",
   "id": "9f3fffb2-405e-46b2-a01f-f2ece984e7c0",
   "metadata": {},
   "source": [
    "# <center>**6. K-means Clustering**</center>"
   ]
  },
  {
   "cell_type": "markdown",
   "id": "4a5fe0b5-1ed6-48b7-9bcd-020b451cb314",
   "metadata": {},
   "source": [
    "**In this step,** we are going to apply the K-means clustering algorithm to segment customers into different clusters based on their purchasing behaviors and other characteristics, using the optimal number of clusters determined in the previous step."
   ]
  },
  {
   "cell_type": "code",
   "execution_count": 101,
   "id": "fffbfb48-a51d-49a9-8bbf-c0ff00aaedea",
   "metadata": {},
   "outputs": [],
   "source": [
    "kmeans = KMeans(n_clusters=4, init='k-means++', n_init=10, max_iter=100, random_state=0)\n",
    "new_labels = kmeans.fit_predict(customer_data_pca)"
   ]
  },
  {
   "cell_type": "code",
   "execution_count": 102,
   "id": "923e0709-60d1-4a16-b23a-4e34872608e5",
   "metadata": {},
   "outputs": [
    {
     "data": {
      "text/html": [
       "<div>\n",
       "<style scoped>\n",
       "    .dataframe tbody tr th:only-of-type {\n",
       "        vertical-align: middle;\n",
       "    }\n",
       "\n",
       "    .dataframe tbody tr th {\n",
       "        vertical-align: top;\n",
       "    }\n",
       "\n",
       "    .dataframe thead th {\n",
       "        text-align: right;\n",
       "    }\n",
       "</style>\n",
       "<table border=\"1\" class=\"dataframe\">\n",
       "  <thead>\n",
       "    <tr style=\"text-align: right;\">\n",
       "      <th></th>\n",
       "      <th>PC1</th>\n",
       "      <th>PC2</th>\n",
       "      <th>PC3</th>\n",
       "      <th>cluster</th>\n",
       "    </tr>\n",
       "    <tr>\n",
       "      <th>CustomerID</th>\n",
       "      <th></th>\n",
       "      <th></th>\n",
       "      <th></th>\n",
       "      <th></th>\n",
       "    </tr>\n",
       "  </thead>\n",
       "  <tbody>\n",
       "    <tr>\n",
       "      <th>12346.0</th>\n",
       "      <td>-3.196</td>\n",
       "      <td>1.486</td>\n",
       "      <td>-0.957</td>\n",
       "      <td>0</td>\n",
       "    </tr>\n",
       "    <tr>\n",
       "      <th>12347.0</th>\n",
       "      <td>1.996</td>\n",
       "      <td>1.559</td>\n",
       "      <td>0.362</td>\n",
       "      <td>0</td>\n",
       "    </tr>\n",
       "    <tr>\n",
       "      <th>12348.0</th>\n",
       "      <td>-1.126</td>\n",
       "      <td>-0.539</td>\n",
       "      <td>0.251</td>\n",
       "      <td>0</td>\n",
       "    </tr>\n",
       "    <tr>\n",
       "      <th>12349.0</th>\n",
       "      <td>-3.962</td>\n",
       "      <td>2.960</td>\n",
       "      <td>1.606</td>\n",
       "      <td>0</td>\n",
       "    </tr>\n",
       "    <tr>\n",
       "      <th>12350.0</th>\n",
       "      <td>-4.202</td>\n",
       "      <td>0.461</td>\n",
       "      <td>-0.123</td>\n",
       "      <td>0</td>\n",
       "    </tr>\n",
       "  </tbody>\n",
       "</table>\n",
       "</div>"
      ],
      "text/plain": [
       "              PC1    PC2    PC3  cluster\n",
       "CustomerID                              \n",
       "12346.0    -3.196  1.486 -0.957        0\n",
       "12347.0     1.996  1.559  0.362        0\n",
       "12348.0    -1.126 -0.539  0.251        0\n",
       "12349.0    -3.962  2.960  1.606        0\n",
       "12350.0    -4.202  0.461 -0.123        0"
      ]
     },
     "execution_count": 102,
     "metadata": {},
     "output_type": "execute_result"
    }
   ],
   "source": [
    "customer_data_pca['cluster'] = new_labels\n",
    "customer_data_pca.head()"
   ]
  },
  {
   "cell_type": "code",
   "execution_count": 103,
   "id": "53d113cd-600c-4b4a-8a2f-fe9036ef70c8",
   "metadata": {},
   "outputs": [
    {
     "data": {
      "text/html": [
       "<div>\n",
       "<style scoped>\n",
       "    .dataframe tbody tr th:only-of-type {\n",
       "        vertical-align: middle;\n",
       "    }\n",
       "\n",
       "    .dataframe tbody tr th {\n",
       "        vertical-align: top;\n",
       "    }\n",
       "\n",
       "    .dataframe thead th {\n",
       "        text-align: right;\n",
       "    }\n",
       "</style>\n",
       "<table border=\"1\" class=\"dataframe\">\n",
       "  <thead>\n",
       "    <tr style=\"text-align: right;\">\n",
       "      <th></th>\n",
       "      <th>CustomerID</th>\n",
       "      <th>Recency</th>\n",
       "      <th>Frequency</th>\n",
       "      <th>Total_Products_Purchased</th>\n",
       "      <th>Monetary</th>\n",
       "      <th>Avg_Transaction_Value</th>\n",
       "      <th>Unique_Products_Purchase</th>\n",
       "      <th>Average_Days_Between_Purchases</th>\n",
       "      <th>Day_Of_Week</th>\n",
       "      <th>Hour</th>\n",
       "      <th>Is_UK</th>\n",
       "      <th>Cancel_Freq</th>\n",
       "      <th>Cancel_Rate</th>\n",
       "      <th>Monthly_Spending_Mean</th>\n",
       "      <th>Monthly_Spending_Std</th>\n",
       "      <th>Spending_Trend</th>\n",
       "      <th>cluster</th>\n",
       "    </tr>\n",
       "  </thead>\n",
       "  <tbody>\n",
       "    <tr>\n",
       "      <th>0</th>\n",
       "      <td>12346.0</td>\n",
       "      <td>325</td>\n",
       "      <td>2</td>\n",
       "      <td>0</td>\n",
       "      <td>0.000</td>\n",
       "      <td>0.000</td>\n",
       "      <td>1</td>\n",
       "      <td>0.000</td>\n",
       "      <td>1</td>\n",
       "      <td>10</td>\n",
       "      <td>1</td>\n",
       "      <td>1.000</td>\n",
       "      <td>0.500</td>\n",
       "      <td>0.000</td>\n",
       "      <td>0.000</td>\n",
       "      <td>0.000</td>\n",
       "      <td>0</td>\n",
       "    </tr>\n",
       "    <tr>\n",
       "      <th>1</th>\n",
       "      <td>12347.0</td>\n",
       "      <td>2</td>\n",
       "      <td>7</td>\n",
       "      <td>2458</td>\n",
       "      <td>4310.000</td>\n",
       "      <td>615.714</td>\n",
       "      <td>103</td>\n",
       "      <td>2.017</td>\n",
       "      <td>1</td>\n",
       "      <td>14</td>\n",
       "      <td>0</td>\n",
       "      <td>0.000</td>\n",
       "      <td>0.000</td>\n",
       "      <td>615.714</td>\n",
       "      <td>341.071</td>\n",
       "      <td>4.486</td>\n",
       "      <td>0</td>\n",
       "    </tr>\n",
       "    <tr>\n",
       "      <th>2</th>\n",
       "      <td>12348.0</td>\n",
       "      <td>75</td>\n",
       "      <td>4</td>\n",
       "      <td>2332</td>\n",
       "      <td>1437.240</td>\n",
       "      <td>359.310</td>\n",
       "      <td>21</td>\n",
       "      <td>10.885</td>\n",
       "      <td>3</td>\n",
       "      <td>19</td>\n",
       "      <td>0</td>\n",
       "      <td>0.000</td>\n",
       "      <td>0.000</td>\n",
       "      <td>359.310</td>\n",
       "      <td>203.876</td>\n",
       "      <td>-100.884</td>\n",
       "      <td>0</td>\n",
       "    </tr>\n",
       "    <tr>\n",
       "      <th>3</th>\n",
       "      <td>12349.0</td>\n",
       "      <td>18</td>\n",
       "      <td>1</td>\n",
       "      <td>630</td>\n",
       "      <td>1457.550</td>\n",
       "      <td>1457.550</td>\n",
       "      <td>72</td>\n",
       "      <td>0.000</td>\n",
       "      <td>0</td>\n",
       "      <td>9</td>\n",
       "      <td>0</td>\n",
       "      <td>0.000</td>\n",
       "      <td>0.000</td>\n",
       "      <td>1457.550</td>\n",
       "      <td>0.000</td>\n",
       "      <td>0.000</td>\n",
       "      <td>0</td>\n",
       "    </tr>\n",
       "    <tr>\n",
       "      <th>4</th>\n",
       "      <td>12350.0</td>\n",
       "      <td>310</td>\n",
       "      <td>1</td>\n",
       "      <td>196</td>\n",
       "      <td>294.400</td>\n",
       "      <td>294.400</td>\n",
       "      <td>16</td>\n",
       "      <td>0.000</td>\n",
       "      <td>2</td>\n",
       "      <td>16</td>\n",
       "      <td>0</td>\n",
       "      <td>0.000</td>\n",
       "      <td>0.000</td>\n",
       "      <td>294.400</td>\n",
       "      <td>0.000</td>\n",
       "      <td>0.000</td>\n",
       "      <td>0</td>\n",
       "    </tr>\n",
       "    <tr>\n",
       "      <th>5</th>\n",
       "      <td>12352.0</td>\n",
       "      <td>36</td>\n",
       "      <td>8</td>\n",
       "      <td>463</td>\n",
       "      <td>1265.410</td>\n",
       "      <td>158.176</td>\n",
       "      <td>57</td>\n",
       "      <td>3.133</td>\n",
       "      <td>1</td>\n",
       "      <td>14</td>\n",
       "      <td>0</td>\n",
       "      <td>1.000</td>\n",
       "      <td>0.125</td>\n",
       "      <td>316.353</td>\n",
       "      <td>134.701</td>\n",
       "      <td>9.351</td>\n",
       "      <td>3</td>\n",
       "    </tr>\n",
       "    <tr>\n",
       "      <th>6</th>\n",
       "      <td>12353.0</td>\n",
       "      <td>204</td>\n",
       "      <td>1</td>\n",
       "      <td>20</td>\n",
       "      <td>89.000</td>\n",
       "      <td>89.000</td>\n",
       "      <td>4</td>\n",
       "      <td>0.000</td>\n",
       "      <td>3</td>\n",
       "      <td>17</td>\n",
       "      <td>0</td>\n",
       "      <td>0.000</td>\n",
       "      <td>0.000</td>\n",
       "      <td>89.000</td>\n",
       "      <td>0.000</td>\n",
       "      <td>0.000</td>\n",
       "      <td>0</td>\n",
       "    </tr>\n",
       "    <tr>\n",
       "      <th>7</th>\n",
       "      <td>12354.0</td>\n",
       "      <td>232</td>\n",
       "      <td>1</td>\n",
       "      <td>530</td>\n",
       "      <td>1079.400</td>\n",
       "      <td>1079.400</td>\n",
       "      <td>58</td>\n",
       "      <td>0.000</td>\n",
       "      <td>3</td>\n",
       "      <td>13</td>\n",
       "      <td>0</td>\n",
       "      <td>0.000</td>\n",
       "      <td>0.000</td>\n",
       "      <td>1079.400</td>\n",
       "      <td>0.000</td>\n",
       "      <td>0.000</td>\n",
       "      <td>0</td>\n",
       "    </tr>\n",
       "    <tr>\n",
       "      <th>8</th>\n",
       "      <td>12355.0</td>\n",
       "      <td>214</td>\n",
       "      <td>1</td>\n",
       "      <td>240</td>\n",
       "      <td>459.400</td>\n",
       "      <td>459.400</td>\n",
       "      <td>13</td>\n",
       "      <td>0.000</td>\n",
       "      <td>0</td>\n",
       "      <td>13</td>\n",
       "      <td>0</td>\n",
       "      <td>0.000</td>\n",
       "      <td>0.000</td>\n",
       "      <td>459.400</td>\n",
       "      <td>0.000</td>\n",
       "      <td>0.000</td>\n",
       "      <td>0</td>\n",
       "    </tr>\n",
       "    <tr>\n",
       "      <th>9</th>\n",
       "      <td>12356.0</td>\n",
       "      <td>22</td>\n",
       "      <td>3</td>\n",
       "      <td>1573</td>\n",
       "      <td>2487.430</td>\n",
       "      <td>829.143</td>\n",
       "      <td>52</td>\n",
       "      <td>5.316</td>\n",
       "      <td>1</td>\n",
       "      <td>9</td>\n",
       "      <td>0</td>\n",
       "      <td>0.000</td>\n",
       "      <td>0.000</td>\n",
       "      <td>829.143</td>\n",
       "      <td>991.463</td>\n",
       "      <td>-944.635</td>\n",
       "      <td>0</td>\n",
       "    </tr>\n",
       "  </tbody>\n",
       "</table>\n",
       "</div>"
      ],
      "text/plain": [
       "  CustomerID  Recency  Frequency  Total_Products_Purchased  Monetary  \\\n",
       "0    12346.0      325          2                         0     0.000   \n",
       "1    12347.0        2          7                      2458  4310.000   \n",
       "2    12348.0       75          4                      2332  1437.240   \n",
       "3    12349.0       18          1                       630  1457.550   \n",
       "4    12350.0      310          1                       196   294.400   \n",
       "5    12352.0       36          8                       463  1265.410   \n",
       "6    12353.0      204          1                        20    89.000   \n",
       "7    12354.0      232          1                       530  1079.400   \n",
       "8    12355.0      214          1                       240   459.400   \n",
       "9    12356.0       22          3                      1573  2487.430   \n",
       "\n",
       "   Avg_Transaction_Value  Unique_Products_Purchase  \\\n",
       "0                  0.000                         1   \n",
       "1                615.714                       103   \n",
       "2                359.310                        21   \n",
       "3               1457.550                        72   \n",
       "4                294.400                        16   \n",
       "5                158.176                        57   \n",
       "6                 89.000                         4   \n",
       "7               1079.400                        58   \n",
       "8                459.400                        13   \n",
       "9                829.143                        52   \n",
       "\n",
       "   Average_Days_Between_Purchases  Day_Of_Week  Hour  Is_UK  Cancel_Freq  \\\n",
       "0                           0.000            1    10      1        1.000   \n",
       "1                           2.017            1    14      0        0.000   \n",
       "2                          10.885            3    19      0        0.000   \n",
       "3                           0.000            0     9      0        0.000   \n",
       "4                           0.000            2    16      0        0.000   \n",
       "5                           3.133            1    14      0        1.000   \n",
       "6                           0.000            3    17      0        0.000   \n",
       "7                           0.000            3    13      0        0.000   \n",
       "8                           0.000            0    13      0        0.000   \n",
       "9                           5.316            1     9      0        0.000   \n",
       "\n",
       "   Cancel_Rate  Monthly_Spending_Mean  Monthly_Spending_Std  Spending_Trend  \\\n",
       "0        0.500                  0.000                 0.000           0.000   \n",
       "1        0.000                615.714               341.071           4.486   \n",
       "2        0.000                359.310               203.876        -100.884   \n",
       "3        0.000               1457.550                 0.000           0.000   \n",
       "4        0.000                294.400                 0.000           0.000   \n",
       "5        0.125                316.353               134.701           9.351   \n",
       "6        0.000                 89.000                 0.000           0.000   \n",
       "7        0.000               1079.400                 0.000           0.000   \n",
       "8        0.000                459.400                 0.000           0.000   \n",
       "9        0.000                829.143               991.463        -944.635   \n",
       "\n",
       "   cluster  \n",
       "0        0  \n",
       "1        0  \n",
       "2        0  \n",
       "3        0  \n",
       "4        0  \n",
       "5        3  \n",
       "6        0  \n",
       "7        0  \n",
       "8        0  \n",
       "9        0  "
      ]
     },
     "execution_count": 103,
     "metadata": {},
     "output_type": "execute_result"
    }
   ],
   "source": [
    "data_per_customer['cluster'] = new_labels\n",
    "data_per_customer.head(10)"
   ]
  },
  {
   "cell_type": "markdown",
   "id": "d8977887-88b2-482c-ac01-ea56e9cdce6e",
   "metadata": {},
   "source": [
    "# <center>**7. Visualization**</center>"
   ]
  },
  {
   "cell_type": "markdown",
   "id": "07f37f80-71b0-41bd-b68d-b289bca919b9",
   "metadata": {},
   "source": [
    "In this part, I am going to choose the top 3 PCs (which capture the most variance in the data 60%) and use them to create a 3D visualization. This will allow us to visually inspect the quality of separation and cohesion of clusters to some extent:"
   ]
  },
  {
   "cell_type": "code",
   "execution_count": 104,
   "id": "26b5fb14-2f12-4a70-9a2e-a3c910e93299",
   "metadata": {},
   "outputs": [
    {
     "data": {
      "image/png": "[encoded data removed]",
      "text/plain": [
       "<Figure size 1000x1000 with 1 Axes>"
      ]
     },
     "metadata": {},
     "output_type": "display_data"
    }
   ],
   "source": [
    "ax = plt.subplot(projection=\"3d\")\n",
    "plt.gcf().set_size_inches(10,10)\n",
    "colors = ['#e8000b', '#1ac938', '#023eff', \"#e834eb\"]\n",
    "for i in range(4):\n",
    "    subset = customer_data_pca[customer_data_pca[\"cluster\"] == i].iloc[:,:-1].T.values\n",
    "    ax.scatter(*subset, \n",
    "               s=50,\n",
    "               alpha=.5,\n",
    "               c= colors[i])\n",
    "\n",
    "ax.set_xlabel(\"PC${_1}$\")\n",
    "ax.set_ylabel(\"PC${_2}$\")\n",
    "ax.set_zlabel(\"PC${_3}$\", labelpad=0)\n",
    "\n",
    "plt.tight_layout(pad=-1)\n",
    "ax.zaxis.set_rotate_label(False)\n",
    "plt.legend([\"Cluster {}\".format(i) for i in range(1,5)], frameon=False)\n",
    "plt.title(\"3D Visualization of Customer Clusters in PCA Space\")\n",
    "\n",
    "plt.show()"
   ]
  },
  {
   "cell_type": "markdown",
   "id": "162b7fc8-2270-419a-a894-62fb81bf2e58",
   "metadata": {},
   "source": [
    "**Top 2 PCA plot**"
   ]
  },
  {
   "cell_type": "code",
   "execution_count": 106,
   "id": "e5cc3f35-fb99-4c4c-b22a-8bfd97b86605",
   "metadata": {},
   "outputs": [
    {
     "data": {
      "image/png": "[encoded data removed]",
      "text/plain": [
       "<Figure size 640x480 with 1 Axes>"
      ]
     },
     "metadata": {},
     "output_type": "display_data"
    }
   ],
   "source": [
    "plt.scatter(customer_data_pca[customer_data_pca['cluster']==0]['PC1'], customer_data_pca[customer_data_pca['cluster']==0]['PC2'], color='red')\n",
    "plt.scatter(customer_data_pca[customer_data_pca['cluster']==1]['PC1'], customer_data_pca[customer_data_pca['cluster']==1]['PC2'], color='blue')\n",
    "plt.scatter(customer_data_pca[customer_data_pca['cluster']==2]['PC1'], customer_data_pca[customer_data_pca['cluster']==2]['PC2'], color='cyan')\n",
    "plt.scatter(customer_data_pca[customer_data_pca['cluster']==3]['PC1'], customer_data_pca[customer_data_pca['cluster']==3]['PC2'], color='green')\n",
    "plt.show()"
   ]
  },
  {
   "cell_type": "markdown",
   "id": "8e0fe143-56b6-434b-a8a6-0985252a3da9",
   "metadata": {},
   "source": [
    "**3 PCAs is better to represent clusters than 2PCAs**"
   ]
  },
  {
   "cell_type": "markdown",
   "id": "f3473b56-00ce-4d93-9369-2a68b91d3a7b",
   "metadata": {},
   "source": [
    "# <center>**8. Evaluation**</center>"
   ]
  },
  {
   "cell_type": "markdown",
   "id": "ef200434-1c10-463b-9054-0bb1bdd32b88",
   "metadata": {},
   "source": [
    "- **Silhouette Score:** A measure to evaluate the separation distance between the clusters. Higher values indicate better cluster separation. It ranges from -1 to 1."
   ]
  },
  {
   "cell_type": "code",
   "execution_count": 107,
   "id": "86390a87-6854-4619-8660-6bccc91d49b4",
   "metadata": {},
   "outputs": [
    {
     "name": "stdout",
     "output_type": "stream",
     "text": [
      "0.605662201624319\n"
     ]
    }
   ],
   "source": [
    "# Separate the features and the cluster labels\n",
    "X = customer_data_pca.drop('cluster', axis=1)\n",
    "clusters = customer_data_pca['cluster']\n",
    "\n",
    "# Compute the metrics\n",
    "sil_score = silhouette_score(X, clusters)\n",
    "\n",
    "print(sil_score)"
   ]
  },
  {
   "cell_type": "markdown",
   "id": "aa2fc370-8523-40b3-847a-89451905034b",
   "metadata": {},
   "source": [
    "**Clustering Quality Inference**\n",
    "\n",
    "  - **The Silhouette** Score of approximately 0.3, although not close to 1, still indicates a fair amount of separation between the clusters. It suggests that the clusters are somewhat distinct, but there might be slight overlaps between them. Generally, a score closer to 1 would be ideal, indicating more distinct and well-separated clusters."
   ]
  },
  {
   "cell_type": "markdown",
   "id": "25941996-543f-4122-8cd1-a734afaf2cf8",
   "metadata": {},
   "source": [
    "# <center>**9. Cluster Profiling & Personalization and Recommendations**</center>"
   ]
  },
  {
   "cell_type": "markdown",
   "id": "26d1c930-035a-4d1c-a929-c35baa986961",
   "metadata": {},
   "source": [
    "**- Profiling each cluster by calculating the mean for numerical features and mode for categorical features.**"
   ]
  },
  {
   "cell_type": "code",
   "execution_count": 108,
   "id": "50dcb9e1-d97c-483f-9c08-6eb6ce4a97f3",
   "metadata": {},
   "outputs": [
    {
     "data": {
      "text/html": [
       "<div>\n",
       "<style scoped>\n",
       "    .dataframe tbody tr th:only-of-type {\n",
       "        vertical-align: middle;\n",
       "    }\n",
       "\n",
       "    .dataframe tbody tr th {\n",
       "        vertical-align: top;\n",
       "    }\n",
       "\n",
       "    .dataframe thead th {\n",
       "        text-align: right;\n",
       "    }\n",
       "</style>\n",
       "<table border=\"1\" class=\"dataframe\">\n",
       "  <thead>\n",
       "    <tr style=\"text-align: right;\">\n",
       "      <th></th>\n",
       "      <th>Recency</th>\n",
       "      <th>Frequency</th>\n",
       "      <th>Total_Products_Purchased</th>\n",
       "      <th>Monetary</th>\n",
       "      <th>Avg_Transaction_Value</th>\n",
       "      <th>Unique_Products_Purchase</th>\n",
       "      <th>Average_Days_Between_Purchases</th>\n",
       "      <th>Day_Of_Week</th>\n",
       "      <th>Hour</th>\n",
       "      <th>Is_UK</th>\n",
       "      <th>Cancel_Freq</th>\n",
       "      <th>Cancel_Rate</th>\n",
       "      <th>Monthly_Spending_Mean</th>\n",
       "      <th>Monthly_Spending_Std</th>\n",
       "      <th>Spending_Trend</th>\n",
       "    </tr>\n",
       "    <tr>\n",
       "      <th>cluster</th>\n",
       "      <th></th>\n",
       "      <th></th>\n",
       "      <th></th>\n",
       "      <th></th>\n",
       "      <th></th>\n",
       "      <th></th>\n",
       "      <th></th>\n",
       "      <th></th>\n",
       "      <th></th>\n",
       "      <th></th>\n",
       "      <th></th>\n",
       "      <th></th>\n",
       "      <th></th>\n",
       "      <th></th>\n",
       "      <th></th>\n",
       "    </tr>\n",
       "  </thead>\n",
       "  <tbody>\n",
       "    <tr>\n",
       "      <th>0</th>\n",
       "      <td>325</td>\n",
       "      <td>2</td>\n",
       "      <td>0</td>\n",
       "      <td>0.000</td>\n",
       "      <td>0.000</td>\n",
       "      <td>1</td>\n",
       "      <td>0.000</td>\n",
       "      <td>1</td>\n",
       "      <td>10</td>\n",
       "      <td>1</td>\n",
       "      <td>1.000</td>\n",
       "      <td>0.500</td>\n",
       "      <td>0.000</td>\n",
       "      <td>0.000</td>\n",
       "      <td>0.000</td>\n",
       "    </tr>\n",
       "    <tr>\n",
       "      <th>0</th>\n",
       "      <td>2</td>\n",
       "      <td>7</td>\n",
       "      <td>2458</td>\n",
       "      <td>4310.000</td>\n",
       "      <td>615.714</td>\n",
       "      <td>103</td>\n",
       "      <td>2.017</td>\n",
       "      <td>1</td>\n",
       "      <td>14</td>\n",
       "      <td>0</td>\n",
       "      <td>0.000</td>\n",
       "      <td>0.000</td>\n",
       "      <td>615.714</td>\n",
       "      <td>341.071</td>\n",
       "      <td>4.486</td>\n",
       "    </tr>\n",
       "    <tr>\n",
       "      <th>0</th>\n",
       "      <td>75</td>\n",
       "      <td>4</td>\n",
       "      <td>2332</td>\n",
       "      <td>1437.240</td>\n",
       "      <td>359.310</td>\n",
       "      <td>21</td>\n",
       "      <td>10.885</td>\n",
       "      <td>3</td>\n",
       "      <td>19</td>\n",
       "      <td>0</td>\n",
       "      <td>0.000</td>\n",
       "      <td>0.000</td>\n",
       "      <td>359.310</td>\n",
       "      <td>203.876</td>\n",
       "      <td>-100.884</td>\n",
       "    </tr>\n",
       "    <tr>\n",
       "      <th>0</th>\n",
       "      <td>18</td>\n",
       "      <td>1</td>\n",
       "      <td>630</td>\n",
       "      <td>1457.550</td>\n",
       "      <td>1457.550</td>\n",
       "      <td>72</td>\n",
       "      <td>0.000</td>\n",
       "      <td>0</td>\n",
       "      <td>9</td>\n",
       "      <td>0</td>\n",
       "      <td>0.000</td>\n",
       "      <td>0.000</td>\n",
       "      <td>1457.550</td>\n",
       "      <td>0.000</td>\n",
       "      <td>0.000</td>\n",
       "    </tr>\n",
       "    <tr>\n",
       "      <th>0</th>\n",
       "      <td>310</td>\n",
       "      <td>1</td>\n",
       "      <td>196</td>\n",
       "      <td>294.400</td>\n",
       "      <td>294.400</td>\n",
       "      <td>16</td>\n",
       "      <td>0.000</td>\n",
       "      <td>2</td>\n",
       "      <td>16</td>\n",
       "      <td>0</td>\n",
       "      <td>0.000</td>\n",
       "      <td>0.000</td>\n",
       "      <td>294.400</td>\n",
       "      <td>0.000</td>\n",
       "      <td>0.000</td>\n",
       "    </tr>\n",
       "  </tbody>\n",
       "</table>\n",
       "</div>"
      ],
      "text/plain": [
       "         Recency  Frequency  Total_Products_Purchased  Monetary  \\\n",
       "cluster                                                           \n",
       "0            325          2                         0     0.000   \n",
       "0              2          7                      2458  4310.000   \n",
       "0             75          4                      2332  1437.240   \n",
       "0             18          1                       630  1457.550   \n",
       "0            310          1                       196   294.400   \n",
       "\n",
       "         Avg_Transaction_Value  Unique_Products_Purchase  \\\n",
       "cluster                                                    \n",
       "0                        0.000                         1   \n",
       "0                      615.714                       103   \n",
       "0                      359.310                        21   \n",
       "0                     1457.550                        72   \n",
       "0                      294.400                        16   \n",
       "\n",
       "         Average_Days_Between_Purchases  Day_Of_Week  Hour  Is_UK  \\\n",
       "cluster                                                             \n",
       "0                                 0.000            1    10      1   \n",
       "0                                 2.017            1    14      0   \n",
       "0                                10.885            3    19      0   \n",
       "0                                 0.000            0     9      0   \n",
       "0                                 0.000            2    16      0   \n",
       "\n",
       "         Cancel_Freq  Cancel_Rate  Monthly_Spending_Mean  \\\n",
       "cluster                                                    \n",
       "0              1.000        0.500                  0.000   \n",
       "0              0.000        0.000                615.714   \n",
       "0              0.000        0.000                359.310   \n",
       "0              0.000        0.000               1457.550   \n",
       "0              0.000        0.000                294.400   \n",
       "\n",
       "         Monthly_Spending_Std  Spending_Trend  \n",
       "cluster                                        \n",
       "0                       0.000           0.000  \n",
       "0                     341.071           4.486  \n",
       "0                     203.876        -100.884  \n",
       "0                       0.000           0.000  \n",
       "0                       0.000           0.000  "
      ]
     },
     "execution_count": 108,
     "metadata": {},
     "output_type": "execute_result"
    }
   ],
   "source": [
    "data_per_cluster = data_per_customer.set_index('cluster').drop('CustomerID', axis=1)\n",
    "data_per_cluster.head()"
   ]
  },
  {
   "cell_type": "code",
   "execution_count": 109,
   "id": "02b0775a-eaff-4f58-915e-0910546ab444",
   "metadata": {},
   "outputs": [],
   "source": [
    "Cat_Features = ['Day_Of_Week', 'Hour', 'Is_UK']\n",
    "Num_Features = data_per_cluster.columns.difference(Cat_Features)\n",
    "Cat_Cluster_Profiling = data_per_cluster.groupby('cluster')[Cat_Features].agg(lambda x:x.value_counts().index[0])\n",
    "Num_Cluster_Profiling = data_per_cluster.groupby('cluster')[Num_Features].agg('mean')"
   ]
  },
  {
   "cell_type": "code",
   "execution_count": 110,
   "id": "95b95965-efff-48a5-bf59-e9b70df30534",
   "metadata": {},
   "outputs": [],
   "source": [
    "Features_Cluster_Profiling = Num_Cluster_Profiling.merge(Cat_Cluster_Profiling, on='cluster')"
   ]
  },
  {
   "cell_type": "markdown",
   "id": "1a431eda-8d5a-4a18-918c-d8726744f329",
   "metadata": {},
   "source": [
    "- **Rounding some features values then convert them to integers.**\n",
    "- **This action makes these features more insightful.**"
   ]
  },
  {
   "cell_type": "code",
   "execution_count": 111,
   "id": "e1a132ef-fe45-4c14-b5c2-2afc4d5cd833",
   "metadata": {},
   "outputs": [],
   "source": [
    "round_features = ['Cancel_Freq','Frequency', 'Recency','Total_Products_Purchased', 'Unique_Products_Purchase']"
   ]
  },
  {
   "cell_type": "code",
   "execution_count": 112,
   "id": "c9ab4b9c-3dca-4f06-a12b-884683645ce3",
   "metadata": {},
   "outputs": [],
   "source": [
    "Features_Cluster_Profiling[round_features] = Features_Cluster_Profiling[round_features].round(0).astype(int)"
   ]
  },
  {
   "cell_type": "markdown",
   "id": "97247c0d-cbc5-4d23-9c5b-c702c5afc351",
   "metadata": {},
   "source": [
    "- **Transform Features_Cluster_Profiling table to see each cluster features clearly.**"
   ]
  },
  {
   "cell_type": "code",
   "execution_count": 113,
   "id": "fc1fcac9-0d53-481c-bab7-25902f80c50c",
   "metadata": {},
   "outputs": [
    {
     "data": {
      "text/html": [
       "<div>\n",
       "<style scoped>\n",
       "    .dataframe tbody tr th:only-of-type {\n",
       "        vertical-align: middle;\n",
       "    }\n",
       "\n",
       "    .dataframe tbody tr th {\n",
       "        vertical-align: top;\n",
       "    }\n",
       "\n",
       "    .dataframe thead th {\n",
       "        text-align: right;\n",
       "    }\n",
       "</style>\n",
       "<table border=\"1\" class=\"dataframe\">\n",
       "  <thead>\n",
       "    <tr style=\"text-align: right;\">\n",
       "      <th>cluster</th>\n",
       "      <th>0</th>\n",
       "      <th>1</th>\n",
       "      <th>2</th>\n",
       "      <th>3</th>\n",
       "    </tr>\n",
       "  </thead>\n",
       "  <tbody>\n",
       "    <tr>\n",
       "      <th>Average_Days_Between_Purchases</th>\n",
       "      <td>3.707</td>\n",
       "      <td>0.113</td>\n",
       "      <td>1.064</td>\n",
       "      <td>2.282</td>\n",
       "    </tr>\n",
       "    <tr>\n",
       "      <th>Avg_Transaction_Value</th>\n",
       "      <td>315.185</td>\n",
       "      <td>330.911</td>\n",
       "      <td>599.026</td>\n",
       "      <td>323.512</td>\n",
       "    </tr>\n",
       "    <tr>\n",
       "      <th>Cancel_Freq</th>\n",
       "      <td>0.000</td>\n",
       "      <td>30.000</td>\n",
       "      <td>6.000</td>\n",
       "      <td>2.000</td>\n",
       "    </tr>\n",
       "    <tr>\n",
       "      <th>Cancel_Rate</th>\n",
       "      <td>0.091</td>\n",
       "      <td>0.198</td>\n",
       "      <td>0.175</td>\n",
       "      <td>0.182</td>\n",
       "    </tr>\n",
       "    <tr>\n",
       "      <th>Frequency</th>\n",
       "      <td>3.000</td>\n",
       "      <td>165.000</td>\n",
       "      <td>38.000</td>\n",
       "      <td>12.000</td>\n",
       "    </tr>\n",
       "    <tr>\n",
       "      <th>Monetary</th>\n",
       "      <td>834.765</td>\n",
       "      <td>54423.773</td>\n",
       "      <td>25724.146</td>\n",
       "      <td>4147.108</td>\n",
       "    </tr>\n",
       "    <tr>\n",
       "      <th>Monthly_Spending_Mean</th>\n",
       "      <td>383.484</td>\n",
       "      <td>4186.444</td>\n",
       "      <td>2153.521</td>\n",
       "      <td>575.874</td>\n",
       "    </tr>\n",
       "    <tr>\n",
       "      <th>Monthly_Spending_Std</th>\n",
       "      <td>118.249</td>\n",
       "      <td>2298.868</td>\n",
       "      <td>1616.431</td>\n",
       "      <td>372.911</td>\n",
       "    </tr>\n",
       "    <tr>\n",
       "      <th>Recency</th>\n",
       "      <td>103.000</td>\n",
       "      <td>1.000</td>\n",
       "      <td>9.000</td>\n",
       "      <td>26.000</td>\n",
       "    </tr>\n",
       "    <tr>\n",
       "      <th>Spending_Trend</th>\n",
       "      <td>-33.555</td>\n",
       "      <td>242.239</td>\n",
       "      <td>8.874</td>\n",
       "      <td>12.989</td>\n",
       "    </tr>\n",
       "    <tr>\n",
       "      <th>Total_Products_Purchased</th>\n",
       "      <td>514.000</td>\n",
       "      <td>32883.000</td>\n",
       "      <td>14520.000</td>\n",
       "      <td>2408.000</td>\n",
       "    </tr>\n",
       "    <tr>\n",
       "      <th>Unique_Products_Purchase</th>\n",
       "      <td>44.000</td>\n",
       "      <td>1154.000</td>\n",
       "      <td>211.000</td>\n",
       "      <td>134.000</td>\n",
       "    </tr>\n",
       "    <tr>\n",
       "      <th>Day_Of_Week</th>\n",
       "      <td>3.000</td>\n",
       "      <td>2.000</td>\n",
       "      <td>3.000</td>\n",
       "      <td>3.000</td>\n",
       "    </tr>\n",
       "    <tr>\n",
       "      <th>Hour</th>\n",
       "      <td>12.000</td>\n",
       "      <td>14.000</td>\n",
       "      <td>12.000</td>\n",
       "      <td>12.000</td>\n",
       "    </tr>\n",
       "    <tr>\n",
       "      <th>Is_UK</th>\n",
       "      <td>1.000</td>\n",
       "      <td>1.000</td>\n",
       "      <td>1.000</td>\n",
       "      <td>1.000</td>\n",
       "    </tr>\n",
       "  </tbody>\n",
       "</table>\n",
       "</div>"
      ],
      "text/plain": [
       "cluster                              0         1         2        3\n",
       "Average_Days_Between_Purchases   3.707     0.113     1.064    2.282\n",
       "Avg_Transaction_Value          315.185   330.911   599.026  323.512\n",
       "Cancel_Freq                      0.000    30.000     6.000    2.000\n",
       "Cancel_Rate                      0.091     0.198     0.175    0.182\n",
       "Frequency                        3.000   165.000    38.000   12.000\n",
       "Monetary                       834.765 54423.773 25724.146 4147.108\n",
       "Monthly_Spending_Mean          383.484  4186.444  2153.521  575.874\n",
       "Monthly_Spending_Std           118.249  2298.868  1616.431  372.911\n",
       "Recency                        103.000     1.000     9.000   26.000\n",
       "Spending_Trend                 -33.555   242.239     8.874   12.989\n",
       "Total_Products_Purchased       514.000 32883.000 14520.000 2408.000\n",
       "Unique_Products_Purchase        44.000  1154.000   211.000  134.000\n",
       "Day_Of_Week                      3.000     2.000     3.000    3.000\n",
       "Hour                            12.000    14.000    12.000   12.000\n",
       "Is_UK                            1.000     1.000     1.000    1.000"
      ]
     },
     "execution_count": 113,
     "metadata": {},
     "output_type": "execute_result"
    }
   ],
   "source": [
    "Features_Cluster_Profiling.T"
   ]
  },
  {
   "cell_type": "markdown",
   "id": "b7d25a96-9e8e-47d9-b144-5cf8800dc069",
   "metadata": {},
   "source": [
    "**Customer Profiles Derived from Features_Cluster_Profiling table:**\n",
    "\n",
    "**1. Cluster 0:**\n",
    "\n",
    "  - **Profile:** Sporadic Shoppers with negative spending trend (Need Attention).\n",
    "\n",
    "    - All features are moderate with low frequency which lead to low Monetary.\n",
    "    - **Marketing strategy :** Always we need to be close to them for getting their attention.\n",
    "\n",
    "**2. Cluster 1:**\n",
    "\n",
    "  - **Profile:** Very big spenders with highest positive spending trend(Loyal Customers).\n",
    "\n",
    "    - The highest in features that mean that customer more valuable and profitable in our bussiness.\n",
    "    - The warmest group with highest spending.\n",
    "    - The highest in cancellation frequency.\n",
    "    - Highest Cancellation Rate.\n",
    "    - **Marketing strategy :** More communication to handel the cancellation rate.\n",
    "    - Need more offers to increase average transaction per purchase.\n",
    "\n",
    "\n",
    "**3. Cluster 2:**\n",
    "\n",
    "  - **Profile:** Close to be loyal customers(Diamond group).\n",
    "\n",
    "    - It looks similar like loyal group but lower in frequency and recency which lead to be lower in monetary.\n",
    "    - This group called diamond group and has high potential to lead growth in our bussiness.\n",
    "    - **Marketing strategy :** 70% of our advertisements should direct to this group\n",
    "    - High communication to make longterm partenership.\n",
    "   \n",
    "**4. Cluster 3:**\n",
    "\n",
    "  - **Profile:** Above moderate in spending with high cancellation rate(About to sleep).\n",
    "    \n",
    "     - **Marketing strategy :** More communication to handel the cancellation rate.\n"
   ]
  },
  {
   "cell_type": "code",
   "execution_count": 114,
   "id": "207249c6-f640-4799-87fd-d80128c6a867",
   "metadata": {},
   "outputs": [
    {
     "data": {
      "text/html": [
       "<div>\n",
       "<style scoped>\n",
       "    .dataframe tbody tr th:only-of-type {\n",
       "        vertical-align: middle;\n",
       "    }\n",
       "\n",
       "    .dataframe tbody tr th {\n",
       "        vertical-align: top;\n",
       "    }\n",
       "\n",
       "    .dataframe thead th {\n",
       "        text-align: right;\n",
       "    }\n",
       "</style>\n",
       "<table border=\"1\" class=\"dataframe\">\n",
       "  <thead>\n",
       "    <tr style=\"text-align: right;\">\n",
       "      <th></th>\n",
       "      <th>CustomerID</th>\n",
       "      <th>Recency</th>\n",
       "      <th>Frequency</th>\n",
       "      <th>Total_Products_Purchased</th>\n",
       "      <th>Monetary</th>\n",
       "      <th>Avg_Transaction_Value</th>\n",
       "      <th>Unique_Products_Purchase</th>\n",
       "      <th>Average_Days_Between_Purchases</th>\n",
       "      <th>Day_Of_Week</th>\n",
       "      <th>Hour</th>\n",
       "      <th>Is_UK</th>\n",
       "      <th>Cancel_Freq</th>\n",
       "      <th>Cancel_Rate</th>\n",
       "      <th>Monthly_Spending_Mean</th>\n",
       "      <th>Monthly_Spending_Std</th>\n",
       "      <th>Spending_Trend</th>\n",
       "      <th>cluster</th>\n",
       "    </tr>\n",
       "  </thead>\n",
       "  <tbody>\n",
       "    <tr>\n",
       "      <th>0</th>\n",
       "      <td>12346.0</td>\n",
       "      <td>325</td>\n",
       "      <td>2</td>\n",
       "      <td>0</td>\n",
       "      <td>0.000</td>\n",
       "      <td>0.000</td>\n",
       "      <td>1</td>\n",
       "      <td>0.000</td>\n",
       "      <td>1</td>\n",
       "      <td>10</td>\n",
       "      <td>1</td>\n",
       "      <td>1.000</td>\n",
       "      <td>0.500</td>\n",
       "      <td>0.000</td>\n",
       "      <td>0.000</td>\n",
       "      <td>0.000</td>\n",
       "      <td>0</td>\n",
       "    </tr>\n",
       "    <tr>\n",
       "      <th>1</th>\n",
       "      <td>12347.0</td>\n",
       "      <td>2</td>\n",
       "      <td>7</td>\n",
       "      <td>2458</td>\n",
       "      <td>4310.000</td>\n",
       "      <td>615.714</td>\n",
       "      <td>103</td>\n",
       "      <td>2.017</td>\n",
       "      <td>1</td>\n",
       "      <td>14</td>\n",
       "      <td>0</td>\n",
       "      <td>0.000</td>\n",
       "      <td>0.000</td>\n",
       "      <td>615.714</td>\n",
       "      <td>341.071</td>\n",
       "      <td>4.486</td>\n",
       "      <td>0</td>\n",
       "    </tr>\n",
       "    <tr>\n",
       "      <th>2</th>\n",
       "      <td>12348.0</td>\n",
       "      <td>75</td>\n",
       "      <td>4</td>\n",
       "      <td>2332</td>\n",
       "      <td>1437.240</td>\n",
       "      <td>359.310</td>\n",
       "      <td>21</td>\n",
       "      <td>10.885</td>\n",
       "      <td>3</td>\n",
       "      <td>19</td>\n",
       "      <td>0</td>\n",
       "      <td>0.000</td>\n",
       "      <td>0.000</td>\n",
       "      <td>359.310</td>\n",
       "      <td>203.876</td>\n",
       "      <td>-100.884</td>\n",
       "      <td>0</td>\n",
       "    </tr>\n",
       "    <tr>\n",
       "      <th>3</th>\n",
       "      <td>12349.0</td>\n",
       "      <td>18</td>\n",
       "      <td>1</td>\n",
       "      <td>630</td>\n",
       "      <td>1457.550</td>\n",
       "      <td>1457.550</td>\n",
       "      <td>72</td>\n",
       "      <td>0.000</td>\n",
       "      <td>0</td>\n",
       "      <td>9</td>\n",
       "      <td>0</td>\n",
       "      <td>0.000</td>\n",
       "      <td>0.000</td>\n",
       "      <td>1457.550</td>\n",
       "      <td>0.000</td>\n",
       "      <td>0.000</td>\n",
       "      <td>0</td>\n",
       "    </tr>\n",
       "    <tr>\n",
       "      <th>4</th>\n",
       "      <td>12350.0</td>\n",
       "      <td>310</td>\n",
       "      <td>1</td>\n",
       "      <td>196</td>\n",
       "      <td>294.400</td>\n",
       "      <td>294.400</td>\n",
       "      <td>16</td>\n",
       "      <td>0.000</td>\n",
       "      <td>2</td>\n",
       "      <td>16</td>\n",
       "      <td>0</td>\n",
       "      <td>0.000</td>\n",
       "      <td>0.000</td>\n",
       "      <td>294.400</td>\n",
       "      <td>0.000</td>\n",
       "      <td>0.000</td>\n",
       "      <td>0</td>\n",
       "    </tr>\n",
       "  </tbody>\n",
       "</table>\n",
       "</div>"
      ],
      "text/plain": [
       "  CustomerID  Recency  Frequency  Total_Products_Purchased  Monetary  \\\n",
       "0    12346.0      325          2                         0     0.000   \n",
       "1    12347.0        2          7                      2458  4310.000   \n",
       "2    12348.0       75          4                      2332  1437.240   \n",
       "3    12349.0       18          1                       630  1457.550   \n",
       "4    12350.0      310          1                       196   294.400   \n",
       "\n",
       "   Avg_Transaction_Value  Unique_Products_Purchase  \\\n",
       "0                  0.000                         1   \n",
       "1                615.714                       103   \n",
       "2                359.310                        21   \n",
       "3               1457.550                        72   \n",
       "4                294.400                        16   \n",
       "\n",
       "   Average_Days_Between_Purchases  Day_Of_Week  Hour  Is_UK  Cancel_Freq  \\\n",
       "0                           0.000            1    10      1        1.000   \n",
       "1                           2.017            1    14      0        0.000   \n",
       "2                          10.885            3    19      0        0.000   \n",
       "3                           0.000            0     9      0        0.000   \n",
       "4                           0.000            2    16      0        0.000   \n",
       "\n",
       "   Cancel_Rate  Monthly_Spending_Mean  Monthly_Spending_Std  Spending_Trend  \\\n",
       "0        0.500                  0.000                 0.000           0.000   \n",
       "1        0.000                615.714               341.071           4.486   \n",
       "2        0.000                359.310               203.876        -100.884   \n",
       "3        0.000               1457.550                 0.000           0.000   \n",
       "4        0.000                294.400                 0.000           0.000   \n",
       "\n",
       "   cluster  \n",
       "0        0  \n",
       "1        0  \n",
       "2        0  \n",
       "3        0  \n",
       "4        0  "
      ]
     },
     "execution_count": 114,
     "metadata": {},
     "output_type": "execute_result"
    }
   ],
   "source": [
    "data_per_customer.head()"
   ]
  },
  {
   "cell_type": "code",
   "execution_count": 115,
   "id": "9df68eb5-b7ac-4936-98b2-917b1f9633d1",
   "metadata": {},
   "outputs": [
    {
     "data": {
      "text/html": [
       "<div>\n",
       "<style scoped>\n",
       "    .dataframe tbody tr th:only-of-type {\n",
       "        vertical-align: middle;\n",
       "    }\n",
       "\n",
       "    .dataframe tbody tr th {\n",
       "        vertical-align: top;\n",
       "    }\n",
       "\n",
       "    .dataframe thead th {\n",
       "        text-align: right;\n",
       "    }\n",
       "</style>\n",
       "<table border=\"1\" class=\"dataframe\">\n",
       "  <thead>\n",
       "    <tr style=\"text-align: right;\">\n",
       "      <th></th>\n",
       "      <th>PC1</th>\n",
       "      <th>PC2</th>\n",
       "      <th>PC3</th>\n",
       "      <th>cluster</th>\n",
       "    </tr>\n",
       "    <tr>\n",
       "      <th>CustomerID</th>\n",
       "      <th></th>\n",
       "      <th></th>\n",
       "      <th></th>\n",
       "      <th></th>\n",
       "    </tr>\n",
       "  </thead>\n",
       "  <tbody>\n",
       "    <tr>\n",
       "      <th>12346.0</th>\n",
       "      <td>-3.196</td>\n",
       "      <td>1.486</td>\n",
       "      <td>-0.957</td>\n",
       "      <td>0</td>\n",
       "    </tr>\n",
       "    <tr>\n",
       "      <th>12347.0</th>\n",
       "      <td>1.996</td>\n",
       "      <td>1.559</td>\n",
       "      <td>0.362</td>\n",
       "      <td>0</td>\n",
       "    </tr>\n",
       "    <tr>\n",
       "      <th>12348.0</th>\n",
       "      <td>-1.126</td>\n",
       "      <td>-0.539</td>\n",
       "      <td>0.251</td>\n",
       "      <td>0</td>\n",
       "    </tr>\n",
       "    <tr>\n",
       "      <th>12349.0</th>\n",
       "      <td>-3.962</td>\n",
       "      <td>2.960</td>\n",
       "      <td>1.606</td>\n",
       "      <td>0</td>\n",
       "    </tr>\n",
       "    <tr>\n",
       "      <th>12350.0</th>\n",
       "      <td>-4.202</td>\n",
       "      <td>0.461</td>\n",
       "      <td>-0.123</td>\n",
       "      <td>0</td>\n",
       "    </tr>\n",
       "  </tbody>\n",
       "</table>\n",
       "</div>"
      ],
      "text/plain": [
       "              PC1    PC2    PC3  cluster\n",
       "CustomerID                              \n",
       "12346.0    -3.196  1.486 -0.957        0\n",
       "12347.0     1.996  1.559  0.362        0\n",
       "12348.0    -1.126 -0.539  0.251        0\n",
       "12349.0    -3.962  2.960  1.606        0\n",
       "12350.0    -4.202  0.461 -0.123        0"
      ]
     },
     "execution_count": 115,
     "metadata": {},
     "output_type": "execute_result"
    }
   ],
   "source": [
    "customer_data_pca.head()"
   ]
  },
  {
   "cell_type": "markdown",
   "id": "27d5ee06-8a8f-488f-8162-2f05eb7b5990",
   "metadata": {},
   "source": [
    "### **Recommendation**"
   ]
  },
  {
   "cell_type": "markdown",
   "id": "f9e9f83f-52a5-4e53-8472-691cade517ad",
   "metadata": {},
   "source": [
    "In the final phase of this project, I am set to develop a recommendation system to enhance the online shopping experience. This system will suggest products to customers based on the purchasing patterns prevalent in their respective clusters. \n",
    "Leveraging this information, we will make personalized recommendations, suggesting the top three products popular within their cluster that they have not yet purchased. This not only facilitates targeted marketing strategies but also enriches the personal shopping experience, potentially boosting sales."
   ]
  },
  {
   "cell_type": "markdown",
   "id": "313fb053-dd3e-4bc7-98e0-45887c311914",
   "metadata": {},
   "source": [
    "**Step 1:** Merge the transaction data with the customer data to get the cluster information for each transaction.\n",
    "\n",
    "**Step 2:** Identify the top 10 best-selling products in each cluster based on the total quantity sold."
   ]
  },
  {
   "cell_type": "code",
   "execution_count": 116,
   "id": "ef00b93e-3b06-44ed-9cc1-343ef0749397",
   "metadata": {},
   "outputs": [
    {
     "data": {
      "text/html": [
       "<div>\n",
       "<style scoped>\n",
       "    .dataframe tbody tr th:only-of-type {\n",
       "        vertical-align: middle;\n",
       "    }\n",
       "\n",
       "    .dataframe tbody tr th {\n",
       "        vertical-align: top;\n",
       "    }\n",
       "\n",
       "    .dataframe thead th {\n",
       "        text-align: right;\n",
       "    }\n",
       "</style>\n",
       "<table border=\"1\" class=\"dataframe\">\n",
       "  <thead>\n",
       "    <tr style=\"text-align: right;\">\n",
       "      <th></th>\n",
       "      <th>cluster</th>\n",
       "      <th>StockCode</th>\n",
       "      <th>Description</th>\n",
       "      <th>Quantity</th>\n",
       "    </tr>\n",
       "  </thead>\n",
       "  <tbody>\n",
       "    <tr>\n",
       "      <th>2924</th>\n",
       "      <td>0</td>\n",
       "      <td>84077</td>\n",
       "      <td>WORLD WAR 2 GLIDERS ASSTD DESIGNS</td>\n",
       "      <td>19205</td>\n",
       "    </tr>\n",
       "    <tr>\n",
       "      <th>417</th>\n",
       "      <td>0</td>\n",
       "      <td>21212</td>\n",
       "      <td>PACK OF 72 RETROSPOT CAKE CASES</td>\n",
       "      <td>14163</td>\n",
       "    </tr>\n",
       "    <tr>\n",
       "      <th>29</th>\n",
       "      <td>0</td>\n",
       "      <td>16014</td>\n",
       "      <td>SMALL CHINESE STYLE SCISSOR</td>\n",
       "      <td>13116</td>\n",
       "    </tr>\n",
       "    <tr>\n",
       "      <th>3340</th>\n",
       "      <td>0</td>\n",
       "      <td>85123A</td>\n",
       "      <td>WHITE HANGING HEART T-LIGHT HOLDER</td>\n",
       "      <td>12469</td>\n",
       "    </tr>\n",
       "    <tr>\n",
       "      <th>3161</th>\n",
       "      <td>0</td>\n",
       "      <td>84879</td>\n",
       "      <td>ASSORTED COLOUR BIRD ORNAMENT</td>\n",
       "      <td>11478</td>\n",
       "    </tr>\n",
       "  </tbody>\n",
       "</table>\n",
       "</div>"
      ],
      "text/plain": [
       "      cluster StockCode                         Description  Quantity\n",
       "2924        0     84077   WORLD WAR 2 GLIDERS ASSTD DESIGNS     19205\n",
       "417         0     21212     PACK OF 72 RETROSPOT CAKE CASES     14163\n",
       "29          0     16014         SMALL CHINESE STYLE SCISSOR     13116\n",
       "3340        0    85123A  WHITE HANGING HEART T-LIGHT HOLDER     12469\n",
       "3161        0     84879       ASSORTED COLOUR BIRD ORNAMENT     11478"
      ]
     },
     "execution_count": 116,
     "metadata": {},
     "output_type": "execute_result"
    }
   ],
   "source": [
    "merged_data = Retail_Copy.merge(data_per_customer[['CustomerID', 'cluster']], on='CustomerID', how='inner')\n",
    "\n",
    "best_selling_products = merged_data.groupby(['cluster', 'StockCode', 'Description'])['Quantity'].sum().reset_index()\n",
    "best_selling_products = best_selling_products.sort_values(by=['cluster', 'Quantity'], ascending=[True, False])\n",
    "top_products_per_cluster = best_selling_products.groupby('cluster').head(10)\n",
    "top_products_per_cluster.head()"
   ]
  },
  {
   "cell_type": "markdown",
   "id": "08b7c007-e53a-4578-b7bf-c67cf3ebd3bd",
   "metadata": {},
   "source": [
    "- **Step 3:** Create a record of products purchased by each customer in each cluster."
   ]
  },
  {
   "cell_type": "code",
   "execution_count": 117,
   "id": "4b6ce62e-c0f6-4b87-942a-32e5ce075eb8",
   "metadata": {},
   "outputs": [
    {
     "data": {
      "text/html": [
       "<div>\n",
       "<style scoped>\n",
       "    .dataframe tbody tr th:only-of-type {\n",
       "        vertical-align: middle;\n",
       "    }\n",
       "\n",
       "    .dataframe tbody tr th {\n",
       "        vertical-align: top;\n",
       "    }\n",
       "\n",
       "    .dataframe thead th {\n",
       "        text-align: right;\n",
       "    }\n",
       "</style>\n",
       "<table border=\"1\" class=\"dataframe\">\n",
       "  <thead>\n",
       "    <tr style=\"text-align: right;\">\n",
       "      <th></th>\n",
       "      <th>CustomerID</th>\n",
       "      <th>cluster</th>\n",
       "      <th>StockCode</th>\n",
       "      <th>Quantity</th>\n",
       "    </tr>\n",
       "  </thead>\n",
       "  <tbody>\n",
       "    <tr>\n",
       "      <th>0</th>\n",
       "      <td>12346.0</td>\n",
       "      <td>0</td>\n",
       "      <td>23166</td>\n",
       "      <td>0</td>\n",
       "    </tr>\n",
       "    <tr>\n",
       "      <th>1</th>\n",
       "      <td>12347.0</td>\n",
       "      <td>0</td>\n",
       "      <td>16008</td>\n",
       "      <td>24</td>\n",
       "    </tr>\n",
       "    <tr>\n",
       "      <th>2</th>\n",
       "      <td>12347.0</td>\n",
       "      <td>0</td>\n",
       "      <td>17021</td>\n",
       "      <td>36</td>\n",
       "    </tr>\n",
       "    <tr>\n",
       "      <th>3</th>\n",
       "      <td>12347.0</td>\n",
       "      <td>0</td>\n",
       "      <td>20665</td>\n",
       "      <td>6</td>\n",
       "    </tr>\n",
       "    <tr>\n",
       "      <th>4</th>\n",
       "      <td>12347.0</td>\n",
       "      <td>0</td>\n",
       "      <td>20719</td>\n",
       "      <td>40</td>\n",
       "    </tr>\n",
       "  </tbody>\n",
       "</table>\n",
       "</div>"
      ],
      "text/plain": [
       "  CustomerID  cluster StockCode  Quantity\n",
       "0    12346.0        0     23166         0\n",
       "1    12347.0        0     16008        24\n",
       "2    12347.0        0     17021        36\n",
       "3    12347.0        0     20665         6\n",
       "4    12347.0        0     20719        40"
      ]
     },
     "execution_count": 117,
     "metadata": {},
     "output_type": "execute_result"
    }
   ],
   "source": [
    "customer_purchases = merged_data.groupby(['CustomerID', 'cluster', 'StockCode'])['Quantity'].sum().reset_index()\n",
    "customer_purchases.head()"
   ]
  },
  {
   "cell_type": "markdown",
   "id": "ea115e48-2b4a-4193-a3f3-4d5fc7b4a6ba",
   "metadata": {},
   "source": [
    "**Step 4:** Generate recommendations for each customer in each cluster"
   ]
  },
  {
   "cell_type": "code",
   "execution_count": 118,
   "id": "090c67e7-8198-4261-a53c-4627c3c96b6a",
   "metadata": {},
   "outputs": [],
   "source": [
    "recommendations = []\n",
    "for cluster in top_products_per_cluster['cluster'].unique():\n",
    "    top_products = top_products_per_cluster[top_products_per_cluster['cluster'] == cluster]\n",
    "    customers_in_cluster = data_per_customer[data_per_customer['cluster'] == cluster]['CustomerID']\n",
    "    \n",
    "    for customer in customers_in_cluster:\n",
    "        # Identify products already purchased by the customer\n",
    "        customer_purchased_products = customer_purchases[(customer_purchases['CustomerID'] == customer) & \n",
    "                                                         (customer_purchases['cluster'] == cluster)]['StockCode'].tolist()\n",
    "        \n",
    "        # Find top 3 products in the best-selling list that the customer hasn't purchased yet\n",
    "        top_products_not_purchased = top_products[~top_products['StockCode'].isin(customer_purchased_products)]\n",
    "        top_3_products_not_purchased = top_products_not_purchased.head(3)\n",
    "        \n",
    "        # Append the recommendations to the list\n",
    "        recommendations.append([customer, cluster] + top_3_products_not_purchased\n",
    "        [['StockCode', 'Description']].values.flatten().tolist())\n"
   ]
  },
  {
   "cell_type": "markdown",
   "id": "eb2d8ad3-975c-4aa7-91ae-95152ccef05a",
   "metadata": {},
   "source": [
    "**Step 5:** Create a dataframe from the recommendations list and merge it with the original customer data."
   ]
  },
  {
   "cell_type": "code",
   "execution_count": 119,
   "id": "d71a16a7-a5cb-44c5-bf2b-c01e50eecc48",
   "metadata": {},
   "outputs": [],
   "source": [
    "recommendations_df = pd.DataFrame(recommendations, columns=['CustomerID', 'cluster', 'Rec1_StockCode', 'Rec1_Description', \\\n",
    "                                                 'Rec2_StockCode', 'Rec2_Description', 'Rec3_StockCode', 'Rec3_Description'])\n",
    "customer_data_with_recommendations = data_per_customer.merge(recommendations_df, on=['CustomerID', 'cluster'], how='right')"
   ]
  },
  {
   "cell_type": "markdown",
   "id": "0347cad4-723f-48fb-a855-af265cfba068",
   "metadata": {},
   "source": [
    "**Display 10 random rows from the customer_data_with_recommendations dataframe**"
   ]
  },
  {
   "cell_type": "code",
   "execution_count": 120,
   "id": "77228843-a5f9-4e7b-8f6c-5f1d2363ca5a",
   "metadata": {},
   "outputs": [
    {
     "data": {
      "text/html": [
       "<div>\n",
       "<style scoped>\n",
       "    .dataframe tbody tr th:only-of-type {\n",
       "        vertical-align: middle;\n",
       "    }\n",
       "\n",
       "    .dataframe tbody tr th {\n",
       "        vertical-align: top;\n",
       "    }\n",
       "\n",
       "    .dataframe thead th {\n",
       "        text-align: right;\n",
       "    }\n",
       "</style>\n",
       "<table border=\"1\" class=\"dataframe\">\n",
       "  <thead>\n",
       "    <tr style=\"text-align: right;\">\n",
       "      <th></th>\n",
       "      <th>Rec1_StockCode</th>\n",
       "      <th>Rec1_Description</th>\n",
       "      <th>Rec2_StockCode</th>\n",
       "      <th>Rec2_Description</th>\n",
       "      <th>Rec3_StockCode</th>\n",
       "      <th>Rec3_Description</th>\n",
       "    </tr>\n",
       "    <tr>\n",
       "      <th>CustomerID</th>\n",
       "      <th></th>\n",
       "      <th></th>\n",
       "      <th></th>\n",
       "      <th></th>\n",
       "      <th></th>\n",
       "      <th></th>\n",
       "    </tr>\n",
       "  </thead>\n",
       "  <tbody>\n",
       "    <tr>\n",
       "      <th>16926.0</th>\n",
       "      <td>84077</td>\n",
       "      <td>WORLD WAR 2 GLIDERS ASSTD DESIGNS</td>\n",
       "      <td>21212</td>\n",
       "      <td>PACK OF 72 RETROSPOT CAKE CASES</td>\n",
       "      <td>16014</td>\n",
       "      <td>SMALL CHINESE STYLE SCISSOR</td>\n",
       "    </tr>\n",
       "    <tr>\n",
       "      <th>15636.0</th>\n",
       "      <td>84077</td>\n",
       "      <td>WORLD WAR 2 GLIDERS ASSTD DESIGNS</td>\n",
       "      <td>21212</td>\n",
       "      <td>PACK OF 72 RETROSPOT CAKE CASES</td>\n",
       "      <td>16014</td>\n",
       "      <td>SMALL CHINESE STYLE SCISSOR</td>\n",
       "    </tr>\n",
       "    <tr>\n",
       "      <th>14048.0</th>\n",
       "      <td>84077</td>\n",
       "      <td>WORLD WAR 2 GLIDERS ASSTD DESIGNS</td>\n",
       "      <td>21212</td>\n",
       "      <td>PACK OF 72 RETROSPOT CAKE CASES</td>\n",
       "      <td>16014</td>\n",
       "      <td>SMALL CHINESE STYLE SCISSOR</td>\n",
       "    </tr>\n",
       "    <tr>\n",
       "      <th>14871.0</th>\n",
       "      <td>84077</td>\n",
       "      <td>WORLD WAR 2 GLIDERS ASSTD DESIGNS</td>\n",
       "      <td>21212</td>\n",
       "      <td>PACK OF 72 RETROSPOT CAKE CASES</td>\n",
       "      <td>16014</td>\n",
       "      <td>SMALL CHINESE STYLE SCISSOR</td>\n",
       "    </tr>\n",
       "    <tr>\n",
       "      <th>15374.0</th>\n",
       "      <td>84077</td>\n",
       "      <td>WORLD WAR 2 GLIDERS ASSTD DESIGNS</td>\n",
       "      <td>21212</td>\n",
       "      <td>PACK OF 72 RETROSPOT CAKE CASES</td>\n",
       "      <td>16014</td>\n",
       "      <td>SMALL CHINESE STYLE SCISSOR</td>\n",
       "    </tr>\n",
       "    <tr>\n",
       "      <th>12403.0</th>\n",
       "      <td>84077</td>\n",
       "      <td>WORLD WAR 2 GLIDERS ASSTD DESIGNS</td>\n",
       "      <td>21212</td>\n",
       "      <td>PACK OF 72 RETROSPOT CAKE CASES</td>\n",
       "      <td>16014</td>\n",
       "      <td>SMALL CHINESE STYLE SCISSOR</td>\n",
       "    </tr>\n",
       "    <tr>\n",
       "      <th>13600.0</th>\n",
       "      <td>84077</td>\n",
       "      <td>WORLD WAR 2 GLIDERS ASSTD DESIGNS</td>\n",
       "      <td>21212</td>\n",
       "      <td>PACK OF 72 RETROSPOT CAKE CASES</td>\n",
       "      <td>16014</td>\n",
       "      <td>SMALL CHINESE STYLE SCISSOR</td>\n",
       "    </tr>\n",
       "    <tr>\n",
       "      <th>13936.0</th>\n",
       "      <td>84077</td>\n",
       "      <td>WORLD WAR 2 GLIDERS ASSTD DESIGNS</td>\n",
       "      <td>21212</td>\n",
       "      <td>PACK OF 72 RETROSPOT CAKE CASES</td>\n",
       "      <td>16014</td>\n",
       "      <td>SMALL CHINESE STYLE SCISSOR</td>\n",
       "    </tr>\n",
       "    <tr>\n",
       "      <th>13515.0</th>\n",
       "      <td>84077</td>\n",
       "      <td>WORLD WAR 2 GLIDERS ASSTD DESIGNS</td>\n",
       "      <td>16014</td>\n",
       "      <td>SMALL CHINESE STYLE SCISSOR</td>\n",
       "      <td>84879</td>\n",
       "      <td>ASSORTED COLOUR BIRD ORNAMENT</td>\n",
       "    </tr>\n",
       "    <tr>\n",
       "      <th>16634.0</th>\n",
       "      <td>84077</td>\n",
       "      <td>WORLD WAR 2 GLIDERS ASSTD DESIGNS</td>\n",
       "      <td>21212</td>\n",
       "      <td>PACK OF 72 RETROSPOT CAKE CASES</td>\n",
       "      <td>16014</td>\n",
       "      <td>SMALL CHINESE STYLE SCISSOR</td>\n",
       "    </tr>\n",
       "  </tbody>\n",
       "</table>\n",
       "</div>"
      ],
      "text/plain": [
       "           Rec1_StockCode                   Rec1_Description Rec2_StockCode  \\\n",
       "CustomerID                                                                    \n",
       "16926.0             84077  WORLD WAR 2 GLIDERS ASSTD DESIGNS          21212   \n",
       "15636.0             84077  WORLD WAR 2 GLIDERS ASSTD DESIGNS          21212   \n",
       "14048.0             84077  WORLD WAR 2 GLIDERS ASSTD DESIGNS          21212   \n",
       "14871.0             84077  WORLD WAR 2 GLIDERS ASSTD DESIGNS          21212   \n",
       "15374.0             84077  WORLD WAR 2 GLIDERS ASSTD DESIGNS          21212   \n",
       "12403.0             84077  WORLD WAR 2 GLIDERS ASSTD DESIGNS          21212   \n",
       "13600.0             84077  WORLD WAR 2 GLIDERS ASSTD DESIGNS          21212   \n",
       "13936.0             84077  WORLD WAR 2 GLIDERS ASSTD DESIGNS          21212   \n",
       "13515.0             84077  WORLD WAR 2 GLIDERS ASSTD DESIGNS          16014   \n",
       "16634.0             84077  WORLD WAR 2 GLIDERS ASSTD DESIGNS          21212   \n",
       "\n",
       "                           Rec2_Description Rec3_StockCode  \\\n",
       "CustomerID                                                   \n",
       "16926.0     PACK OF 72 RETROSPOT CAKE CASES          16014   \n",
       "15636.0     PACK OF 72 RETROSPOT CAKE CASES          16014   \n",
       "14048.0     PACK OF 72 RETROSPOT CAKE CASES          16014   \n",
       "14871.0     PACK OF 72 RETROSPOT CAKE CASES          16014   \n",
       "15374.0     PACK OF 72 RETROSPOT CAKE CASES          16014   \n",
       "12403.0     PACK OF 72 RETROSPOT CAKE CASES          16014   \n",
       "13600.0     PACK OF 72 RETROSPOT CAKE CASES          16014   \n",
       "13936.0     PACK OF 72 RETROSPOT CAKE CASES          16014   \n",
       "13515.0         SMALL CHINESE STYLE SCISSOR          84879   \n",
       "16634.0     PACK OF 72 RETROSPOT CAKE CASES          16014   \n",
       "\n",
       "                         Rec3_Description  \n",
       "CustomerID                                 \n",
       "16926.0       SMALL CHINESE STYLE SCISSOR  \n",
       "15636.0       SMALL CHINESE STYLE SCISSOR  \n",
       "14048.0       SMALL CHINESE STYLE SCISSOR  \n",
       "14871.0       SMALL CHINESE STYLE SCISSOR  \n",
       "15374.0       SMALL CHINESE STYLE SCISSOR  \n",
       "12403.0       SMALL CHINESE STYLE SCISSOR  \n",
       "13600.0       SMALL CHINESE STYLE SCISSOR  \n",
       "13936.0       SMALL CHINESE STYLE SCISSOR  \n",
       "13515.0     ASSORTED COLOUR BIRD ORNAMENT  \n",
       "16634.0       SMALL CHINESE STYLE SCISSOR  "
      ]
     },
     "execution_count": 120,
     "metadata": {},
     "output_type": "execute_result"
    }
   ],
   "source": [
    "customer_data_with_recommendations.set_index('CustomerID').iloc[:, -6:].sample(10, random_state=0)"
   ]
  },
  {
   "cell_type": "markdown",
   "id": "d35b0bba-fc70-4154-b5fc-b1d58e49d02a",
   "metadata": {},
   "source": [
    "# <center>**10. Interpretation and Insights**</center>"
   ]
  },
  {
   "cell_type": "markdown",
   "id": "6a64f1bb-bd61-4d47-8606-3e162e282f1b",
   "metadata": {},
   "source": [
    "1. Clustering our customers to distinct groups with common characteristics help in custimizing your marketing stratigy to be more efficient.\n",
    "2. Not all customers can be handeled or made them more engaged by the same way.\n",
    "3. Some customers may be have some issues and need to deep comunication to identify the problem and handel them, like group with high cancellation rate.\n",
    "4. The core of our bussiness is located in UK and this give us two information:\n",
    "  - **first:** We must focus and study UK market deeply and keep updated about this market since it represent our bussiness.\n",
    "  - **second:** We great oppertunity to grow through markets other than UK, specially those we have already customers there.\n",
    "\n",
    "5. Create Recommindaton system using machine learning is magical tool to promot the right product to the right customer.\n",
    "6. **Customer retention strategies:**\n",
    "  - Customer with high recency and low frequency need more adds.\n",
    "  - Customer with high cancellation rate need more communication.\n",
    "  - Customer with low Unique Products Purchase need more offers with products purchaed in the same cluster.\n",
    "  - And so on for all features we can tailor retention and marketing strategies\n"
   ]
  },
  {
   "cell_type": "markdown",
   "id": "792817e8-647a-44b6-9ed7-a14999984739",
   "metadata": {},
   "source": [
    "# <center>**THANKS**</center>"
   ]
  }
 ],
 "metadata": {
  "kernelspec": {
   "display_name": "Python 3 (ipykernel)",
   "language": "python",
   "name": "python3"
  },
  "language_info": {
   "codemirror_mode": {
    "name": "ipython",
    "version": 3
   },
   "file_extension": ".py",
   "mimetype": "text/x-python",
   "name": "python",
   "nbconvert_exporter": "python",
   "pygments_lexer": "ipython3",
   "version": "3.12.7"
  }
 },
 "nbformat": 4,
 "nbformat_minor": 5
}
